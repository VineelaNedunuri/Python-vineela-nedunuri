{
 "cells": [
  {
   "cell_type": "markdown",
   "metadata": {},
   "source": [
    "# Explore\n"
   ]
  },
  {
   "cell_type": "markdown",
   "metadata": {},
   "source": [
    "- # [[Python]]\n",
    "\t  #course #[[Kokchun Giang]]\n",
    "\t\t- ### Course intro\n",
    "\t\t\t- Install Python\n",
    "\t\t\t- Go over course PM\n",
    "\t\t\t- ### Getting started with a new course\n",
    "\t\t\t\t- Create new repository in GitHub\n",
    "\t\t\t\t\t- This is done for every new course\n",
    "\t\t\t\t\t- Add readme\n",
    "\t\t\t\t\t- Add gitignore: Python\n",
    "\t\t\t\t\t- What is gitignore? #card #python\n",
    "\t\t\t\t\t\t- Used for ignoring various garbage files\n",
    "\t\t\t\t\t\t- Or files that don't need to be synced when pushing\n",
    "\t\t\t\t\t- Copy repo code\n",
    "\t\t\t\t\t- Go to local GitHub folder\n",
    "\t\t\t\t\t- Right click - bash here\n",
    "\t\t\t\t\t- Write git clone + paste\n",
    "\t\t\t\t\t- VS Code -> file -> open folder -> select repository\n",
    "\t\t\t\t\t- Terminal -> new terminal\n",
    "\t\t\t\t\t- Write \"python\" in terminal\n",
    "\t\t\t\t\t\t- If path problem (nothing appears)\n",
    "\t\t\t\t\t\t\t- Restart VS code or PC\n",
    "\t\t\t\t\t\t\t- This PC -> properties -> advanced system settings -> environment variables... -> double click path -> should see 2 python and 1 pip\n",
    "\t\t\t\t\t\t\t\t- If not found -> new -> browse -> user -> appdata -> local -> pip\n",
    "\t\t\t\t\t\t\t\t- If not found still -> win + r -> cmd -> \"pip\" in terminal -> if the command runs it works\n",
    "\t\t\t\t\t- Write \"pipenv\" in terminal\n",
    "\t\t\t\t\t\t- If error\n",
    "\t\t\t\t\t\t\t- \"pip install pipenv\" in terminal\n",
    "\t\t\t\t\t- Write \"pipenv install ipykernel\" in terminal\n",
    "\t\t\t\t\t\t- What is ipykernel used for? #card #Python #gap\n",
    "\t\t\t\t\t\t\t- \"Because there is a magical way to work\" - Kokchun 2022\n",
    "\t\t\t\t\t- There should now be a Pipfile containing python_version and ipykernel\n",
    "\t\t\t\t\t- Go to extensions -> search \"python\" -> install \"Python\" from microsoft\n",
    "\t\t\t\t\t- New file -> test.ipynb\n",
    "\t\t\t\t\t- Change python version in top right corner to the newly installed virtual environment (the folder created in the start)\n",
    "\t\t\t\t\t- Write \"pipenv install matplotlib\" in terminal"
   ]
  }
 ],
 "metadata": {
  "kernelspec": {
   "display_name": "Python 3.9.13 ('Python-vineela-nedunuri-iPG0HSA5')",
   "language": "python",
   "name": "python3"
  },
  "language_info": {
   "name": "python",
   "version": "3.9.13"
  },
  "orig_nbformat": 4,
  "vscode": {
   "interpreter": {
    "hash": "1db1b2e8567942dee12c64de01d929677cea7f86428756000840da4d34ce3db5"
   }
  }
 },
 "nbformat": 4,
 "nbformat_minor": 2
}
