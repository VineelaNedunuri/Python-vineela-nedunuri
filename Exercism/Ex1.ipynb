{
 "cells": [
  {
   "cell_type": "markdown",
   "metadata": {},
   "source": [
    "## 1. Check for criticality\n",
    "The first thing a control system has to do is check if the reactor is balanced in criticality. A reactor is said to be critical if it satisfies the following conditions:\n",
    "\n",
    "- The temperature is less than 800 K.\n",
    "- The number of neutrons emitted per second is greater than 500.\n",
    "- The product of temperature and neutrons emitted per second is less than 500000.\n",
    "- Implement the function is_criticality_balanced() that takes temperature measured in kelvin and neutrons_emitted as parameters, and returns True if the criticality conditions are met, False if not."
   ]
  },
  {
   "cell_type": "code",
   "execution_count": 5,
   "metadata": {},
   "outputs": [
    {
     "data": {
      "text/plain": [
       "False"
      ]
     },
     "execution_count": 5,
     "metadata": {},
     "output_type": "execute_result"
    }
   ],
   "source": [
    "from __future__ import annotations\n",
    "\"\"\"for type hinting\"\"\"\n",
    "def is_criticality_balanced(temperature:(int|float), neutrons_emitted:(int|float)):\n",
    "    \"\"\"Check for criticality condition returns True if the criticality conditions are met\"\"\"\n",
    "    if (temperature < 800 \n",
    "    and neutrons_emitted > 500 \n",
    "    and temperature * neutrons_emitted < 500000):\n",
    "        return True\n",
    "    else:\n",
    "        return False   \n",
    "#is_criticality_balanced(750, 600)\n",
    "is_criticality_balanced(900, 400)\n"
   ]
  },
  {
   "cell_type": "markdown",
   "metadata": {},
   "source": [
    "## 2. Determine the Power output range\n",
    "Once the reactor has started producing power its efficiency needs to be determined. Efficiency can be grouped into 4 bands:\n",
    "\n",
    "- green -> efficiency of 80% or more,\n",
    "- orange -> efficiency of less than 80% but at least 60%,\n",
    "- red -> efficiency below 60%, but still 30% or more,\n",
    "- black -> less than 30% efficient.\n",
    "- The percentage value can be calculated as (generated_power/theoretical_max_power)*100 where generated_power = voltage * current. Note that the percentage value is usually not an integer number, so make sure to consider the proper use of the < and <= comparisons.\n",
    "\n",
    "- Implement the function reactor_efficiency(<voltage>, <current>, <theoretical_max_power>), with three parameters: voltage, current, and theoretical_max_power. This function should return the efficiency band of the reactor : 'green', 'orange', 'red', or 'black'.\n",
    "\n"
   ]
  },
  {
   "cell_type": "code",
   "execution_count": 8,
   "metadata": {},
   "outputs": [
    {
     "data": {
      "text/plain": [
       "'orange'"
      ]
     },
     "execution_count": 8,
     "metadata": {},
     "output_type": "execute_result"
    }
   ],
   "source": [
    "def reactor_efficiency(voltage: (int|float), curent:(int|float), theoretical_max_power: (int|float)):\n",
    "    \"\"\"Output depends on efficiency\"\"\"\n",
    "    generated_power = voltage * curent\n",
    "    efficiency = (generated_power/theoretical_max_power)*100\n",
    "    if efficiency >= 80:\n",
    "        return \"green\"\n",
    "    if  60 <= efficiency < 80:\n",
    "        return \"orange\"\n",
    "    if  30 <= efficiency  < 60:\n",
    "        return \"red\"\n",
    "    if  efficiency < 30:\n",
    "        return \"black\" \n",
    "    # if 30 < efficiency -> 30 är minre än värdet - värdet måste vara  över 30\n",
    "    # if  efficiency > 30  -> värdet är större än 30 - värdet måste vara  över 30\n",
    "    # if efficiency < 30  -> värdet är mindre än 30 - värdet måste vara under 30\n",
    "    # if 30 > efficiency   ->  30  är större än värdet- värdet måste vara under 30\n",
    "\n",
    "reactor_efficiency(200,50,15000)\n",
    "\n"
   ]
  },
  {
   "cell_type": "markdown",
   "metadata": {},
   "source": [
    " ## 3. Fail Safe Mechanism\n",
    "Your final task involves creating a fail-safe mechanism to avoid overload and meltdown. This mechanism will determine if the reactor is below, at, or above the ideal criticality threshold. Criticality can then be increased, decreased, or stopped by inserting (or removing) control rods into the reactor.\n",
    "\n",
    "- Implement the function called fail_safe(), which takes 3 parameters: temperature measured in kelvin, neutrons_produced_per_second, and threshold, and outputs a status code for the reactor.\n",
    "\n",
    "- If temperature * neutrons_produced_per_second < 90% of threshold, output a status code of 'LOW' indicating that control rods must be removed to produce power.\n",
    "\n",
    "- If temperature * neutrons_produced_per_second are within plus or minus 10% of the threshold the reactor is in criticality and the status code of 'NORMAL' should be output, indicating that the reactor is in optimum condition and control rods are in an ideal position.\n",
    "\n",
    "- If temperature * neutrons_produced_per_second is not in the above-stated ranges, the reactor is going into meltdown and a status code of 'DANGER' must be passed to immediately shut down the reactor."
   ]
  },
  {
   "cell_type": "code",
   "execution_count": 9,
   "metadata": {},
   "outputs": [
    {
     "data": {
      "text/plain": [
       "'DANGER'"
      ]
     },
     "execution_count": 9,
     "metadata": {},
     "output_type": "execute_result"
    }
   ],
   "source": [
    "def fail_safe(temperature:(int|float), neutrons_produced_per_second:(int|float), threshold:(int|float)):\n",
    "    \"\"\"fail_safe to avoid overload and meltdown and determines if reactor is below, at or  above ideal criticality threshold\"\"\"\n",
    "    \n",
    "    if temperature * neutrons_produced_per_second < threshold *.9:\n",
    "        return \"Low\"\n",
    "    if threshold*.9 < temperature * neutrons_produced_per_second < threshold*1.1: #  minus 10% ->100-10 = 90 and plus 10% ->100 + 10 = 101 of threshold\n",
    "        return \"NORMAL\"\n",
    "    if temperature * neutrons_produced_per_second > 1.1 * threshold:\n",
    "        return \"DANGER\"    \n",
    "    \n",
    "fail_safe(temperature=1000, neutrons_produced_per_second=30, threshold=5000)\n"
   ]
  }
 ],
 "metadata": {
  "kernelspec": {
   "display_name": "Python 3.9.13 ('Python-vineela-nedunuri-iPG0HSA5')",
   "language": "python",
   "name": "python3"
  },
  "language_info": {
   "codemirror_mode": {
    "name": "ipython",
    "version": 3
   },
   "file_extension": ".py",
   "mimetype": "text/x-python",
   "name": "python",
   "nbconvert_exporter": "python",
   "pygments_lexer": "ipython3",
   "version": "3.9.13"
  },
  "orig_nbformat": 4,
  "vscode": {
   "interpreter": {
    "hash": "1db1b2e8567942dee12c64de01d929677cea7f86428756000840da4d34ce3db5"
   }
  }
 },
 "nbformat": 4,
 "nbformat_minor": 2
}
