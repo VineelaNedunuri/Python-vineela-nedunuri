{
 "cells": [
  {
   "cell_type": "markdown",
   "metadata": {},
   "source": [
    "## 1. Add a prefix to a word\n",
    "One of the most common prefixes in English is un, meaning \"not\". In this activity, your sister needs to make negative, or \"not\" words by adding un to them.\n",
    "\n",
    "Implement the add_prefix_un() function that takes word as a parameter and returns a new un prefixed word:\n",
    "\n",
    "- >>> add_prefix_un(\"happy\")\n",
    "'unhappy'\n",
    "\n",
    "- >>> add_prefix_un(\"manageable\")\n",
    "'unmanageable'"
   ]
  },
  {
   "cell_type": "code",
   "execution_count": 13,
   "metadata": {},
   "outputs": [
    {
     "data": {
      "text/plain": [
       "'unhappy'"
      ]
     },
     "execution_count": 13,
     "metadata": {},
     "output_type": "execute_result"
    }
   ],
   "source": [
    "def add_prefix_un(word: str)-> str:\n",
    "    return \"un\" + word\n",
    "\n",
    "add_prefix_un(\"happy\")\n"
   ]
  },
  {
   "cell_type": "markdown",
   "metadata": {},
   "source": [
    "2. Add prefixes to word groups\n",
    "There are four more common prefixes that your sister's class is studying: en (meaning to 'put into' or 'cover with'), pre (meaning 'before' or 'forward'), auto (meaning 'self' or 'same'), and inter (meaning 'between' or 'among').\n",
    "\n",
    "In this exercise, the class is creating groups of vocabulary words using these prefixes, so they can be studied together. Each prefix comes in a list with common words it's used with. The students need to apply the prefix and produce a string that shows the prefix applied to all of the words.\n",
    "\n",
    "Implement the make_word_groups(<vocab_words>) function that takes a vocab_words as a parameter in the following form: [<prefix>, <word_1>, <word_2> .... <word_n>], and returns a string with the prefix applied to each word that looks like: '<prefix> :: <prefix><word_1> :: <prefix><word_2> :: <prefix><word_n>'.\n",
    "\n",
    "- >>> make_word_groups(['en', 'close', 'joy', 'lighten'])\n",
    "'en :: enclose :: enjoy :: enlighten'\n",
    "\n",
    "- >>> make_word_groups(['pre', 'serve', 'dispose', 'position'])\n",
    "'pre :: preserve :: predispose :: preposition'\n",
    "\n",
    "- >> make_word_groups(['auto', 'didactic', 'graph', 'mate'])\n",
    "'auto :: autodidactic :: autograph :: automate'\n",
    "\n",
    "- >>> make_word_groups(['inter', 'twine', 'connected', 'dependent'])\n",
    "'inter :: intertwine :: interconnected :: interdependent'"
   ]
  },
  {
   "cell_type": "code",
   "execution_count": 18,
   "metadata": {},
   "outputs": [
    {
     "name": "stdout",
     "output_type": "stream",
     "text": [
      "en::enclose::enjoy::enlighten\n",
      "\n",
      "pre::preserve::predispose::preposition\n",
      "\n",
      "auto::autodidactic::autograph::automate\n",
      "\n",
      "inter::intertwine::interconnected::interdependent\n"
     ]
    }
   ],
   "source": [
    "def make_word_groups(vocab_words:list)-> str:\n",
    "    result = vocab_words[0]\n",
    "    for i in range(len(vocab_words)):\n",
    "        if i > 0:\n",
    "            result += '::' +vocab_words[0] + vocab_words[i]\n",
    "    return result \n",
    "\n",
    "\n",
    "\n",
    "\n",
    "print(make_word_groups(['en', 'close', 'joy', 'lighten']))\n",
    "print()\n",
    "print(make_word_groups(['pre', 'serve', 'dispose', 'position']))\n",
    "\n",
    "print()\n",
    "print(make_word_groups(['auto', 'didactic', 'graph', 'mate']))\n",
    "print()\n",
    "\n",
    "print(make_word_groups(['inter', 'twine', 'connected', 'dependent']))\n",
    "        \n"
   ]
  }
 ],
 "metadata": {
  "kernelspec": {
   "display_name": "Python 3.9.13 ('Python-vineela-nedunuri-iPG0HSA5')",
   "language": "python",
   "name": "python3"
  },
  "language_info": {
   "codemirror_mode": {
    "name": "ipython",
    "version": 3
   },
   "file_extension": ".py",
   "mimetype": "text/x-python",
   "name": "python",
   "nbconvert_exporter": "python",
   "pygments_lexer": "ipython3",
   "version": "3.9.13"
  },
  "orig_nbformat": 4,
  "vscode": {
   "interpreter": {
    "hash": "1db1b2e8567942dee12c64de01d929677cea7f86428756000840da4d34ce3db5"
   }
  }
 },
 "nbformat": 4,
 "nbformat_minor": 2
}
