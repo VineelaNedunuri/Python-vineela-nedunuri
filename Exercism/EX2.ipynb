{
 "cells": [
  {
   "cell_type": "markdown",
   "metadata": {},
   "source": [
    "## 1. Add a prefix to a word\n",
    "One of the most common prefixes in English is un, meaning \"not\". In this activity, your sister needs to make negative, or \"not\" words by adding un to them.\n",
    "\n",
    "Implement the add_prefix_un() function that takes word as a parameter and returns a new un prefixed word:\n",
    "\n",
    "- >>> add_prefix_un(\"happy\")\n",
    "'unhappy'\n",
    "\n",
    "- >>> add_prefix_un(\"manageable\")\n",
    "'unmanageable'"
   ]
  },
  {
   "cell_type": "code",
   "execution_count": 13,
   "metadata": {},
   "outputs": [
    {
     "data": {
      "text/plain": [
       "'unhappy'"
      ]
     },
     "execution_count": 13,
     "metadata": {},
     "output_type": "execute_result"
    }
   ],
   "source": [
    "def add_prefix_un(word: str)-> str:\n",
    "    \"\"\" Add prefix  un to word\"\"\"\n",
    "    return \"un\" + word\n",
    "\n",
    "add_prefix_un(\"happy\")\n"
   ]
  },
  {
   "cell_type": "markdown",
   "metadata": {},
   "source": [
    "2. Add prefixes to word groups\n",
    "There are four more common prefixes that your sister's class is studying: en (meaning to 'put into' or 'cover with'), pre (meaning 'before' or 'forward'), auto (meaning 'self' or 'same'), and inter (meaning 'between' or 'among').\n",
    "\n",
    "In this exercise, the class is creating groups of vocabulary words using these prefixes, so they can be studied together. Each prefix comes in a list with common words it's used with. The students need to apply the prefix and produce a string that shows the prefix applied to all of the words.\n",
    "\n",
    "Implement the make_word_groups(<vocab_words>) function that takes a vocab_words as a parameter in the following form: [<prefix>, <word_1>, <word_2> .... <word_n>], and returns a string with the prefix applied to each word that looks like: '<prefix> :: <prefix><word_1> :: <prefix><word_2> :: <prefix><word_n>'.\n",
    "\n",
    "- >>> make_word_groups(['en', 'close', 'joy', 'lighten'])\n",
    "'en :: enclose :: enjoy :: enlighten'\n",
    "\n",
    "- >>> make_word_groups(['pre', 'serve', 'dispose', 'position'])\n",
    "'pre :: preserve :: predispose :: preposition'\n",
    "\n",
    "- >> make_word_groups(['auto', 'didactic', 'graph', 'mate'])\n",
    "'auto :: autodidactic :: autograph :: automate'\n",
    "\n",
    "- >>> make_word_groups(['inter', 'twine', 'connected', 'dependent'])\n",
    "'inter :: intertwine :: interconnected :: interdependent'"
   ]
  },
  {
   "cell_type": "code",
   "execution_count": 34,
   "metadata": {},
   "outputs": [
    {
     "name": "stdout",
     "output_type": "stream",
     "text": [
      "en::enclose::enjoy::enlighten\n",
      "\n",
      "pre::preserve::predispose::preposition\n",
      "\n",
      "auto::autodidactic::autograph::automate\n",
      "\n",
      "inter::intertwine::interconnected::interdependent\n"
     ]
    }
   ],
   "source": [
    "def make_word_groups(vocab_words:list)-> str:\n",
    "    \"\"\"Add prefix to word  to list \"\"\"\n",
    "    result = vocab_words[0]\n",
    "    for index , element in enumerate(vocab_words):\n",
    "        if index > 0:\n",
    "            result += '::' +vocab_words[0] + vocab_words[index]\n",
    "    return result \n",
    "\n",
    "\n",
    "\n",
    "\n",
    "print(make_word_groups(['en', 'close', 'joy', 'lighten']))\n",
    "print()\n",
    "print(make_word_groups(['pre', 'serve', 'dispose', 'position']))\n",
    "\n",
    "print()\n",
    "print(make_word_groups(['auto', 'didactic', 'graph', 'mate']))\n",
    "print()\n",
    "\n",
    "print(make_word_groups(['inter', 'twine', 'connected', 'dependent']))\n",
    "        \n"
   ]
  },
  {
   "cell_type": "markdown",
   "metadata": {},
   "source": [
    "## 3. Remove a suffix from a word\n",
    "ness is a common suffix that means 'state of being'. In this activity, your sister needs to find the original root word by removing the ness suffix. But of course there are pesky spelling rules: If the root word originally ended in a consonant followed by a 'y', then the 'y' was changed to 'i'. Removing 'ness' needs to restore the 'y' in those root words. e.g. happiness --> happi --> happy.\n",
    "\n",
    "Implement the remove_suffix_ness(<word>) function that takes in a word str, and returns the root word without the ness suffix.\n",
    "\n",
    "- >>> remove_suffix_ness(\"heaviness\")\n",
    "'heavy'\n",
    "\n",
    "- >>> remove_suffix_ness(\"sadness\")"
   ]
  },
  {
   "cell_type": "code",
   "execution_count": 38,
   "metadata": {},
   "outputs": [
    {
     "name": "stdout",
     "output_type": "stream",
     "text": [
      "heavy\n",
      "sad\n"
     ]
    }
   ],
   "source": [
    "def remove_suffix_ness(word:str)->str:\n",
    "\n",
    "    \"\"\"Remove suffix from a word\"\"\"\n",
    "    if word[-5] == \"i\":\n",
    "        return word.replace(\"iness\", \"y\") # # heaviness - iness + y = heavy\n",
    "    else:\n",
    "        return word.replace(\"ness\", \"\") # sadness - ness = sad\n",
    "\n",
    "print(remove_suffix_ness(\"heaviness\"))\n",
    "print(remove_suffix_ness(\"sadness\"))\n",
    "\n",
    "     "
   ]
  },
  {
   "cell_type": "markdown",
   "metadata": {},
   "source": [
    "## 4. Extract and transform a word\n",
    "Suffixes are often used to change the part of speech a word has. A common practice in English is \"verbing\" or \"verbifying\" -- where an adjective becomes a verb by adding an en suffix.\n",
    "\n",
    "In this task, your sister is going to practice \"verbing\" words by extracting an adjective from a sentence and turning it into a verb. Fortunately, all the words that need to be transformed here are \"regular\" - they don't need spelling changes to add the suffix.\n",
    "\n",
    "Implement the adjective_to_verb(<sentence>, <index>) function that takes two parameters. A sentence using the vocabulary word, and the index of the word, once that sentence is split apart. The function should return the extracted adjective as a verb.\n",
    "\n",
    "- >>> adjective_to_verb('I need to make that bright.', -1 )\n",
    "'brighten'\n",
    "\n",
    "- >>> adjective_to_verb('It got dark as the sun set.', 2)\n",
    "'darken'"
   ]
  },
  {
   "cell_type": "code",
   "execution_count": 39,
   "metadata": {},
   "outputs": [
    {
     "name": "stdout",
     "output_type": "stream",
     "text": [
      "brighten\n",
      "darken\n"
     ]
    }
   ],
   "source": [
    "def adjective_to_verb(sentence:str, index:int)-> str:\n",
    "    word_list = sentence.split()\n",
    "\n",
    "    return word_list[index].strip(\".\") + \"en\"\n",
    "\n",
    "print(adjective_to_verb(\"i need to make that bright\", -1))\n",
    "print( adjective_to_verb('It got dark as the sun set.', 2))\n",
    "\n",
    "        "
   ]
  }
 ],
 "metadata": {
  "kernelspec": {
   "display_name": "Python 3.9.13 ('Python-vineela-nedunuri-iPG0HSA5')",
   "language": "python",
   "name": "python3"
  },
  "language_info": {
   "codemirror_mode": {
    "name": "ipython",
    "version": 3
   },
   "file_extension": ".py",
   "mimetype": "text/x-python",
   "name": "python",
   "nbconvert_exporter": "python",
   "pygments_lexer": "ipython3",
   "version": "3.9.13"
  },
  "orig_nbformat": 4,
  "vscode": {
   "interpreter": {
    "hash": "1db1b2e8567942dee12c64de01d929677cea7f86428756000840da4d34ce3db5"
   }
  }
 },
 "nbformat": 4,
 "nbformat_minor": 2
}
