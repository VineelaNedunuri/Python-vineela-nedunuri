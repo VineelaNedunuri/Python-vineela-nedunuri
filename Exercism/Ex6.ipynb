{
 "cells": [
  {
   "cell_type": "markdown",
   "metadata": {},
   "source": [
    "## Instructions\n",
    "- Correctly determine the fewest number of coins to be given to a customer such that the sum of the coins' value would equal the correct amount of change.\n",
    "\n",
    "For example\n",
    "- An input of 15 with [1, 5, 10, 25, 100] should return one nickel (5) and one dime (10) or [5, 10]\n",
    "- An input of 40 with [1, 5, 10, 25, 100] should return one nickel (5) and one dime (10) and one quarter (25) or [5, 10, 25]\n",
    "Edge cases\n",
    "- Does your algorithm work for any given set of coins?\n",
    "- Can you ask for negative change?\n",
    "- Can you ask for a change value smaller than the smallest coin value?\n",
    "Exception messages\n",
    "- Sometimes it is necessary to raise an exception. When you do this, you should always include a meaningful error message to indicate what the source of the error is. This makes your code more readable and helps significantly with debugging. For situations where you know that the error source will be a certain type, you can choose to raise one of the built in error types, but should still include a meaningful message.\n",
    "\n",
    "- This particular exercise requires that you use the raise statement to \"throw\" a ValueError when change cannot be made with the coins given. The tests will only pass if you both raise the exception and include a message with it.\n",
    "\n",
    "- To raise a ValueError with a message, write the message as an argument to the exception type:\n",
    "\n",
    "- example when change cannot be made with the coins passed in\n",
    "raise ValueError(\"can't make target with given coins\")\n"
   ]
  },
  {
   "cell_type": "code",
   "execution_count": 17,
   "metadata": {},
   "outputs": [],
   "source": [
    "from __future__ import annotations\n",
    "\n",
    "def find_fewest_coins(coins:(int|float), target:list)-> list:\n",
    "    # coins is int or float\n",
    "    if not isinstance(coins, (int,float)):\n",
    "        raise TypeError(f\" Coins must be a number, not{type(coins).__name__}\")\n",
    "    # coins is not negative\n",
    "    if coins < 0:\n",
    "        raise ValueError(f\"coins must be grater than zero, not {coins}\")\n",
    "    # target is list\n",
    "    if type(target) != list:\n",
    "        raise TypeError(f\"Target must be list , not {type(target).__name__}\")\n",
    "    # taget contain only int or float\n",
    "    for index, value in enumerate(target):\n",
    "        if not isinstance(value, (int,float)):\n",
    "            raise TypeError(f\"targetmust contain numbers,valu at index {index} {value}is not accepted\")\n",
    "        if value <= 0:\n",
    "            raise ValueError(f\"Target must contain value over 0,valu at index {index} {value}is not accepted \")\n",
    "    # coins = 17, target = [1,5,10]\n",
    "    return_list = []\n",
    "    #for index, value in enumerate(target):\n",
    "     #   if index+1 == len(target) and coins != 0:\n",
    "      #      return_list.append(coins // value)\n",
    "       # else:\n",
    "        #    count = coins % target[index+1]\n",
    "         #   for i in range(count // value):\n",
    "          #      return_list.append(value)\n",
    "           # coins -= count\n",
    "        #return return_list\n",
    "   \n",
    "    for value in reversed(target):\n",
    "        while True:\n",
    "            if (coins- value) >= 0:\n",
    "                coins -= value\n",
    "                return_list.append(value)\n",
    "            else:\n",
    "                break\n",
    "    return return_list[::-1]        \n",
    "\n"
   ]
  },
  {
   "cell_type": "code",
   "execution_count": 21,
   "metadata": {},
   "outputs": [
    {
     "data": {
      "text/plain": [
       "[5, 10, 25]"
      ]
     },
     "execution_count": 21,
     "metadata": {},
     "output_type": "execute_result"
    }
   ],
   "source": [
    "find_fewest_coins(40, [1, 5, 10, 25, 100])"
   ]
  },
  {
   "cell_type": "code",
   "execution_count": null,
   "metadata": {},
   "outputs": [],
   "source": [
    "def change():\n",
    "    pengar = int(input(\"Ange ett heltal\"))\n",
    "    enkronor = pengar % 10\n",
    "    tiokronor = (pengar % 200 - enkronor)//10\n",
    "    tvahundralappar = (pengar % 1000 - tiokronor - enkronor)//200\n",
    "    tusenlappar = (pengar % 10000 - tvahundralappar - tiokronor - enkronor)//1000\n",
    "    if pengar > 1000:\n",
    "        print(f\"Tusenlapp: {tusenlappar}\")\n",
    "    if pengar > 100:\n",
    "        print(f\"Tvåhundralapp: {tvahundralappar}\")\n",
    "    if pengar > 10:\n",
    "        print(f\"Tiokrona: {tiokronor}\")\n",
    "    print(f\"Enkrona: {enkronor}\")\n",
    "change()"
   ]
  }
 ],
 "metadata": {
  "kernelspec": {
   "display_name": "Python 3.9.13 ('Python-vineela-nedunuri-iPG0HSA5')",
   "language": "python",
   "name": "python3"
  },
  "language_info": {
   "codemirror_mode": {
    "name": "ipython",
    "version": 3
   },
   "file_extension": ".py",
   "mimetype": "text/x-python",
   "name": "python",
   "nbconvert_exporter": "python",
   "pygments_lexer": "ipython3",
   "version": "3.9.13"
  },
  "orig_nbformat": 4,
  "vscode": {
   "interpreter": {
    "hash": "1db1b2e8567942dee12c64de01d929677cea7f86428756000840da4d34ce3db5"
   }
  }
 },
 "nbformat": 4,
 "nbformat_minor": 2
}
