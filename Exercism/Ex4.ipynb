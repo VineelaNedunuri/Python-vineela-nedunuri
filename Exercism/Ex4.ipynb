{
 "cells": [
  {
   "cell_type": "markdown",
   "metadata": {},
   "source": [
    "## 1. Add me to the queue\n",
    "Define the add_me_to_the_queue() function that takes 4 parameters <express_queue>, <normal_queue>, <ticket_type>, <person_name> and returns the appropriate queue updated with the person's name.\n",
    "\n",
    "- <ticket_type> is an int with 1 == express_queue and 0 == normal_queue.\n",
    "- <person_name> is the name (as a str) of the person to be added to the respective queue.\n",
    "- >>> add_me_to_the_queue(express_queue=[\"Tony\", \"Bruce\"], normal_queue=[\"RobotGuy\", \"WW\"], ticket_type=1, person_name=\"RichieRich\")\n",
    "...\n",
    "[\"Tony\", \"Bruce\", \"RichieRich\"]\n",
    "\n",
    "- >>> add_me_to_the_queue(express_queue=[\"Tony\", \"Bruce\"], normal_queue=[\"RobotGuy\", \"WW\"], ticket_type=0, person_name=\"HawkEye\")\n",
    "....\n",
    "[\"RobotGuy\", \"WW\", \"HawkEye\"]"
   ]
  },
  {
   "cell_type": "code",
   "execution_count": null,
   "metadata": {},
   "outputs": [],
   "source": [
    "def add_me_to_the_queue(express_queue, normal_queue, ticket_type, person_name):\n",
    "    "
   ]
  },
  {
   "cell_type": "markdown",
   "metadata": {},
   "source": [
    "## 2. Where are my friends?\n",
    "One person arrived late at the park but wants to join the queue where their friends are waiting. But they have no idea where their friends are standing and there isn't any phone reception to call them.\n",
    "\n",
    "Define the find_my_friend() function that takes 2 parameters queue and friend_name and returns the position in the queue of the person's name.\n",
    "\n",
    "- <queue> is the list of people standing in the queue.\n",
    "- <friend_name> is the name of the friend whose index (place in the queue) you need to find.\n",
    "Remember: Indexing starts at 0 from the left, and -1 from the right.\n",
    "\n",
    "- >>> find_my_friend(queue=[\"Natasha\", \"Steve\", \"T'challa\", \"Wanda\", \"Rocket\"], friend_name=\"Steve\")\n",
    "...\n",
    "1"
   ]
  },
  {
   "cell_type": "code",
   "execution_count": null,
   "metadata": {},
   "outputs": [],
   "source": []
  },
  {
   "cell_type": "markdown",
   "metadata": {},
   "source": [
    "## 3. Can I please join them?\n",
    "Now that their friends have been found (in task #2 above), the late arriver would like to join them at their place in the queue. Define the add_me_with_my_friends() function that takes 3 parameters queue, index, and person_name.\n",
    "\n",
    "- <queue> is the list of people standing in the queue.\n",
    "- <index> is the position at which the new person should be added.\n",
    "- <person_name> is the name of the person to add at the index position.\n",
    "Return the queue updated with the late arrivals name.\n",
    "\n",
    "- >>> add_me_with_my_friends(queue=[\"Natasha\", \"Steve\", \"T'challa\", \"Wanda\", \"Rocket\"], index=1, person_name=\"Bucky\")\n",
    "...\n",
    "[\"Natasha\", \"Bucky\", \"Steve\", \"T'challa\", \"Wanda\", \"Rocket\"]"
   ]
  },
  {
   "cell_type": "code",
   "execution_count": null,
   "metadata": {},
   "outputs": [],
   "source": []
  },
  {
   "cell_type": "markdown",
   "metadata": {},
   "source": [
    "## 4. Mean person in the queue\n",
    "You just heard from the queue that there is a really mean person shoving, shouting, and making trouble. You need to throw that miscreant out for bad behavior!\n",
    "\n",
    "Define the remove_the_mean_person() function that takes 2 parameters queue and person_name.\n",
    "\n",
    "- <queue> is the list of people standing in the queue.\n",
    "- <person_name> is the name of the person that needs to be kicked out.\n",
    "Return the queue updated without the mean person's name.\n",
    "\n",
    "- >>> remove_the_mean_person(queue=[\"Natasha\", \"Steve\", \"Eltran\", \"Wanda\", \"Rocket\"], person_name=\"Eltran\")\n",
    "...\n",
    "[\"Natasha\", \"Steve\", \"Wanda\", \"Rocket\"]\n"
   ]
  },
  {
   "cell_type": "code",
   "execution_count": null,
   "metadata": {},
   "outputs": [],
   "source": []
  },
  {
   "cell_type": "markdown",
   "metadata": {},
   "source": [
    "## 5. Namefellows\n",
    "You may not have seen two unrelated people who look exactly the same, but you have definitely seen unrelated people with the exact same name (namefellows)! Today, it looks like there are a lot of them in attendance. You want to know how many times a particular name occurs in the queue.\n",
    "\n",
    "Define the how_many_namefellows() function that takes 2 parameters queue and person_name.\n",
    "\n",
    "- <queue> is the list of people standing in the queue.\n",
    "- <person_name> is the name you think might occur more than once in the queue.\n",
    "Return the number of occurrences of person_name, as an int.\n",
    "\n",
    "- >>> how_many_namefellows(queue=[\"Natasha\", \"Steve\", \"Eltran\", \"Natasha\", \"Rocket\"], person_name=\"Natasha\")\n",
    "..."
   ]
  },
  {
   "cell_type": "code",
   "execution_count": null,
   "metadata": {},
   "outputs": [],
   "source": []
  },
  {
   "cell_type": "markdown",
   "metadata": {},
   "source": [
    "## 6. Remove the last person\n",
    "Sadly, it's overcrowded at the park today and you need to remove the last person in the normal line (you will give them a voucher to come back in the fast-track on another day). You will have to define the function remove_the_last_person() that takes 1 parameter queue, which is the list of people standing in the queue.\n",
    "\n",
    "- You should update the list and also return the name of the person who was removed, so you can write them a voucher.\n",
    "\n",
    "- >>> remove_the_last_person(queue=[\"Natasha\", \"Steve\", \"Eltran\", \"Natasha\", \"Rocket\"])\n",
    "...\n",
    "'Rocket'"
   ]
  },
  {
   "cell_type": "code",
   "execution_count": null,
   "metadata": {},
   "outputs": [],
   "source": []
  },
  {
   "cell_type": "markdown",
   "metadata": {},
   "source": [
    "## 7. Sort the Queue List\n",
    "For administrative purposes, you need to get all the names in a given queue in alphabetical order.\n",
    "\n",
    "- Define the sorted_names() function that takes 1 argument, queue, (the list of people standing in the queue), and returns a sorted copy of the list.\n",
    "\n",
    "- >>> sorted_names(queue=[\"Natasha\", \"Steve\", \"Eltran\", \"Natasha\", \"Rocket\"])\n",
    "...\n",
    "['Eltran', 'Natasha', 'Natasha', 'Rocket', 'Steve']"
   ]
  },
  {
   "cell_type": "code",
   "execution_count": null,
   "metadata": {},
   "outputs": [],
   "source": []
  }
 ],
 "metadata": {
  "kernelspec": {
   "display_name": "Python 3.9.13 ('Python-vineela-nedunuri-iPG0HSA5')",
   "language": "python",
   "name": "python3"
  },
  "language_info": {
   "name": "python",
   "version": "3.9.13"
  },
  "orig_nbformat": 4,
  "vscode": {
   "interpreter": {
    "hash": "1db1b2e8567942dee12c64de01d929677cea7f86428756000840da4d34ce3db5"
   }
  }
 },
 "nbformat": 4,
 "nbformat_minor": 2
}
