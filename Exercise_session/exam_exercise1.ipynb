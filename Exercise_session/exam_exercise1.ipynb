{
 "cells": [
  {
   "cell_type": "markdown",
   "metadata": {},
   "source": [
    "# Uppgift 1 (3p)\n",
    "- Förklara vad den här koden gör och vad som ritas ut:\n",
    "1. import matplotlib.pyplot as plt\n",
    "2.\n",
    "3. x = list(range(10))\n",
    "4. y = [i**2 for i in x]\n",
    "5. fig, ax = plt.figure(), plt.axes()\n",
    "6. ax.plot(x,y)\n",
    "7. ax.set(title=\"Plot\", xlabel=\"x\", ylabel=\"y\")"
   ]
  },
  {
   "cell_type": "code",
   "execution_count": 1,
   "metadata": {},
   "outputs": [
    {
     "data": {
      "text/plain": [
       "[Text(0.5, 1.0, 'Plot'), Text(0.5, 0, 'x'), Text(0, 0.5, 'y')]"
      ]
     },
     "execution_count": 1,
     "metadata": {},
     "output_type": "execute_result"
    },
    {
     "data": {
      "image/png": "[encoded data removed]",
      "text/plain": [
       "<Figure size 640x480 with 1 Axes>"
      ]
     },
     "metadata": {},
     "output_type": "display_data"
    }
   ],
   "source": [
    "# import module containing plot-related tools\n",
    "import matplotlib.pyplot as plt\n",
    "\n",
    "#  Add empty space to make code more readable\n",
    "x = list(range(10))\n",
    "# declare variable x of datatype list , containing  integers from 0-9\n",
    "\n",
    "y = [i**2 for i in x]\n",
    "# declare variable  y of datatype list, containing integers of squares of 0-9\n",
    "# y = [0, 1, 4, 9, 16, 25, 36, 49, 64, 81]\n",
    "\n",
    "fig, ax = plt.figure(), plt.axes()\n",
    "# declare two variables, fig and ax, as instance of figure and axes classes\n",
    "\n",
    "ax.plot(x,y)\n",
    "# plotting variables x and y in ax as 10 points with lines drawn between them\n",
    "\n",
    "ax.set(title=\"Plot\", xlabel=\"x\", ylabel=\"y\")\n",
    "# define title, xlabel and ylabel for ax "
   ]
  },
  {
   "cell_type": "markdown",
   "metadata": {},
   "source": [
    "- Uppgift 2 (3p)\n",
    "- Simulera 1000000 tärningskast och beräkna antalet ettor, tvåor, treor, fyror, femmor och sexor. Spara\n",
    "resultatet i en lämplig datastruktur.\n"
   ]
  },
  {
   "cell_type": "code",
   "execution_count": 2,
   "metadata": {},
   "outputs": [
    {
     "name": "stdout",
     "output_type": "stream",
     "text": [
      "{'1': 167012, '2': 167077, '3': 166801, '4': 166471, '5': 166491, '6': 166416}\n"
     ]
    }
   ],
   "source": [
    "import random as rnd\n",
    "dice_list = {}\n",
    "\n",
    "\n",
    "for i, number in enumerate(\"123456\"):\n",
    "    dices = [rnd.randint(1,6) for i in range(1000000)]\n",
    "    dice_list[number]= dices.count(i+1)\n",
    "print(dice_list)"
   ]
  },
  {
   "cell_type": "code",
   "execution_count": 3,
   "metadata": {},
   "outputs": [
    {
     "name": "stdout",
     "output_type": "stream",
     "text": [
      "{'roll1': 166550, 'roll2': 166813, 'roll3': 166350, 'roll4': 166352, 'roll5': 167080, 'roll6': 166855}\n"
     ]
    }
   ],
   "source": [
    "import random as rnd\n",
    "rolls = [rnd.randint(1,6) for i in range(1000000)]\n",
    "dice_rolls = dict(\n",
    "    roll1 = rolls.count(1),\n",
    "    roll2 = rolls.count(2),\n",
    "    roll3 = rolls.count(3),\n",
    "    roll4 = rolls.count(4),\n",
    "    roll5 = rolls.count(5),\n",
    "    roll6 = rolls.count(6)    \n",
    ")\n",
    "print(dice_rolls)"
   ]
  },
  {
   "cell_type": "markdown",
   "metadata": {},
   "source": [
    "- Skriv en funktion som tar in en radie som inparameter och som returnerar volymen av en sfär. Volymen för en\n",
    "sfär är:\n",
    "- V = 4 * pi* r**3/3\n",
    "- Låt användaren mata in ett tal och kör funktionen. Tänk på att ta med lämplig felhantering.\n"
   ]
  },
  {
   "cell_type": "code",
   "execution_count": 4,
   "metadata": {},
   "outputs": [],
   "source": [
    "from __future__ import annotations\n",
    "from math import pi\n",
    "def calc_sphere_volume(radius:(int|float))-> float:\n",
    "    \"\"\"Calculate volume of sphere of given radius\"\"\"\n",
    "    if not isinstance(radius, (int, float)):\n",
    "        raise TypeError(f\"Radius must be int or float, not {type(radius).__name__}\")\n",
    "         "
   ]
  },
  {
   "cell_type": "markdown",
   "metadata": {},
   "source": [
    "# Uppgift 4 (3p)\n",
    "- Läs in en textfil som heter bamba.txt och innehåller:\n",
    "- v42\n",
    "- Chili sin carne\n",
    "- Pannkakor\n",
    "- Ärtsoppa\n",
    "- Kebab\n",
    "- Vegetarisk lasagne\n",
    "- Läs in texterna och skriv ut dem i terminal"
   ]
  },
  {
   "cell_type": "code",
   "execution_count": 5,
   "metadata": {},
   "outputs": [],
   "source": [
    "file_path = \"../Data/bamba.txt\"\n",
    "with open(file_path, \"r\") as f_read:\n",
    "  lines = f_read.readlines()\n",
    "  for line in f_read:\n",
    "    print(line, end= \"\")\n"
   ]
  },
  {
   "cell_type": "markdown",
   "metadata": {},
   "source": [
    "## Uppgift 5 (3p)\n",
    "- Skapa en funktion som tar in två punkter i 2D , och som returnerar tillbaka avståndet mellan\n",
    "dessa. Anropa därefter denna funktion för test\n",
    "- Det finns en textfil som heter testpunkter.txt som ligger i undermappen testpoints och innehåller:\n",
    "- Punkt 1, punkt 2 \n",
    "(1,2), (0,0)\n",
    "(2,0), (3,5)\n",
    "...\n",
    "(-2,-2), (9,2)\n"
   ]
  },
  {
   "cell_type": "code",
   "execution_count": 6,
   "metadata": {},
   "outputs": [
    {
     "name": "stdout",
     "output_type": "stream",
     "text": [
      "[[1.0, 2.0, 0.0, 0.0], [2.0, 0.0, 3.0, 5.0]]\n",
      "2.23606797749979\n",
      "5.099019513592785\n"
     ]
    }
   ],
   "source": [
    "from math import dist\n",
    "\n",
    "\n",
    "def calc_dist(p1, p2, q1, q2):\n",
    "    return dist((p1, p2), (q1, q2))\n",
    "\n",
    "with open(\"../Data/testpunkter.txt\", \"r\") as file_r:\n",
    "    clean = []\n",
    "    for index, row in enumerate(file_r):\n",
    "        if index != 0:\n",
    "            t = [float(i.strip(\"() \\n\")) for i in row.split(\",\")]\n",
    "            clean.append(t)\n",
    "    print(clean)\n",
    "            \n",
    "for point in clean:\n",
    "    print(calc_dist(point[0], point[1], point[2], point[3]))"
   ]
  },
  {
   "cell_type": "markdown",
   "metadata": {},
   "source": [
    "# Uppgift 2 (3p)\n",
    "Skapa en funktion som tar in ett heltal n som parameter och skriver ut följande mönstret nedan.\n",
    "Exempel när n = 5:\n"
   ]
  },
  {
   "cell_type": "code",
   "execution_count": 7,
   "metadata": {},
   "outputs": [
    {
     "name": "stdout",
     "output_type": "stream",
     "text": [
      " x  o  o  o  o \n",
      " x  x  o  o  o \n",
      " x  x  x  o  o \n",
      " x  x  x  x  o \n",
      " x  x  x  x  x \n",
      "\n"
     ]
    }
   ],
   "source": [
    "def my_function(n:int)-> str:\n",
    "    print_string = \"\"\n",
    "    for i in range(n):\n",
    "        print_string += \" x \" * (i+1) + \" o \" * (n-(i+1)) + \"\\n\"\n",
    "    print(print_string)\n",
    "\n",
    "my_function(5)"
   ]
  },
  {
   "cell_type": "markdown",
   "metadata": {},
   "source": [
    "# Uppgift 6 (4p)\n",
    "Du har följande kod:\n"
   ]
  },
  {
   "cell_type": "code",
   "execution_count": 19,
   "metadata": {},
   "outputs": [
    {
     "name": "stdout",
     "output_type": "stream",
     "text": [
      "Ada owns:\n",
      "[Dog: Snoopy, Dog: Pluto]\n",
      "[Fish: Fishy, Fish: Buppy]\n",
      "Beda owns:\n",
      "[Dog: Barkly]\n"
     ]
    }
   ],
   "source": [
    "class Animal:\n",
    "    def __init__(self, name):\n",
    "        self.name = name\n",
    "    def __str__(self):\n",
    "        return f\"Animal {self.name}\"\n",
    "\n",
    "class Dog(Animal):\n",
    "    def __repr__(self):\n",
    "        return f\"Dog: {self.name}\"\n",
    "\n",
    "class Fish(Animal):\n",
    "    def __repr__(self):\n",
    "        return f\"Fish: {self.name}\"\n",
    "\n",
    "class PetOwner:\n",
    "    def __init__(self, name: str, dogs: list = [], fishes: list = []):\n",
    "        self.name = name\n",
    "        self.dogs = dogs\n",
    "        self.fishes = fishes\n",
    "    \n",
    "    @property\n",
    "    def name(self):\n",
    "        return self._name\n",
    "\n",
    "    @name.setter\n",
    "    def name(self, name):\n",
    "        if type(name) != str:\n",
    "            raise TypeError(f\"Name must be a string, not {type(name).__name__}\")\n",
    "        if name.strip() == \"\":\n",
    "            raise ValueError(f\"Name must contain letters, \\\"{name}\\\" not accepted\")\n",
    "        self._name = name\n",
    "    \n",
    "    @property\n",
    "    def dogs(self):\n",
    "        return self._dogs\n",
    "\n",
    "    @dogs.setter\n",
    "    def dogs(self, dog_names):\n",
    "        # ----- error handling for dog name list -----\n",
    "        if type(dog_names) != list:\n",
    "            raise TypeError(f\"Dogs must be a list of dog names, not {type(dog_names).__name__}\")\n",
    "        temp_list = [] # creating temp list to store dogs in\n",
    "        for name in dog_names:\n",
    "            # ----- error handling for names in list -----\n",
    "            if type(name) != str:\n",
    "                raise TypeError(f\"Names must be a string, not {type(name).__name__} (\\\"{name}\\\")\")\n",
    "            if name.strip() == \"\":\n",
    "                raise ValueError(f\"Names must contain letters, \\\"{name}\\\" not accepted\")\n",
    "            temp_list.append(Dog(name)) # add Dog with name {name} to temp list\n",
    "        self._dogs = temp_list # set dogs to created list of dogs\n",
    "\n",
    "    @property\n",
    "    def fishes(self):\n",
    "        return self._fishes\n",
    "\n",
    "    @fishes.setter\n",
    "    def fishes(self, fish_names):\n",
    "        # ----- error handling for fish name list -----\n",
    "        if type(fish_names) != list:\n",
    "            raise TypeError(f\"Fishes must be a list of fish names, not {type(fish_names).__name__}\")\n",
    "        temp_list = [] # creating temp list to store fishes in\n",
    "        for name in fish_names:\n",
    "            # ----- error handling for names in list -----\n",
    "            if type(name) != str:\n",
    "                raise TypeError(f\"Names must be a string, not {type(name).__name__} (\\\"{name}\\\")\")\n",
    "            if name.strip() == \"\":\n",
    "                raise ValueError(f\"Names must contain letters, \\\"{name}\\\" not accepted\")\n",
    "            temp_list.append(Fish(name)) # add Fish with name {name} to temp list\n",
    "        self._fishes = temp_list # set fishes to created list of fishes\n",
    "\n",
    "    def __str__(self):\n",
    "        print_string = f\"{self.name} owns:\"\n",
    "        if self.dogs != []: # if owner has at least one dog\n",
    "            print_string += f\"\\n{self.dogs}\"\n",
    "        if self.fishes != []: # if owner has at least one fish\n",
    "            print_string += f\"\\n{self.fishes}\"\n",
    "        return print_string\n",
    "\n",
    "owner1 = PetOwner(\"Ada\",[\"Snoopy\", \"Pluto\"], [\"Fishy\", \"Buppy\"])\n",
    "owner2 = PetOwner(\"Beda\", [\"Barkly\"] )\n",
    "print(owner1)\n",
    "print(owner2)\n"
   ]
  },
  {
   "cell_type": "markdown",
   "metadata": {},
   "source": [
    "# Uppgift 6 (4p)\n",
    "I den här uppgiften ska du skapa ett blackjack som är ett kortspel. Förenklat är reglerna för blackjack:\n",
    "dealern tar två kort\n",
    "dealern visar sitt första kort\n",
    "spelaren tar två kort\n",
    "spelaren får välja att ta nytt kort eller stanna\n",
    "när spelaren stannar räknar man poängen genom:\n",
    "J, K, Q värda 10p\n",
    "A värd 1 eller 11\n",
    "Övriga kort värda deras valör\n",
    "om spelarens poäng mindre eller lika med 21, vinner spelaren om hens poäng överstiger dealerns,\n",
    "annars vinner dealern"
   ]
  },
  {
   "cell_type": "code",
   "execution_count": 22,
   "metadata": {},
   "outputs": [
    {
     "name": "stdout",
     "output_type": "stream",
     "text": [
      "6\n",
      "['3', '9'] 12\n",
      "['3', '9', 'Q'] 22\n",
      "Dealer wins\n",
      "Player hand: ['3', '9', 'Q'], 22\n",
      "Dealers hand: ['6', '3'], 9\n"
     ]
    }
   ],
   "source": [
    "import random as rnd\n",
    "\n",
    "def pull_card(deck: list) -> str:\n",
    "\t\"\"\"pulls random card from deck\"\"\"\n",
    "\tindex = rnd.randint(0, len(deck)-1)\n",
    "\tcard = deck[index]\n",
    "\tdeck.pop(index)\n",
    "\treturn card\n",
    "\n",
    "def get_hand_value(hand: list) -> int:\n",
    "\t\"\"\"calculates combined value of cards in hand\"\"\"\n",
    "\tsum_cards = 0\n",
    "\tfor key, value in card_value.items():\n",
    "\t\tfor item in hand:\n",
    "\t\t\tif item == key:\n",
    "\t\t\t\tsum_cards += value\n",
    "\t# converting aces from 11 to 1 in value if value of hand is too large\n",
    "\tif sum_cards > 21 and \"A\" in hand:\n",
    "\t\tfor i in (range(hand.count(\"A\"))):\n",
    "\t\t\tsum_cards -= 10\n",
    "\t\t\tif sum_cards <= 21:\n",
    "\t\t\t\tbreak\n",
    "\treturn sum_cards\n",
    "\n",
    "# create dictionary of symbols paired with their value\n",
    "card_value = {\n",
    "\"A\": 11,\n",
    "\"J\": 10,\n",
    "\"K\": 10,\n",
    "\"Q\": 10,\n",
    "\"2\": 2,\n",
    "\"3\": 3,\n",
    "\"4\": 4,\n",
    "\"5\": 5,\n",
    "\"6\": 6,\n",
    "\"7\": 7,\n",
    "\"8\": 8,\n",
    "\"9\": 9,\n",
    "\"10\": 10,\n",
    "}\n",
    "\n",
    "def play():\n",
    "# create a deck list of (decks) decks containing all 52 cards from each deck\n",
    "\n",
    "\n",
    "    deck = []\n",
    "    decks = 1\n",
    "    for i in range(4 * decks):\n",
    "        for key, value in card_value.items():\n",
    "            deck.append(key)\n",
    "\n",
    "    \n",
    "\t# initialize lists to hold the cards of players and dealers hand\n",
    "    my_hand = []\n",
    "    dealers_hand = []\n",
    "\t\n",
    "\t# dealer draws 2 cards\n",
    "    for i in range(2):\n",
    "        dealers_hand.append(pull_card(deck))\n",
    "\t\n",
    "\t# dealer shows first card drawn\n",
    "    print(dealers_hand[0])\n",
    "\n",
    "\t# player draws 2 cards\n",
    "    for i in range(2):\n",
    "        my_hand.append(pull_card(deck))\n",
    "\t\n",
    "\t# show players hand\n",
    "    print(my_hand, get_hand_value(my_hand))\n",
    "\t\n",
    "\t# player choses to pull more cards or stop\n",
    "    while True:\n",
    "        choice = input(\"\\\"H\\\" for hit, \\\"S\\\" for stay\").upper()\n",
    "        if choice == \"H\":\n",
    "            my_hand.append(pull_card(deck))\n",
    "            print(my_hand, get_hand_value(my_hand))\n",
    "            if get_hand_value(my_hand) > 21:\n",
    "                break\n",
    "            elif choice == \"S\":\n",
    "                break\n",
    "            else:\n",
    "                print(f\"Make sure to input \\\"H\\\" or \\\"S\\\", {choice} not accepted\")\n",
    "\t\n",
    "\t# print string based on who wins\n",
    "    if get_hand_value(my_hand) <= 21 and get_hand_value(my_hand) > get_hand_value(dealers_hand):\n",
    "        print(f\"Player wins\\nPlayer hand: {my_hand}, {get_hand_value(my_hand)}\\nDealers hand: {dealers_hand}, {get_hand_value(dealers_hand)}\")\n",
    "    else:\n",
    "        print(f\"Dealer wins\\nPlayer hand: {my_hand}, {get_hand_value(my_hand)}\\nDealers hand: {dealers_hand}, {get_hand_value(dealers_hand)}\")\n",
    "\n",
    "play()"
   ]
  },
  {
   "cell_type": "markdown",
   "metadata": {},
   "source": [
    "## Skapa en klass som heter NormalDist som följer detta UML:\n",
    "vid addition av två objekt av typen NormalDist ska dess respektive mu och sigma adderas.\n",
    "formeln för pdf för normaldistribution:\n"
   ]
  },
  {
   "cell_type": "code",
   "execution_count": 13,
   "metadata": {},
   "outputs": [],
   "source": [
    "from __future__ import annotations\n",
    "from math import sqrt, pi, e\n",
    "import numpy as np\n",
    "import matplotlib.pyplot as plt\n",
    "\n",
    "class NormalDist:\n",
    "    def __init__(self, mu: float = 0, sigma: float = 1):\n",
    "        self._mu = mu\n",
    "        self._sigma = sigma\n",
    "    \n",
    "    def pdf(self, x: float) -> float:\n",
    "        return (1/(self._sigma*sqrt(2*pi)))*e**(-(1/2)*((x - self._mu) / self._sigma)**2)\n",
    "    \n",
    "    def plot_pdf(self, x: float, y: float):\n",
    "        interval = np.linspace(x, y)\n",
    "        plt.plot(interval, self.pdf(interval))\n",
    "\n",
    "    def __add__(self, other: NormalDist) -> NormalDist:\n",
    "        return NormalDist(self._mu + other._mu, self._sigma + other._sigma)\n",
    "    \n",
    "    def __repr__(self) -> str:\n",
    "        return f\"NormalDist(mu = {self._mu}, sigma = {self._sigma})\"\n"
   ]
  },
  {
   "cell_type": "code",
   "execution_count": 14,
   "metadata": {},
   "outputs": [
    {
     "name": "stdout",
     "output_type": "stream",
     "text": [
      "NormalDist(mu = 0, sigma = 1)\n"
     ]
    }
   ],
   "source": [
    "a = NormalDist()\n",
    "print(a)"
   ]
  },
  {
   "cell_type": "code",
   "execution_count": 16,
   "metadata": {},
   "outputs": [
    {
     "name": "stdout",
     "output_type": "stream",
     "text": [
      "NormalDist(mu = 2, sigma = 5)\n"
     ]
    }
   ],
   "source": [
    "b = NormalDist(2,4)\n",
    "c = a+b\n",
    "print(c)"
   ]
  },
  {
   "cell_type": "code",
   "execution_count": 17,
   "metadata": {},
   "outputs": [
    {
     "data": {
      "image/png": "[encoded data removed]",
      "text/plain": [
       "<Figure size 640x480 with 1 Axes>"
      ]
     },
     "metadata": {},
     "output_type": "display_data"
    }
   ],
   "source": [
    "a.plot_pdf(-3,3)\n",
    "c.plot_pdf(-3,3)"
   ]
  }
 ],
 "metadata": {
  "kernelspec": {
   "display_name": "Python 3.9.13 ('Python-vineela-nedunuri-iPG0HSA5')",
   "language": "python",
   "name": "python3"
  },
  "language_info": {
   "codemirror_mode": {
    "name": "ipython",
    "version": 3
   },
   "file_extension": ".py",
   "mimetype": "text/x-python",
   "name": "python",
   "nbconvert_exporter": "python",
   "pygments_lexer": "ipython3",
   "version": "3.9.13"
  },
  "orig_nbformat": 4,
  "vscode": {
   "interpreter": {
    "hash": "1db1b2e8567942dee12c64de01d929677cea7f86428756000840da4d34ce3db5"
   }
  }
 },
 "nbformat": 4,
 "nbformat_minor": 2
}
