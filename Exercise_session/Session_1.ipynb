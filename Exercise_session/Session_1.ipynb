{
 "cells": [
  {
   "cell_type": "markdown",
   "metadata": {},
   "source": [
    "# Exercise session1"
   ]
  },
  {
   "cell_type": "markdown",
   "metadata": {},
   "source": [
    "## Exercise 00-3\n",
    "\n",
    "Formula:\n",
    "$$accuracy =  \\frac{TP+TN}{TP+TN+FP+FN}$$"
   ]
  },
  {
   "cell_type": "code",
   "execution_count": 1,
   "metadata": {},
   "outputs": [
    {
     "name": "stdout",
     "output_type": "stream",
     "text": [
      " Accuracy of this fire model : 0.987\n"
     ]
    }
   ],
   "source": [
    "# Exercise 00-3\n",
    "\n",
    "true_postive = 2\n",
    "false_postive = 2\n",
    "false_negative = 11\n",
    "true_negative = 985\n",
    "\n",
    "accuracy = (true_postive+true_negative)/(true_postive+true_negative+false_postive+false_negative)\n",
    "print(f\" Accuracy of this fire model : {accuracy}\")\n",
    "\n",
    "# is this a good model ?"
   ]
  },
  {
   "cell_type": "markdown",
   "metadata": {},
   "source": [
    "## Exercise 00 -5\n",
    "\n",
    "Formula:\n",
    "$$d = \\sqrt{(x_1-x_2)^2 + (y_1-y_2)^2}$$\n"
   ]
  },
  {
   "cell_type": "code",
   "execution_count": 4,
   "metadata": {},
   "outputs": [
    {
     "name": "stdout",
     "output_type": "stream",
     "text": [
      "Distance between [3, 5] and [-2, 4] is 5.10 distance units\n"
     ]
    }
   ],
   "source": [
    "import math\n",
    "point1 = [3,5]\n",
    "point2=[-2,4]\n",
    "distance = math.sqrt((point1[0]-point2[0])**2 + (point1[1]-point2[1])**2)\n",
    "print(f\"Distance between {point1} and {point2} is {distance:.2f} distance units\")"
   ]
  },
  {
   "cell_type": "markdown",
   "metadata": {},
   "source": [
    "## Exercise 1-3\n",
    "valid angles:\n",
    "- positive\n",
    "- $\\alpha +\\beta +\\gamma = 180$\n",
    "check if one angle is 90"
   ]
  },
  {
   "cell_type": "code",
   "execution_count": 2,
   "metadata": {},
   "outputs": [
    {
     "name": "stdout",
     "output_type": "stream",
     "text": [
      "['30,60,90']\n"
     ]
    },
    {
     "ename": "ValueError",
     "evalue": "could not convert string to float: '30,60,90'",
     "output_type": "error",
     "traceback": [
      "\u001b[1;31m---------------------------------------------------------------------------\u001b[0m",
      "\u001b[1;31mValueError\u001b[0m                                Traceback (most recent call last)",
      "\u001b[1;32mc:\\Users\\vinee\\Documents\\Github\\Python-vineela-nedunuri\\Exercise_session\\Session_1.ipynb Cell 7\u001b[0m in \u001b[0;36m<cell line: 7>\u001b[1;34m()\u001b[0m\n\u001b[0;32m      <a href='vscode-notebook-cell:/c%3A/Users/vinee/Documents/Github/Python-vineela-nedunuri/Exercise_session/Session_1.ipynb#W6sZmlsZQ%3D%3D?line=2'>3</a>\u001b[0m \u001b[39mprint\u001b[39m(angles\u001b[39m.\u001b[39msplit())\n\u001b[0;32m      <a href='vscode-notebook-cell:/c%3A/Users/vinee/Documents/Github/Python-vineela-nedunuri/Exercise_session/Session_1.ipynb#W6sZmlsZQ%3D%3D?line=3'>4</a>\u001b[0m \u001b[39m# angles.split() -> gives a list of stings\u001b[39;00m\n\u001b[0;32m      <a href='vscode-notebook-cell:/c%3A/Users/vinee/Documents/Github/Python-vineela-nedunuri/Exercise_session/Session_1.ipynb#W6sZmlsZQ%3D%3D?line=4'>5</a>\u001b[0m \u001b[39m# angle -> gets value of each list item(strings)\u001b[39;00m\n\u001b[0;32m      <a href='vscode-notebook-cell:/c%3A/Users/vinee/Documents/Github/Python-vineela-nedunuri/Exercise_session/Session_1.ipynb#W6sZmlsZQ%3D%3D?line=5'>6</a>\u001b[0m \u001b[39m# float(angle) -> type converts each string element to decimal number\u001b[39;00m\n\u001b[1;32m----> <a href='vscode-notebook-cell:/c%3A/Users/vinee/Documents/Github/Python-vineela-nedunuri/Exercise_session/Session_1.ipynb#W6sZmlsZQ%3D%3D?line=6'>7</a>\u001b[0m angles \u001b[39m=\u001b[39m [\u001b[39mfloat\u001b[39m(angle) \u001b[39mfor\u001b[39;00m angle \u001b[39min\u001b[39;00m angles\u001b[39m.\u001b[39msplit()]\n\u001b[0;32m      <a href='vscode-notebook-cell:/c%3A/Users/vinee/Documents/Github/Python-vineela-nedunuri/Exercise_session/Session_1.ipynb#W6sZmlsZQ%3D%3D?line=8'>9</a>\u001b[0m \u001b[39mif\u001b[39;00m \u001b[39msum\u001b[39m(angles) \u001b[39m!=\u001b[39m \u001b[39m180\u001b[39m:\n\u001b[0;32m     <a href='vscode-notebook-cell:/c%3A/Users/vinee/Documents/Github/Python-vineela-nedunuri/Exercise_session/Session_1.ipynb#W6sZmlsZQ%3D%3D?line=9'>10</a>\u001b[0m     \u001b[39mprint\u001b[39m(\u001b[39m\"\u001b[39m\u001b[39m Vinkelsumman ej 180\u001b[39m\u001b[39m\"\u001b[39m)\n",
      "\u001b[1;32mc:\\Users\\vinee\\Documents\\Github\\Python-vineela-nedunuri\\Exercise_session\\Session_1.ipynb Cell 7\u001b[0m in \u001b[0;36m<listcomp>\u001b[1;34m(.0)\u001b[0m\n\u001b[0;32m      <a href='vscode-notebook-cell:/c%3A/Users/vinee/Documents/Github/Python-vineela-nedunuri/Exercise_session/Session_1.ipynb#W6sZmlsZQ%3D%3D?line=2'>3</a>\u001b[0m \u001b[39mprint\u001b[39m(angles\u001b[39m.\u001b[39msplit())\n\u001b[0;32m      <a href='vscode-notebook-cell:/c%3A/Users/vinee/Documents/Github/Python-vineela-nedunuri/Exercise_session/Session_1.ipynb#W6sZmlsZQ%3D%3D?line=3'>4</a>\u001b[0m \u001b[39m# angles.split() -> gives a list of stings\u001b[39;00m\n\u001b[0;32m      <a href='vscode-notebook-cell:/c%3A/Users/vinee/Documents/Github/Python-vineela-nedunuri/Exercise_session/Session_1.ipynb#W6sZmlsZQ%3D%3D?line=4'>5</a>\u001b[0m \u001b[39m# angle -> gets value of each list item(strings)\u001b[39;00m\n\u001b[0;32m      <a href='vscode-notebook-cell:/c%3A/Users/vinee/Documents/Github/Python-vineela-nedunuri/Exercise_session/Session_1.ipynb#W6sZmlsZQ%3D%3D?line=5'>6</a>\u001b[0m \u001b[39m# float(angle) -> type converts each string element to decimal number\u001b[39;00m\n\u001b[1;32m----> <a href='vscode-notebook-cell:/c%3A/Users/vinee/Documents/Github/Python-vineela-nedunuri/Exercise_session/Session_1.ipynb#W6sZmlsZQ%3D%3D?line=6'>7</a>\u001b[0m angles \u001b[39m=\u001b[39m [\u001b[39mfloat\u001b[39;49m(angle) \u001b[39mfor\u001b[39;00m angle \u001b[39min\u001b[39;00m angles\u001b[39m.\u001b[39msplit()]\n\u001b[0;32m      <a href='vscode-notebook-cell:/c%3A/Users/vinee/Documents/Github/Python-vineela-nedunuri/Exercise_session/Session_1.ipynb#W6sZmlsZQ%3D%3D?line=8'>9</a>\u001b[0m \u001b[39mif\u001b[39;00m \u001b[39msum\u001b[39m(angles) \u001b[39m!=\u001b[39m \u001b[39m180\u001b[39m:\n\u001b[0;32m     <a href='vscode-notebook-cell:/c%3A/Users/vinee/Documents/Github/Python-vineela-nedunuri/Exercise_session/Session_1.ipynb#W6sZmlsZQ%3D%3D?line=9'>10</a>\u001b[0m     \u001b[39mprint\u001b[39m(\u001b[39m\"\u001b[39m\u001b[39m Vinkelsumman ej 180\u001b[39m\u001b[39m\"\u001b[39m)\n",
      "\u001b[1;31mValueError\u001b[0m: could not convert string to float: '30,60,90'"
     ]
    }
   ],
   "source": [
    "angles = input(\" ange tre vinklar med separerade med mellanslag: \")\n",
    "#angles = \" 30 60 90\"\n",
    "print(angles.split())\n",
    "# angles.split() -> gives a list of stings\n",
    "# angle -> gets value of each list item(strings)\n",
    "# float(angle) -> type converts each string element to decimal number\n",
    "angles = [float(angle) for angle in angles.split()]\n",
    "\n",
    "if sum(angles) != 180:\n",
    "    print(\" Vinkelsumman ej 180\")\n",
    "\n",
    "for angle in angles:\n",
    "    if 0 <= angle <= 180:\n",
    "        print(\" Vinklen är inte mellan 0 and 180\")\n",
    "\n",
    "    if angle == 90:\n",
    "        print(\"Rätvinklig\")\n",
    "\n"
   ]
  },
  {
   "cell_type": "markdown",
   "metadata": {},
   "source": [
    "##"
   ]
  },
  {
   "cell_type": "code",
   "execution_count": null,
   "metadata": {},
   "outputs": [],
   "source": []
  },
  {
   "cell_type": "markdown",
   "metadata": {},
   "source": []
  }
 ],
 "metadata": {
  "kernelspec": {
   "display_name": "Python 3.9.13 ('Python-vineela-nedunuri-iPG0HSA5')",
   "language": "python",
   "name": "python3"
  },
  "language_info": {
   "codemirror_mode": {
    "name": "ipython",
    "version": 3
   },
   "file_extension": ".py",
   "mimetype": "text/x-python",
   "name": "python",
   "nbconvert_exporter": "python",
   "pygments_lexer": "ipython3",
   "version": "3.9.13"
  },
  "orig_nbformat": 4,
  "vscode": {
   "interpreter": {
    "hash": "1db1b2e8567942dee12c64de01d929677cea7f86428756000840da4d34ce3db5"
   }
  }
 },
 "nbformat": 4,
 "nbformat_minor": 2
}
