{
 "cells": [
  {
   "cell_type": "markdown",
   "metadata": {},
   "source": [
    "# if statements"
   ]
  },
  {
   "cell_type": "markdown",
   "metadata": {},
   "source": [
    "#  1"
   ]
  },
  {
   "cell_type": "code",
   "execution_count": 1,
   "metadata": {},
   "outputs": [
    {
     "name": "stdout",
     "output_type": "stream",
     "text": [
      " The number is negative\n"
     ]
    }
   ],
   "source": [
    "# check sign\n",
    "n = int(input(\" Enter the value of n\"))\n",
    "if n > 0:\n",
    "    print(f\" The number is positive\")\n",
    "if n < 0:\n",
    "    print(f\" The number is negative\")\n",
    "else:\n",
    "    print(f\" The number is Zero\")\n",
    "\n"
   ]
  },
  {
   "cell_type": "markdown",
   "metadata": {},
   "source": [
    "#  2"
   ]
  },
  {
   "cell_type": "code",
   "execution_count": 2,
   "metadata": {},
   "outputs": [
    {
     "name": "stdout",
     "output_type": "stream",
     "text": [
      "The smallest number is 6\n"
     ]
    }
   ],
   "source": [
    "# compute smallest number\n",
    "a = int(input(\"Enter the first number: \"))\n",
    "b = int(input(\"Enter the second number: \"))\n",
    "smallest = 0\n",
    "if a < b:\n",
    "    smallest = a\n",
    "if b < a:\n",
    "    smallest = b\n",
    "print(f\"The smallest number is {smallest}\")\n"
   ]
  },
  {
   "cell_type": "markdown",
   "metadata": {},
   "source": [
    "#  3"
   ]
  },
  {
   "cell_type": "code",
   "execution_count": 3,
   "metadata": {},
   "outputs": [
    {
     "name": "stdout",
     "output_type": "stream",
     "text": [
      "It is not a right angle triangle\n"
     ]
    }
   ],
   "source": [
    "# check if the triangle has a right angle\n",
    "angle1 = int(input(\"Enter the first angle : \"))\n",
    "angle2 = int(input(\"Enter the second angle : \"))\n",
    "angle3 = int(input(\"Enter the third angle : \"))\n",
    "\n",
    "\n",
    "sum = angle1 + angle2 + angle3\n",
    "\n",
    "if sum == 180:\n",
    "    print(\"All three angles are valid and make up a triangle\")\n",
    "    if angle1 <= 90 or angle2 <= 90 or angle3 <= 90:\n",
    "        print(\" The triangle is a right angle.\")\n",
    "elif sum > 180:\n",
    "    print(\"It is not a right angle triangle\")\n"
   ]
  },
  {
   "cell_type": "markdown",
   "metadata": {},
   "source": [
    "#  4"
   ]
  },
  {
   "cell_type": "code",
   "execution_count": 11,
   "metadata": {},
   "outputs": [
    {
     "name": "stdout",
     "output_type": "stream",
     "text": [
      "weight=67\n",
      "age=14\n",
      "Recommended pill is 1 to 2\n"
     ]
    }
   ],
   "source": [
    "# Medicine\n",
    "\n",
    "weight = int(input(\"Enter the weight of the children (kg) : \" ))\n",
    "age = int(input(\"Enter the age of children (years) : \"))\n",
    "\n",
    "print(f\"{weight=}\")\n",
    "print(f\"{age=}\")\n",
    "\n",
    "if weight > 40 and age > 12:\n",
    "    print(\"Recommended pill is 1 to 2\")\n",
    "\n",
    "elif 26 <= weight <= 40  and   7 <= age <= 12:\n",
    "    print(\"Recommended pill is 1/2 to 1\")\n",
    "\n",
    "elif  15 <= weight <= 25 and  3 <= age < 7:\n",
    "    print(\"Recommended pill is 1/2 \")\n",
    "\n",
    "elif weight <15 and age < 3:\n",
    "    print(\"not recommended\")\n",
    "\n",
    "    \n",
    " "
   ]
  },
  {
   "cell_type": "markdown",
   "metadata": {},
   "source": [
    "#  5"
   ]
  },
  {
   "cell_type": "code",
   "execution_count": 5,
   "metadata": {},
   "outputs": [
    {
     "name": "stdout",
     "output_type": "stream",
     "text": [
      "a=5\n",
      "The numnber is odd\n",
      "The number is dvisible by 5\n",
      "The number is divisible by 5 and odd\n"
     ]
    }
   ],
   "source": [
    "#  Check if the number is divisable\n",
    "\n",
    "\n",
    "a = int(input(\"Enter a number = \"))\n",
    "print(f\"{a=}\")\n",
    "\n",
    "if a %2== 0:\n",
    "    print(\"The number is even number\")\n",
    "else:\n",
    "    print(\"The numnber is odd\")\n",
    "\n",
    "if a % 5 == 0:\n",
    "    print(\"The number is dvisible by 5\")\n",
    "    \n",
    "if a % 5 == 0 and a % 2 != 0:\n",
    "    print(\"The number is divisible by 5 and odd\")\n"
   ]
  },
  {
   "cell_type": "markdown",
   "metadata": {},
   "source": [
    "#  6"
   ]
  },
  {
   "cell_type": "code",
   "execution_count": 6,
   "metadata": {},
   "outputs": [
    {
     "name": "stdout",
     "output_type": "stream",
     "text": [
      "weight=56\n",
      "length=56\n",
      "width=76\n",
      "height=78\n",
      "The luggage is not allowed for boarding\n"
     ]
    }
   ],
   "source": [
    "#The maximum allowed luggage size for boarding an airplane \n",
    "\n",
    "weight = int(input(\"Enter the weight(kg) : \"))\n",
    "length = int(input(\"Enter the length(cm) : \"))\n",
    "width = int(input(\"Enter the width(cm) : \"))\n",
    "height = int(input(\"Enter the height(cm) : \"))\n",
    "print(f\"{weight=}\")\n",
    "print(f\"{length=}\")\n",
    "print(f\"{width=}\")\n",
    "print(f\"{height=}\")\n",
    "\n",
    "if weight <= 8 and  length <= 55 and width<= 40 and height <= 23:\n",
    "    print(\"The luggage is allowed for boarding \")\n",
    "else:\n",
    "    print(\"The luggage is not allowed for boarding\")"
   ]
  }
 ],
 "metadata": {
  "kernelspec": {
   "display_name": "Python 3.9.13 ('Python-vineela-nedunuri-iPG0HSA5')",
   "language": "python",
   "name": "python3"
  },
  "language_info": {
   "codemirror_mode": {
    "name": "ipython",
    "version": 3
   },
   "file_extension": ".py",
   "mimetype": "text/x-python",
   "name": "python",
   "nbconvert_exporter": "python",
   "pygments_lexer": "ipython3",
   "version": "3.9.13"
  },
  "orig_nbformat": 4,
  "vscode": {
   "interpreter": {
    "hash": "1db1b2e8567942dee12c64de01d929677cea7f86428756000840da4d34ce3db5"
   }
  }
 },
 "nbformat": 4,
 "nbformat_minor": 2
}
