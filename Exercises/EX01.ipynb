{
 "cells": [
  {
   "cell_type": "markdown",
   "metadata": {},
   "source": [
    "# Uppgift 1"
   ]
  },
  {
   "cell_type": "code",
   "execution_count": 8,
   "metadata": {},
   "outputs": [
    {
     "name": "stdout",
     "output_type": "stream",
     "text": [
      " The number is negative\n"
     ]
    }
   ],
   "source": [
    "# check sign\n",
    "n = int(input(\" Enter the value of n\"))\n",
    "if n > 0:\n",
    "    print(f\" The number is positive\")\n",
    "if n < 0:\n",
    "    print(f\" The number is negative\")\n",
    "else:\n",
    "    print(f\" The number is Zero\")\n",
    "\n"
   ]
  },
  {
   "cell_type": "markdown",
   "metadata": {},
   "source": [
    "# Uppgift 2"
   ]
  },
  {
   "cell_type": "code",
   "execution_count": 13,
   "metadata": {},
   "outputs": [
    {
     "name": "stdout",
     "output_type": "stream",
     "text": [
      "The smallest number is 6\n"
     ]
    }
   ],
   "source": [
    "# compute smallest number\n",
    "a = int(input(\"Enter the first number: \"))\n",
    "b = int(input(\"Enter the second number: \"))\n",
    "smallest = 0\n",
    "if a < b:\n",
    "    smallest = a\n",
    "if b < a:\n",
    "    smallest = b\n",
    "print(f\"The smallest number is {smallest}\")\n"
   ]
  },
  {
   "cell_type": "markdown",
   "metadata": {},
   "source": [
    "# Uppgift 3"
   ]
  },
  {
   "cell_type": "code",
   "execution_count": 43,
   "metadata": {},
   "outputs": [
    {
     "name": "stdout",
     "output_type": "stream",
     "text": [
      "All three angles are valid and make up a triangle\n",
      " The triangle is a right angle.\n"
     ]
    }
   ],
   "source": [
    "# check if the triangle has a right angle\n",
    "angle1 = int(input(\"Enter the first angle : \"))\n",
    "angle2 = int(input(\"Enter the second angle : \"))\n",
    "angle3 = int(input(\"Enter the third angle : \"))\n",
    "\n",
    "\n",
    "sum = angle1 + angle2 + angle3\n",
    "\n",
    "if sum == 180:\n",
    "    print(\"All three angles are valid and make up a triangle\")\n",
    "    if angle1 <= 90 or angle2 <= 90 or angle3 <= 90:\n",
    "        print(\" The triangle is a right angle.\")\n",
    "elif sum > 180:\n",
    "    print(\"It is not a right angle triangle\")\n"
   ]
  }
 ],
 "metadata": {
  "kernelspec": {
   "display_name": "Python 3.9.13 ('Python-vineela-nedunuri-iPG0HSA5')",
   "language": "python",
   "name": "python3"
  },
  "language_info": {
   "codemirror_mode": {
    "name": "ipython",
    "version": 3
   },
   "file_extension": ".py",
   "mimetype": "text/x-python",
   "name": "python",
   "nbconvert_exporter": "python",
   "pygments_lexer": "ipython3",
   "version": "3.9.13"
  },
  "orig_nbformat": 4,
  "vscode": {
   "interpreter": {
    "hash": "1db1b2e8567942dee12c64de01d929677cea7f86428756000840da4d34ce3db5"
   }
  }
 },
 "nbformat": 4,
 "nbformat_minor": 2
}
