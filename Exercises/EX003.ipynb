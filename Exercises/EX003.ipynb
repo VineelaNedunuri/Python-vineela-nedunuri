{
 "cells": [
  {
   "cell_type": "markdown",
   "metadata": {},
   "source": [
    "# 1a"
   ]
  },
  {
   "cell_type": "code",
   "execution_count": 82,
   "metadata": {},
   "outputs": [
    {
     "name": "stdout",
     "output_type": "stream",
     "text": [
      "-10\t-9\t-8\t-7\t-6\t-5\t-4\t-3\t-2\t-1\t0\t1\t2\t3\t4\t5\t6\t7\t8\t9\t10\t"
     ]
    }
   ],
   "source": [
    "\n",
    "for i in range(-10, 11):\n",
    "    print(i, end = '\\t')"
   ]
  },
  {
   "cell_type": "markdown",
   "metadata": {},
   "source": [
    "## 1b"
   ]
  },
  {
   "cell_type": "code",
   "execution_count": 80,
   "metadata": {},
   "outputs": [
    {
     "name": "stdout",
     "output_type": "stream",
     "text": [
      "-10\t -8\t -6\t -4\t -2\t 0\t 2\t 4\t 6\t 8\t 10\t "
     ]
    }
   ],
   "source": [
    "\n",
    "for i in range(-10, 11, 2):\n",
    "    \n",
    "    \n",
    "    print(i, end = \"\\t \")"
   ]
  },
  {
   "cell_type": "markdown",
   "metadata": {},
   "source": [
    "## 2a"
   ]
  },
  {
   "cell_type": "code",
   "execution_count": 78,
   "metadata": {},
   "outputs": [
    {
     "name": "stdout",
     "output_type": "stream",
     "text": [
      " 1+2+3+...+100 = 5050 \n"
     ]
    }
   ],
   "source": [
    "sum = 0\n",
    "\n",
    "for i in range(1,101):\n",
    "    sum = sum + i\n",
    "    \n",
    "print(f\" 1+2+3+...+100 = {sum} \")"
   ]
  },
  {
   "cell_type": "markdown",
   "metadata": {},
   "source": [
    "## 2b"
   ]
  },
  {
   "cell_type": "code",
   "execution_count": 75,
   "metadata": {},
   "outputs": [
    {
     "name": "stdout",
     "output_type": "stream",
     "text": [
      " 1+3+5+...+99 = 2500 \n"
     ]
    }
   ],
   "source": [
    "my_sum = 0\n",
    "\n",
    "for i in range(1, 100, 2):\n",
    "    my_sum = my_sum + i \n",
    "print(f\" 1+3+5+...+99 = {my_sum} \")"
   ]
  },
  {
   "cell_type": "markdown",
   "metadata": {},
   "source": [
    "# 3a"
   ]
  },
  {
   "cell_type": "code",
   "execution_count": 99,
   "metadata": {},
   "outputs": [
    {
     "name": "stdout",
     "output_type": "stream",
     "text": [
      "6 X  1 = 6\n",
      "6 X  2 = 12\n",
      "6 X  3 = 18\n",
      "6 X  4 = 24\n",
      "6 X  5 = 30\n",
      "6 X  6 = 36\n",
      "6 X  7 = 42\n",
      "6 X  8 = 48\n",
      "6 X  9 = 54\n",
      "6 X  10 = 60\n"
     ]
    }
   ],
   "source": [
    "number = 6\n",
    "i = 0\n",
    "for i in range(1,11):\n",
    "    ans = number * i\n",
    "    # print(ans)\n",
    "    \n",
    "    print(f\"{number} X  {i} = {ans}\")\n"
   ]
  },
  {
   "cell_type": "markdown",
   "metadata": {},
   "source": [
    "# 3b"
   ]
  },
  {
   "cell_type": "code",
   "execution_count": 108,
   "metadata": {},
   "outputs": [
    {
     "name": "stdout",
     "output_type": "stream",
     "text": [
      "Which table are you interested in? 5\n",
      "your 5 table is from 5 to 12 : \n",
      "5 X  5 = 25\n",
      "5 X  6 = 30\n",
      "5 X  7 = 35\n",
      "5 X  8 = 40\n",
      "5 X  9 = 45\n",
      "5 X  10 = 50\n",
      "5 X  11 = 55\n",
      "5 X  12 = 60\n"
     ]
    }
   ],
   "source": [
    "number = int(input(\"Enter number : \"))\n",
    "print(f\"Which table are you interested in? {number}\")\n",
    "i = 0\n",
    "print(f\"your {number} table is from 5 to 12 : \")\n",
    "for i in range(5,13):\n",
    "    ans = number * i\n",
    "    \n",
    "    print(f\"{number} X  {i} = {ans}\")\n",
    "   \n",
    "   "
   ]
  },
  {
   "cell_type": "markdown",
   "metadata": {},
   "source": [
    "# 3c"
   ]
  },
  {
   "cell_type": "code",
   "execution_count": 127,
   "metadata": {},
   "outputs": [
    {
     "name": "stdout",
     "output_type": "stream",
     "text": [
      "0\t0\t0\t0\t0\t0\t0\t0\t0\t0\t0\t\n",
      "0\t1\t2\t3\t4\t5\t6\t7\t8\t9\t10\t\n",
      "0\t2\t4\t6\t8\t10\t12\t14\t16\t18\t20\t\n",
      "0\t3\t6\t9\t12\t15\t18\t21\t24\t27\t30\t\n",
      "0\t4\t8\t12\t16\t20\t24\t28\t32\t36\t40\t\n",
      "0\t5\t10\t15\t20\t25\t30\t35\t40\t45\t50\t\n",
      "0\t6\t12\t18\t24\t30\t36\t42\t48\t54\t60\t\n",
      "0\t7\t14\t21\t28\t35\t42\t49\t56\t63\t70\t\n",
      "0\t8\t16\t24\t32\t40\t48\t56\t64\t72\t80\t\n",
      "0\t9\t18\t27\t36\t45\t54\t63\t72\t81\t90\t\n",
      "0\t10\t20\t30\t40\t50\t60\t70\t80\t90\t100\t\n"
     ]
    }
   ],
   "source": [
    "for row in range(11):\n",
    "    for col in range(11):\n",
    "        product = row * col\n",
    "        print(f\"{product}\", end=\"\\t\")\n",
    "    print() # new line"
   ]
  },
  {
   "cell_type": "markdown",
   "metadata": {},
   "source": [
    "# 4"
   ]
  },
  {
   "cell_type": "code",
   "execution_count": 129,
   "metadata": {},
   "outputs": [
    {
     "name": "stdout",
     "output_type": "stream",
     "text": [
      "60\n",
      "60\n",
      "60\n",
      "60\n",
      "60\n"
     ]
    }
   ],
   "source": [
    "n = int(input(\"Enter the number: \"))\n",
    "for i in range(n):\n",
    "    factorial = n *(n-1)*(n-2)\n",
    "    print(factorial)"
   ]
  },
  {
   "cell_type": "markdown",
   "metadata": {},
   "source": []
  }
 ],
 "metadata": {
  "kernelspec": {
   "display_name": "Python 3.9.13 64-bit",
   "language": "python",
   "name": "python3"
  },
  "language_info": {
   "codemirror_mode": {
    "name": "ipython",
    "version": 3
   },
   "file_extension": ".py",
   "mimetype": "text/x-python",
   "name": "python",
   "nbconvert_exporter": "python",
   "pygments_lexer": "ipython3",
   "version": "3.9.13"
  },
  "orig_nbformat": 4,
  "vscode": {
   "interpreter": {
    "hash": "aa93088360420e47a92e6fc9121e9159dbf1900a5f483a704136b076cb810347"
   }
  }
 },
 "nbformat": 4,
 "nbformat_minor": 2
}
