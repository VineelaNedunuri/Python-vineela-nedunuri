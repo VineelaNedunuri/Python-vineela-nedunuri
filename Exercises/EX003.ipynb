{
 "cells": [
  {
   "cell_type": "markdown",
   "metadata": {},
   "source": [
    "## 1. Count numbers \n",
    "- Use a for statement to count from:"
   ]
  },
  {
   "cell_type": "markdown",
   "metadata": {},
   "source": [
    "- a)   -10 to 10 with one increment"
   ]
  },
  {
   "cell_type": "code",
   "execution_count": 4,
   "metadata": {},
   "outputs": [
    {
     "name": "stdout",
     "output_type": "stream",
     "text": [
      "-10 -9 -8 -7 -6 -5 -4 -3 -2 -1 0 1 2 3 4 5 6 7 8 9 10 "
     ]
    }
   ],
   "source": [
    "#  Count numbers with one increment\n",
    "for i in range(-10, 11):\n",
    "    print(i, end = \" \")"
   ]
  },
  {
   "cell_type": "markdown",
   "metadata": {},
   "source": [
    "-  b)   -10 to 10 with two increment"
   ]
  },
  {
   "cell_type": "code",
   "execution_count": 9,
   "metadata": {},
   "outputs": [
    {
     "name": "stdout",
     "output_type": "stream",
     "text": [
      "-10 -8 -6 -4 -2 0 2 4 6 8 10 "
     ]
    }
   ],
   "source": [
    "#  Count numbers with two increments\n",
    "for i in range(-10, 11, 2):\n",
    "    print(i, end = \" \")"
   ]
  },
  {
   "cell_type": "markdown",
   "metadata": {},
   "source": [
    "## 2. Arithmetic sum \n",
    "- Use a for statement to compute the following sums:  "
   ]
  },
  {
   "cell_type": "markdown",
   "metadata": {},
   "source": [
    "- a) sum = 1+2+3+.....+100"
   ]
  },
  {
   "cell_type": "code",
   "execution_count": 3,
   "metadata": {},
   "outputs": [
    {
     "name": "stdout",
     "output_type": "stream",
     "text": [
      " 1+2+3+...+100 = 5050 \n"
     ]
    }
   ],
   "source": [
    "#Arithmetic sum\n",
    "sum = 0\n",
    "\n",
    "for i in range(1,101):\n",
    "    sum +=  i\n",
    "    \n",
    "print(f\" 1+2+3+...+100 = {sum} \")"
   ]
  },
  {
   "cell_type": "markdown",
   "metadata": {},
   "source": [
    "- b) sum =  1+3+5+...+99"
   ]
  },
  {
   "cell_type": "code",
   "execution_count": 4,
   "metadata": {},
   "outputs": [
    {
     "name": "stdout",
     "output_type": "stream",
     "text": [
      " 1+3+5+...+99 = 2500 \n"
     ]
    }
   ],
   "source": [
    "# Arithmetic sum\n",
    "my_sum = 0\n",
    "\n",
    "for i in range(1, 100, 2):\n",
    "    my_sum += i \n",
    "print(f\" 1+3+5+...+99 = {my_sum} \")"
   ]
  },
  {
   "cell_type": "markdown",
   "metadata": {},
   "source": [
    "## 3. Multiplication table \n",
    "- Use for statement(s) to:"
   ]
  },
  {
   "cell_type": "markdown",
   "metadata": {},
   "source": [
    "- a)   print out the 6th multiplication table from 0 to 10 (*)\n"
   ]
  },
  {
   "cell_type": "code",
   "execution_count": 10,
   "metadata": {},
   "outputs": [
    {
     "name": "stdout",
     "output_type": "stream",
     "text": [
      "6 X  0 = 0\n",
      "6 X  1 = 6\n",
      "6 X  2 = 12\n",
      "6 X  3 = 18\n",
      "6 X  4 = 24\n",
      "6 X  5 = 30\n",
      "6 X  6 = 36\n",
      "6 X  7 = 42\n",
      "6 X  8 = 48\n",
      "6 X  9 = 54\n",
      "6 X  10 = 60\n"
     ]
    }
   ],
   "source": [
    "# Multiplication table of 6\n",
    "number = 6\n",
    "i = 0\n",
    "for i in range(11):\n",
    "    ans = number * i\n",
    "    # print(ans)\n",
    "    \n",
    "    print(f\"{number} X  {i} = {ans}\")\n"
   ]
  },
  {
   "cell_type": "markdown",
   "metadata": {},
   "source": [
    "- b)   let the user input the table, start and end of the table. "
   ]
  },
  {
   "cell_type": "code",
   "execution_count": 11,
   "metadata": {},
   "outputs": [
    {
     "name": "stdout",
     "output_type": "stream",
     "text": [
      "Which table are you interested in? 5\n",
      "your 5 table is from 6 to 14: \n",
      "5 X  6 = 30\n",
      "5 X  7 = 35\n",
      "5 X  8 = 40\n",
      "5 X  9 = 45\n",
      "5 X  10 = 50\n",
      "5 X  11 = 55\n",
      "5 X  12 = 60\n",
      "5 X  13 = 65\n",
      "5 X  14 = 70\n"
     ]
    }
   ],
   "source": [
    "# Multiplication table\n",
    "number = int(input(\"Enter number : \"))\n",
    "print(f\"Which table are you interested in? {number}\")\n",
    "start = int(input(\"Enter start number : \"))\n",
    "end = int(input(\" Enter the last number\"))\n",
    "i = 0\n",
    "print(f\"your {number} table is from {start} to {end}: \")\n",
    "for i in range(start, end+1):\n",
    "    ans = number * i\n",
    "    \n",
    "    print(f\"{number} X  {i} = {ans}\")\n",
    "   \n",
    "   "
   ]
  },
  {
   "cell_type": "markdown",
   "metadata": {},
   "source": [
    "-  c)   print out a full multiplication table from 0 to 10. "
   ]
  },
  {
   "cell_type": "code",
   "execution_count": 7,
   "metadata": {},
   "outputs": [
    {
     "name": "stdout",
     "output_type": "stream",
     "text": [
      "0\t0\t0\t0\t0\t0\t0\t0\t0\t0\t0\t\n",
      "0\t1\t2\t3\t4\t5\t6\t7\t8\t9\t10\t\n",
      "0\t2\t4\t6\t8\t10\t12\t14\t16\t18\t20\t\n",
      "0\t3\t6\t9\t12\t15\t18\t21\t24\t27\t30\t\n",
      "0\t4\t8\t12\t16\t20\t24\t28\t32\t36\t40\t\n",
      "0\t5\t10\t15\t20\t25\t30\t35\t40\t45\t50\t\n",
      "0\t6\t12\t18\t24\t30\t36\t42\t48\t54\t60\t\n",
      "0\t7\t14\t21\t28\t35\t42\t49\t56\t63\t70\t\n",
      "0\t8\t16\t24\t32\t40\t48\t56\t64\t72\t80\t\n",
      "0\t9\t18\t27\t36\t45\t54\t63\t72\t81\t90\t\n",
      "0\t10\t20\t30\t40\t50\t60\t70\t80\t90\t100\t\n"
     ]
    }
   ],
   "source": [
    "# Multiplication table from 0 to 10\n",
    "for i in range(11):\n",
    "    for j in range(11):\n",
    "        product = i * j\n",
    "        print(f\"{product}\", end=\"\\t\")\n",
    "    print() # new line"
   ]
  },
  {
   "cell_type": "markdown",
   "metadata": {},
   "source": [
    "## 4. Faculty \n",
    "Use a for statement to compute n! .\n",
    "\n",
    "n! = 1.2.3.........(n-1).n\n",
    "\n",
    "Let the user input n ."
   ]
  },
  {
   "cell_type": "code",
   "execution_count": 13,
   "metadata": {},
   "outputs": [
    {
     "name": "stdout",
     "output_type": "stream",
     "text": [
      "The factorial of 6 is  720\n"
     ]
    }
   ],
   "source": [
    "# Faculty\n",
    "n = int(input(\"Enter the number: \"))\n",
    "factorial = 1\n",
    "for i in range(1, n+1):\n",
    "    factorial *= i\n",
    "\n",
    "print(f\"The factorial of {n} is \",factorial)"
   ]
  },
  {
   "cell_type": "markdown",
   "metadata": {},
   "source": [
    "## 5. Guess the number \n",
    "The computer thinks of a four-digit number. Start by creating a random four-digit number. Use for statement to figure out a correct guess"
   ]
  },
  {
   "cell_type": "code",
   "execution_count": 19,
   "metadata": {},
   "outputs": [
    {
     "name": "stdout",
     "output_type": "stream",
     "text": [
      " The computer guess is  7907\n",
      " The guess number is  7907\n"
     ]
    }
   ],
   "source": [
    "# Guess the number\n",
    "import random\n",
    "number = random.randint(1, 10000)\n",
    "print(\" The computer guess is \",number)\n",
    "for i in range (10000):\n",
    "    if i == number:\n",
    "        print(\" The guess number is \",i)\n",
    "        break"
   ]
  },
  {
   "cell_type": "markdown",
   "metadata": {},
   "source": [
    "## 6. Rice on chessboard \n",
    "In first square of the chessboard there is one grain of rice, in the second square there is two grains, in the third square there is four grains and so on. How many grains are there in the whole chessboard when all squares are filled using this pattern?"
   ]
  },
  {
   "cell_type": "code",
   "execution_count": 21,
   "metadata": {},
   "outputs": [
    {
     "name": "stdout",
     "output_type": "stream",
     "text": [
      "The total rice grains: 18446744073709551615\n"
     ]
    }
   ],
   "source": [
    "#  Rice on chessboard\n",
    "\n",
    "mySum = 0\n",
    "for i in range(64):\n",
    "    mySum += 2**i\n",
    "   \n",
    "print(\"The total rice grains:\",mySum)\n",
    "\n"
   ]
  }
 ],
 "metadata": {
  "kernelspec": {
   "display_name": "Python 3.9.13 ('Python-vineela-nedunuri-iPG0HSA5')",
   "language": "python",
   "name": "python3"
  },
  "language_info": {
   "codemirror_mode": {
    "name": "ipython",
    "version": 3
   },
   "file_extension": ".py",
   "mimetype": "text/x-python",
   "name": "python",
   "nbconvert_exporter": "python",
   "pygments_lexer": "ipython3",
   "version": "3.9.13"
  },
  "orig_nbformat": 4,
  "vscode": {
   "interpreter": {
    "hash": "1db1b2e8567942dee12c64de01d929677cea7f86428756000840da4d34ce3db5"
   }
  }
 },
 "nbformat": 4,
 "nbformat_minor": 2
}
