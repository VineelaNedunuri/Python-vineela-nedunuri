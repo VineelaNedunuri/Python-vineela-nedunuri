{
 "cells": [
  {
   "cell_type": "markdown",
   "metadata": {},
   "source": [
    "## 1.Curriculum"
   ]
  },
  {
   "cell_type": "code",
   "execution_count": 7,
   "metadata": {},
   "outputs": [
    {
     "name": "stdout",
     "output_type": "stream",
     "text": [
      "{'Intro till AI': 5, 'programmering med python': 40, 'Databehandling': 25, 'Linjär algebra': 20, 'Statistika metoder': 30, 'Maskininlärning': 45, 'Djup maskininlärning': 40, 'Databaser': 25, 'LIA1': 40, 'Praktiska maskininlärning': 20, 'projektmetodik': 10, 'Praktisk maskininlärning': 15, 'LIA2': 70, 'Examensarbete': 15}\n",
      "The total number of points: 400\n"
     ]
    }
   ],
   "source": [
    "course = {\n",
    "    \"Intro till AI\": 5,\"programmering med python\": 40,\"Databehandling\": 25,\"Linjär algebra\": 20,\"Statistika metoder\": 30,\n",
    "    \"Maskininlärning\": 45,\"Djup maskininlärning\": 40,\"Databaser\": 25,\"LIA1\": 40,\"Praktiska maskininlärning\": 20,\"projektmetodik\": 10,\n",
    "    \"Praktisk maskininlärning\": 15,\"LIA2\": 70,\"Examensarbete\": 15,\n",
    "}\n",
    "print(course)\n",
    "#total_points = 0\n",
    "#for key, value in course.items():\n",
    "#    total_points += value\n",
    "#print(total_points)\n",
    "\n",
    "d = course.values()\n",
    "total = sum(d)\n",
    "print(\"The total number of points:\", total)\n",
    "\n",
    "   "
   ]
  },
  {
   "cell_type": "markdown",
   "metadata": {},
   "source": [
    "## 2.Dice simulation"
   ]
  },
  {
   "cell_type": "code",
   "execution_count": 18,
   "metadata": {},
   "outputs": [
    {
     "name": "stdout",
     "output_type": "stream",
     "text": [
      "{'1': 166488, '2': 167375, '3': 166558, '4': 166367, '5': 166754, '6': 166428}\n"
     ]
    }
   ],
   "source": [
    "import random as rnd\n",
    "\n",
    "dice_list = {}\n",
    "\n",
    "for i, number in enumerate(\"123456\"):\n",
    "    dices = [rnd.randint(1,6) for i in range(1000000)]\n",
    "    dice_list[number]= dices.count(i+1)\n",
    "print(dice_list)\n",
    "\n"
   ]
  },
  {
   "cell_type": "markdown",
   "metadata": {},
   "source": [
    "## 3.  Pokemon list"
   ]
  },
  {
   "cell_type": "code",
   "execution_count": 57,
   "metadata": {},
   "outputs": [
    {
     "name": "stdout",
     "output_type": "stream",
     "text": [
      "{'Bulbasaur': ['GrÃ¤s/Gift', 1], 'Ivysaur': ['GrÃ¤s/Gift', 2], 'Venusaur': ['GrÃ¤s/Gift', 3], 'Charmander': ['Eld', 4], 'Charmeleon': ['Eld', 5], 'Charizard': ['Eld/Flygande', 6], 'Squirtle': ['Vatten', 7], 'Wartortle': ['Vatten', 8], 'Blastoise': ['Vatten', 9], 'Caterpie': ['Insekt', 10], 'Metapod': ['Insekt', 11], 'Butterfree': ['Insekt/Flygande', 12], 'Weedle': ['Insekt/Gift', 13], 'Kakuna': ['Insekt/Gift', 14], 'Beedrill': ['Insekt/Gift', 15], 'Pidgey': ['Normal/Flygande', 16], 'Pidgeotto': ['Normal/Flygande', 17], 'Pidgeot': ['Normal/Flygande', 18], 'Rattata': ['Normal', 19], 'Raticate': ['Normal', 20], 'Spearow': ['Normal/Flygande', 21], 'Fearow': ['Normal/Flygande', 22], 'Ekans': ['Gift', 23], 'Arbok': ['Gift', 24], 'Pikachu': ['Elektrisk', 25], 'Raichu': ['Elektrisk', 26], 'Sandshrew': ['Mark', 27], 'Sandslash': ['Mark', 28], 'Nidoranâ™€': ['Gift', 29], 'Nidorina': ['Gift', 30], 'Nidoqueen': ['Gift/Mark', 31], 'Nidoranâ™‚': ['Gift', 32], 'Nidorino': ['Gift', 33], 'Nidoking': ['Gift/Mark', 34], 'Clefairy': ['FÃ©', 35], 'Clefable': ['FÃ©', 36], 'Vulpix': ['Eld', 37], 'Ninetales': ['Eld', 38], 'Jigglypuff': ['Normal/FÃ©', 39], 'Wigglytuff': ['Normal/FÃ©', 40], 'Zubat': ['Gift/Flygande', 41], 'Golbat': ['Gift/Flygande', 42], 'Oddish': ['GrÃ¤s/Gift', 43], 'Gloom': ['GrÃ¤s/Gift', 44], 'Vileplume': ['GrÃ¤s/Gift', 45], 'Paras': ['Insekt/GrÃ¤s', 46], 'Parasect': ['Insekt/GrÃ¤s', 47], 'Venonat': ['Insekt/Gift', 48], 'Venomoth': ['Insekt/Gift', 49], 'Diglett': ['Mark', 50], 'Dugtrio': ['Mark', 51], 'Meowth': ['Normal', 52], 'Persian': ['Normal', 53], 'Psyduck': ['Vatten', 54], 'Golduck': ['Vatten', 55], 'Mankey': ['Kamp', 56], 'Primeape': ['Kamp', 57], 'Growlithe': ['Eld', 58], 'Arcanine': ['Eld', 59], 'Poliwag': ['Vatten', 60], 'Poliwhirl': ['Vatten', 61], 'Poliwrath': ['Vatten/Kamp', 62], 'Abra': ['Psykisk', 63], 'Kadabra': ['Psykisk', 64], 'Alakazam': ['Psykisk', 65], 'Machop': ['Kamp', 66], 'Machoke': ['Kamp', 67], 'Machamp': ['Kamp', 68], 'Bellsprout': ['GrÃ¤s/Gift', 69], 'Weepinbell': ['GrÃ¤s/Gift', 70], 'Victreebel': ['GrÃ¤s/Gift', 71], 'Tentacool': ['Vatten/Gift', 72], 'Tentacruel': ['Vatten/Gift', 73], 'Geodude': ['Sten/Mark', 74], 'Graveler': ['Sten/Mark', 75], 'Golem': ['Sten/Mark', 76], 'Ponyta': ['Eld', 77], 'Rapidash': ['Eld', 78], 'Slowpoke': ['Vatten/Psykisk', 79], 'Slowbro': ['Vatten/Psykisk', 80], 'Magnemite': ['Elektrisk/StÃ¥l', 81], 'Magneton': ['Elektrisk/StÃ¥l', 82], \"Farfetch'd\": ['Normal/Flygande', 83], 'Doduo': ['Normal/Flygande', 84], 'Dodrio': ['Normal/Flygande', 85], 'Seel': ['Vatten', 86], 'Dewgong': ['Vatten/Is', 87], 'Grimer': ['Gift', 88], 'Muk': ['Gift', 89], 'Shellder': ['Vatten', 90], 'Cloyster': ['Vatten/Is', 91], 'Gastly': ['SpÃ¶ke/Gift', 92], 'Haunter': ['SpÃ¶ke/Gift', 93], 'Gengar': ['SpÃ¶ke/Gift', 94], 'Onix': ['Sten/Mark', 95], 'Drowzee': ['Psykisk', 96], 'Hypno': ['Psykisk', 97], 'Krabby': ['Vatten', 98], 'Kingler': ['Vatten', 99], 'Voltorb': ['Elektrisk', 100], 'Electrode': ['Elektrisk', 101], 'Exeggcute': ['GrÃ¤s/Psykisk', 102], 'Exeggutor': ['GrÃ¤s/Psykisk', 103], 'Cubone': ['Mark', 104], 'Marowak': ['Mark', 105], 'Hitmonlee': ['Kamp', 106], 'Hitmonchan': ['Kamp', 107], 'Lickitung': ['Normal', 108], 'Koffing': ['Gift', 109], 'Weezing': ['Gift', 110], 'Rhyhorn': ['Mark/Sten', 111], 'Rhydon': ['Mark/Sten', 112], 'Chansey': ['Normal', 113], 'Tangela': ['GrÃ¤s', 114], 'Kangaskhan': ['Normal', 115], 'Horsea': ['Vatten', 116], 'Seadra': ['Vatten', 117], 'Goldeen': ['Vatten', 118], 'Seaking': ['Vatten', 119], 'Staryu': ['Vatten', 120], 'Starmie': ['Vatten/Psykisk', 121], 'Mr.': ['Mime', 122], 'Scyther': ['Insekt/Flygande', 123], 'Jynx': ['Is/Psykisk', 124], 'Electabuzz': ['Elektrisk', 125], 'Magmar': ['Eld', 126], 'Pinsir': ['Insekt', 127], 'Tauros': ['Normal', 128], 'Magikarp': ['Vatten', 129], 'Gyarados': ['Vatten/Flygande', 130], 'Lapras': ['Vatten/Is', 131], 'Ditto': ['Normal', 132], 'Eevee': ['Normal', 133], 'Vaporeon': ['Vatten', 134], 'Jolteon': ['Elektrisk', 135], 'Flareon': ['Eld', 136], 'Porygon': ['Normal', 137], 'Omanyte': ['Sten/Vatten', 138], 'Omastar': ['Sten/Vatten', 139], 'Kabuto': ['Sten/Vatten', 140], 'Kabutops': ['Sten/Vatten', 141], 'Aerodactyl': ['Sten/Flygande', 142], 'Snorlax': ['Normal', 143], 'Articuno': ['Is/Flygande', 144], 'Zapdos': ['Elektrisk/Flygande', 145], 'Moltres': ['Eld/Flygande', 146], 'Dratini': ['Drake', 147], 'Dragonair': ['Drake', 148], 'Dragonite': ['Drake/Flygande', 149], 'Mewtwo': ['Psykisk', 150]}\n",
      "['SpÃ¶ke/Gift', 94]\n",
      "['Elektrisk', 25]\n"
     ]
    }
   ],
   "source": [
    "\n",
    "path = \"../Data/pokemon_list.txt\"\n",
    "with open(path, \"r\") as f:\n",
    "    pokemon_list = []\n",
    "    for i in f:\n",
    "        x = i.split()\n",
    "        pokemon_list.append(x) \n",
    "    \n",
    "    pokedex = {}\n",
    "    for i in range(len(pokemon_list)): # convert list to dictionary\n",
    "        pokedex[pokemon_list[i][1]] = [pokemon_list[i][2],int(pokemon_list[i][0])]\n",
    "    print(pokedex)\n",
    "\n",
    "\n",
    "    print(pokedex[\"Gengar\"])\n",
    "    print(pokedex[\"Pikachu\"])\n",
    "    "
   ]
  },
  {
   "cell_type": "markdown",
   "metadata": {},
   "source": [
    "## 4. Morse code"
   ]
  },
  {
   "cell_type": "code",
   "execution_count": null,
   "metadata": {},
   "outputs": [
    {
     "name": "stdout",
     "output_type": "stream",
     "text": [
      "{'A ': ' .-', 'B ': ' -...', 'C ': ' -.-.', 'D ': ' -..', 'E ': ' .', 'F ': ' ..-.', 'G ': ' --', 'H ': ' ....', 'I ': ' ..', 'J ': ' .---', 'K ': ' -.-', 'L ': ' .-..', 'M ': ' --', 'N ': ' -.', 'O ': ' ---', 'P ': ' .--', 'Q  ': ' --.-', 'R ': ' .-.', 'S ': ' ...', 'T ': ' -', 'U ': ' ..-', 'V ': ' ...-', 'W ': ' .--', 'X ': ' -..-', 'Y ': ' -.--', 'Z ': ' --..', 'Ã… ': ' .--.-', 'Ã„ ': ' .-.-', 'Ã– ': ' ---'}\n"
     ]
    }
   ],
   "source": [
    "\n",
    "path = \"../Data/morse.txt\"\n",
    "with open(path, \"r\") as f:\n",
    "    morse_dict ={}\n",
    "    for i in f:\n",
    "        x = i.strip(\"\\n\")\n",
    "        (key, value) = x.split(\":\")\n",
    "        morse_dict[(key)] = value\n",
    "    print(morse_dict) \n",
    "\n",
    "    def morse(message):\n",
    "        for letter in message:\n",
    "            if letter == morse_dict[(key)]:\n",
    "                print(morse_dict[(value)])\n",
    "                \n",
    "            #print(morse_dict[letter])\n",
    "    morse(\"SOS\")\n",
    "    \n",
    "\n",
    "\n",
    "        \n",
    "    #\n",
    "      \n",
    "        \n",
    "        "
   ]
  },
  {
   "cell_type": "code",
   "execution_count": 31,
   "metadata": {},
   "outputs": [],
   "source": [
    " for message in morse_dict.items():\n",
    "            \n",
    "        \n",
    "        if message == morse_dict[(key)]:\n",
    "            print(morse_dict[(value)])\n"
   ]
  }
 ],
 "metadata": {
  "kernelspec": {
   "display_name": "Python 3.9.13 64-bit",
   "language": "python",
   "name": "python3"
  },
  "language_info": {
   "codemirror_mode": {
    "name": "ipython",
    "version": 3
   },
   "file_extension": ".py",
   "mimetype": "text/x-python",
   "name": "python",
   "nbconvert_exporter": "python",
   "pygments_lexer": "ipython3",
   "version": "3.9.13"
  },
  "orig_nbformat": 4,
  "vscode": {
   "interpreter": {
    "hash": "aa93088360420e47a92e6fc9121e9159dbf1900a5f483a704136b076cb810347"
   }
  }
 },
 "nbformat": 4,
 "nbformat_minor": 2
}
