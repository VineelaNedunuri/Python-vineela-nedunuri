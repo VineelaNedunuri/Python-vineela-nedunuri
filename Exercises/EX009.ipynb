{
 "cells": [
  {
   "cell_type": "markdown",
   "metadata": {},
   "source": [
    "## 1.Curriculum"
   ]
  },
  {
   "cell_type": "code",
   "execution_count": 7,
   "metadata": {},
   "outputs": [
    {
     "name": "stdout",
     "output_type": "stream",
     "text": [
      "{'Intro till AI': 5, 'programmering med python': 40, 'Databehandling': 25, 'Linjär algebra': 20, 'Statistika metoder': 30, 'Maskininlärning': 45, 'Djup maskininlärning': 40, 'Databaser': 25, 'LIA1': 40, 'Praktiska maskininlärning': 20, 'projektmetodik': 10, 'Praktisk maskininlärning': 15, 'LIA2': 70, 'Examensarbete': 15}\n",
      "The total number of points: 400\n"
     ]
    }
   ],
   "source": [
    "course = {\n",
    "    \"Intro till AI\": 5,\"programmering med python\": 40,\"Databehandling\": 25,\"Linjär algebra\": 20,\"Statistika metoder\": 30,\n",
    "    \"Maskininlärning\": 45,\"Djup maskininlärning\": 40,\"Databaser\": 25,\"LIA1\": 40,\"Praktiska maskininlärning\": 20,\"projektmetodik\": 10,\n",
    "    \"Praktisk maskininlärning\": 15,\"LIA2\": 70,\"Examensarbete\": 15,\n",
    "}\n",
    "print(course)\n",
    "#total_points = 0\n",
    "#for key, value in course.items():\n",
    "#    total_points += value\n",
    "#print(total_points)\n",
    "\n",
    "d = course.values()\n",
    "total = sum(d)\n",
    "print(\"The total number of points:\", total)\n",
    "\n",
    "   "
   ]
  },
  {
   "cell_type": "markdown",
   "metadata": {},
   "source": [
    "## 2.Dice simulation"
   ]
  },
  {
   "cell_type": "code",
   "execution_count": 18,
   "metadata": {},
   "outputs": [
    {
     "name": "stdout",
     "output_type": "stream",
     "text": [
      "{'1': 166488, '2': 167375, '3': 166558, '4': 166367, '5': 166754, '6': 166428}\n"
     ]
    }
   ],
   "source": [
    "import random as rnd\n",
    "\n",
    "dice_list = {}\n",
    "\n",
    "for i, number in enumerate(\"123456\"):\n",
    "    dices = [rnd.randint(1,6) for i in range(1000000)]\n",
    "    dice_list[number]= dices.count(i+1)\n",
    "print(dice_list)\n",
    "\n"
   ]
  },
  {
   "cell_type": "markdown",
   "metadata": {},
   "source": [
    "## 3.  Pokemon list"
   ]
  },
  {
   "cell_type": "code",
   "execution_count": null,
   "metadata": {},
   "outputs": [],
   "source": [
    "#path = \"../Data/pokemon_list.txt\"\n",
    "#with open(\"../Data/pokemon_list.txt\", \"r\") as f_quotes, open(\"../Data/pokemon_list.txt\", \"a\") as f_append:\n",
    "path = \"../Data/pokemon_list.txt\"\n",
    "with open(path, \"r\") as f:\n",
    "\n",
    "pokedex = {\"pokemon\":\"type, index\"}\n",
    "\n"
   ]
  },
  {
   "cell_type": "code",
   "execution_count": 27,
   "metadata": {},
   "outputs": [
    {
     "ename": "NameError",
     "evalue": "name 'pokemon' is not defined",
     "output_type": "error",
     "traceback": [
      "\u001b[1;31m---------------------------------------------------------------------------\u001b[0m",
      "\u001b[1;31mNameError\u001b[0m                                 Traceback (most recent call last)",
      "\u001b[1;32mc:\\Users\\vinee\\Documents\\Github\\Python-vineela-nedunuri\\Exercises\\EX009.ipynb Cell 7\u001b[0m in \u001b[0;36m<cell line: 2>\u001b[1;34m()\u001b[0m\n\u001b[0;32m      <a href='vscode-notebook-cell:/c%3A/Users/vinee/Documents/Github/Python-vineela-nedunuri/Exercises/EX009.ipynb#X11sZmlsZQ%3D%3D?line=4'>5</a>\u001b[0m         pokedex\u001b[39m.\u001b[39mappend(i\u001b[39m.\u001b[39mstrip(\u001b[39m\"\u001b[39m\u001b[39m\\n\u001b[39;00m\u001b[39m\"\u001b[39m))\n\u001b[0;32m      <a href='vscode-notebook-cell:/c%3A/Users/vinee/Documents/Github/Python-vineela-nedunuri/Exercises/EX009.ipynb#X11sZmlsZQ%3D%3D?line=5'>6</a>\u001b[0m         \u001b[39m#pokemon = pokedex.split()\u001b[39;00m\n\u001b[1;32m----> <a href='vscode-notebook-cell:/c%3A/Users/vinee/Documents/Github/Python-vineela-nedunuri/Exercises/EX009.ipynb#X11sZmlsZQ%3D%3D?line=6'>7</a>\u001b[0m     \u001b[39mprint\u001b[39m(pokemon)\n\u001b[0;32m      <a href='vscode-notebook-cell:/c%3A/Users/vinee/Documents/Github/Python-vineela-nedunuri/Exercises/EX009.ipynb#X11sZmlsZQ%3D%3D?line=7'>8</a>\u001b[0m pokemon \u001b[39m=\u001b[39m [pokedex\u001b[39m.\u001b[39msplit()[\u001b[39m-\u001b[39m\u001b[39m2\u001b[39m:] \u001b[39mfor\u001b[39;00m i \u001b[39min\u001b[39;00m f]  \n\u001b[0;32m      <a href='vscode-notebook-cell:/c%3A/Users/vinee/Documents/Github/Python-vineela-nedunuri/Exercises/EX009.ipynb#X11sZmlsZQ%3D%3D?line=8'>9</a>\u001b[0m \u001b[39mprint\u001b[39m(pokemon)\n",
      "\u001b[1;31mNameError\u001b[0m: name 'pokemon' is not defined"
     ]
    }
   ],
   "source": [
    "path = \"../Data/pokemon_list.txt\"\n",
    "with open(path, \"r\") as f:\n",
    "    pokedex = []\n",
    "    for i in f:\n",
    "        pokedex.append(i.strip(\"\\n\"))\n",
    "        #pokemon = pokedex.split()\n",
    "    print(pokemon)\n",
    "pokemon = [pokedex.split()[-2:] for i in f]  \n",
    "print(pokemon)    "
   ]
  },
  {
   "cell_type": "code",
   "execution_count": null,
   "metadata": {},
   "outputs": [],
   "source": []
  }
 ],
 "metadata": {
  "kernelspec": {
   "display_name": "Python 3.9.13 64-bit",
   "language": "python",
   "name": "python3"
  },
  "language_info": {
   "codemirror_mode": {
    "name": "ipython",
    "version": 3
   },
   "file_extension": ".py",
   "mimetype": "text/x-python",
   "name": "python",
   "nbconvert_exporter": "python",
   "pygments_lexer": "ipython3",
   "version": "3.9.13"
  },
  "orig_nbformat": 4,
  "vscode": {
   "interpreter": {
    "hash": "aa93088360420e47a92e6fc9121e9159dbf1900a5f483a704136b076cb810347"
   }
  }
 },
 "nbformat": 4,
 "nbformat_minor": 2
}
