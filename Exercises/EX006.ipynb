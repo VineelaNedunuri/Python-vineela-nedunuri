{
 "cells": [
  {
   "cell_type": "markdown",
   "metadata": {},
   "source": [
    "## 1. Area"
   ]
  },
  {
   "cell_type": "code",
   "execution_count": 3,
   "metadata": {},
   "outputs": [
    {
     "name": "stdout",
     "output_type": "stream",
     "text": [
      "The are of the triangle 112.0\n"
     ]
    }
   ],
   "source": [
    "def area(base,height):\n",
    "    return (base*height*0.5)\n",
    "print(f\"The area of the triangle {area(14,16)}\")"
   ]
  },
  {
   "cell_type": "markdown",
   "metadata": {},
   "source": [
    "## 2. Euclidean distance"
   ]
  },
  {
   "cell_type": "code",
   "execution_count": 12,
   "metadata": {},
   "outputs": [
    {
     "name": "stdout",
     "output_type": "stream",
     "text": [
      "The euclidean distance is 3.605551275463989\n"
     ]
    }
   ],
   "source": [
    "import math\n",
    "\n",
    "def distance(p1,p2,q1,q2):\n",
    "    return math.sqrt((p1-q1)**2 + (p2-q2)**2)\n",
    "print(f\"The euclidean distance is {distance(2,4,5,6)}\")\n"
   ]
  },
  {
   "cell_type": "markdown",
   "metadata": {},
   "source": [
    "### 2b Call the function using the users input points"
   ]
  },
  {
   "cell_type": "code",
   "execution_count": 55,
   "metadata": {},
   "outputs": [
    {
     "name": "stdout",
     "output_type": "stream",
     "text": [
      "The inputs are  [4.0, 7.0] [8.0, 5.0]\n",
      "The euclidean distance is 2.000976324197765\n"
     ]
    }
   ],
   "source": [
    "import math\n",
    "\n",
    "def function():\n",
    "    x = input(\"Enter two numbers separate with comma tecken: \")\n",
    "    p = [float(number) for number in x.split(\",\")]\n",
    "    \n",
    "\n",
    "    y = input(\"Enter two numbers separate with comma tecken: \")\n",
    "    q = [float(number) for number in y.split(\",\")]\n",
    "    \n",
    "\n",
    "    print(f\"The inputs are \", p,q)\n",
    "    result = math.sqrt((p[0]-q[0])**(p[0]-q[0]) + (p[1]-q[1])**(p[1]-q[1]))\n",
    "    print(\"The euclidean distance is\" ,result)\n",
    "    \n",
    "function()\n",
    "\n",
    "\n"
   ]
  },
  {
   "cell_type": "markdown",
   "metadata": {},
   "source": [
    "## 2c calculate distances between the origin (0, 0) and points"
   ]
  },
  {
   "cell_type": "code",
   "execution_count": 61,
   "metadata": {},
   "outputs": [
    {
     "name": "stdout",
     "output_type": "stream",
     "text": [
      "[]\n"
     ]
    },
    {
     "ename": "NameError",
     "evalue": "name 'x' is not defined",
     "output_type": "error",
     "traceback": [
      "\u001b[1;31m---------------------------------------------------------------------------\u001b[0m",
      "\u001b[1;31mNameError\u001b[0m                                 Traceback (most recent call last)",
      "\u001b[1;32mc:\\Users\\vinee\\Documents\\Github\\Python-vineela-nedunuri\\Exercises\\EX006.ipynb Cell 8\u001b[0m in \u001b[0;36m<cell line: 11>\u001b[1;34m()\u001b[0m\n\u001b[0;32m      <a href='vscode-notebook-cell:/c%3A/Users/vinee/Documents/Github/Python-vineela-nedunuri/Exercises/EX006.ipynb#X12sZmlsZQ%3D%3D?line=8'>9</a>\u001b[0m         distance_list\u001b[39m.\u001b[39mappend(distance)\n\u001b[0;32m     <a href='vscode-notebook-cell:/c%3A/Users/vinee/Documents/Github/Python-vineela-nedunuri/Exercises/EX006.ipynb#X12sZmlsZQ%3D%3D?line=9'>10</a>\u001b[0m \u001b[39mprint\u001b[39m(distance_list)\n\u001b[1;32m---> <a href='vscode-notebook-cell:/c%3A/Users/vinee/Documents/Github/Python-vineela-nedunuri/Exercises/EX006.ipynb#X12sZmlsZQ%3D%3D?line=10'>11</a>\u001b[0m function()\n",
      "\u001b[1;32mc:\\Users\\vinee\\Documents\\Github\\Python-vineela-nedunuri\\Exercises\\EX006.ipynb Cell 8\u001b[0m in \u001b[0;36mfunction\u001b[1;34m()\u001b[0m\n\u001b[0;32m      <a href='vscode-notebook-cell:/c%3A/Users/vinee/Documents/Github/Python-vineela-nedunuri/Exercises/EX006.ipynb#X12sZmlsZQ%3D%3D?line=5'>6</a>\u001b[0m \u001b[39mdef\u001b[39;00m \u001b[39mfunction\u001b[39m():\n\u001b[0;32m      <a href='vscode-notebook-cell:/c%3A/Users/vinee/Documents/Github/Python-vineela-nedunuri/Exercises/EX006.ipynb#X12sZmlsZQ%3D%3D?line=6'>7</a>\u001b[0m     \u001b[39mfor\u001b[39;00m list1 \u001b[39min\u001b[39;00m \u001b[39mrange\u001b[39m(\u001b[39mlen\u001b[39m(list2)):\n\u001b[1;32m----> <a href='vscode-notebook-cell:/c%3A/Users/vinee/Documents/Github/Python-vineela-nedunuri/Exercises/EX006.ipynb#X12sZmlsZQ%3D%3D?line=7'>8</a>\u001b[0m         distance \u001b[39m=\u001b[39m math\u001b[39m.\u001b[39msqrt((x[\u001b[39m1\u001b[39m]\u001b[39m-\u001b[39my[\u001b[39m1\u001b[39m])\u001b[39m*\u001b[39m\u001b[39m*\u001b[39m(x[\u001b[39m1\u001b[39m]\u001b[39m-\u001b[39my[\u001b[39m1\u001b[39m]) \u001b[39m+\u001b[39m (x[\u001b[39m2\u001b[39m]\u001b[39m-\u001b[39my[\u001b[39m2\u001b[39m])\u001b[39m*\u001b[39m\u001b[39m*\u001b[39m(x[\u001b[39m2\u001b[39m]\u001b[39m-\u001b[39my[\u001b[39m2\u001b[39m]))\n\u001b[0;32m      <a href='vscode-notebook-cell:/c%3A/Users/vinee/Documents/Github/Python-vineela-nedunuri/Exercises/EX006.ipynb#X12sZmlsZQ%3D%3D?line=8'>9</a>\u001b[0m         distance_list\u001b[39m.\u001b[39mappend(distance)\n",
      "\u001b[1;31mNameError\u001b[0m: name 'x' is not defined"
     ]
    }
   ],
   "source": [
    "list1 = [(0, 0), (0, 0), (0, 0), (0, 0), (0, 0)]\n",
    "list2 = [(10, 3), (-1, -9), (10, -10), (4, -2), (9, -10)]\n",
    "\n",
    "distance_list = []\n",
    "\n",
    "def function():\n",
    "    for list1 in range(len(list2)):\n",
    "        distance = math.sqrt((x[1]-y[1])**(x[1]-y[1]) + (x[2]-y[2])**(x[2]-y[2]))\n",
    "        distance_list.append(distance)\n",
    "print(distance_list)\n",
    "function()\n",
    "\n",
    "\n",
    "\n"
   ]
  },
  {
   "cell_type": "markdown",
   "metadata": {},
   "source": [
    "## 3"
   ]
  },
  {
   "cell_type": "code",
   "execution_count": null,
   "metadata": {},
   "outputs": [],
   "source": [
    "import matplotlib.pyplot as plt\n",
    "import numpy as np \n",
    "\n",
    "x = np.linspace(-10,10)\n",
    "\n",
    "f = lambda x: x**2-3\n",
    "g = lambda x: 4*x-7\n",
    "\n",
    "plt.plot(x, f(x))\n",
    "plt.plot(x, g(x))\n",
    "plt.title(\"The functions are f(x)= x^2-3 and g(x)=4x-7\")"
   ]
  },
  {
   "cell_type": "markdown",
   "metadata": {},
   "source": [
    "## 4  Name cleaner"
   ]
  },
  {
   "cell_type": "code",
   "execution_count": 35,
   "metadata": {},
   "outputs": [
    {
     "name": "stdout",
     "output_type": "stream",
     "text": [
      "['  Marcus ', ' Ida Anderson', 'Olof Olofsson            ']\n",
      "['Marcus', 'Ida Anderson', 'Olof Olofsson']\n"
     ]
    },
    {
     "data": {
      "text/plain": [
       "'Marcus Ida Anderson Olof Olofsson'"
      ]
     },
     "execution_count": 35,
     "metadata": {},
     "output_type": "execute_result"
    }
   ],
   "source": [
    "\n",
    "def function(name):\n",
    "    \n",
    "    list = [\"  MaRcUs \", \" iDA aNderSon\", \"OLOF Olofsson            \"  ]\n",
    "    new_list = [item.title() for item in list]\n",
    "    print(new_list)\n",
    "    new_list1 = [item.strip() for item in new_list] \n",
    "    print(new_list1)\n",
    "    name = \" \".join(new_list1)\n",
    "    return name\n",
    "function(name)\n"
   ]
  },
  {
   "cell_type": "markdown",
   "metadata": {},
   "source": [
    "## 5 Change"
   ]
  },
  {
   "cell_type": "code",
   "execution_count": 39,
   "metadata": {},
   "outputs": [
    {
     "name": "stdout",
     "output_type": "stream",
     "text": [
      "5 st 1000-lapp\n",
      "1 st 200-lapp\n",
      "1 st 50-lapp\n",
      "1 st 20-lapp\n",
      "1 st 10-krona\n",
      "1 st 5-krona\n",
      "2 st 2-krona\n"
     ]
    }
   ],
   "source": [
    "def change(amount):\n",
    "    #notes = [1000, 200, 50, 20, 10, 5, 2]\n",
    "\n",
    "    thousand_krona = amount//1000\n",
    "    amount = amount % 1000\n",
    "    print(f\"{thousand_krona} st 1000-lapp\")\n",
    "\n",
    "    two_hundra_krona = amount//200\n",
    "    amount = amount % 200\n",
    "    print(f\"{two_hundra_krona} st 200-lapp\")\n",
    "\n",
    "    fifty_krona = amount//50\n",
    "    amount = amount % 50\n",
    "    print(f\"{fifty_krona} st 50-lapp\")\n",
    "\n",
    "    twenty_krona = amount//20\n",
    "    amount = amount % 20\n",
    "    print(f\"{twenty_krona} st 20-lapp\")\n",
    "\n",
    "    ten_krona = amount//10\n",
    "    amount = amount % 10\n",
    "    print(f\"{ten_krona} st 10-krona\")\n",
    "\n",
    "    five_krona = amount//5\n",
    "    amount = amount % 5\n",
    "    print(f\"{five_krona} st 5-krona\")\n",
    "\n",
    "\n",
    "    two_krona = amount//2\n",
    "    amount = amount % 2\n",
    "    print(f\"{two_krona} st 2-krona\")\n",
    "\n",
    "change(5289)\n",
    "    \n",
    "\n"
   ]
  }
 ],
 "metadata": {
  "kernelspec": {
   "display_name": "Python 3.9.13 ('Python-vineela-nedunuri-iPG0HSA5')",
   "language": "python",
   "name": "python3"
  },
  "language_info": {
   "codemirror_mode": {
    "name": "ipython",
    "version": 3
   },
   "file_extension": ".py",
   "mimetype": "text/x-python",
   "name": "python",
   "nbconvert_exporter": "python",
   "pygments_lexer": "ipython3",
   "version": "3.9.13"
  },
  "orig_nbformat": 4,
  "vscode": {
   "interpreter": {
    "hash": "1db1b2e8567942dee12c64de01d929677cea7f86428756000840da4d34ce3db5"
   }
  }
 },
 "nbformat": 4,
 "nbformat_minor": 2
}
