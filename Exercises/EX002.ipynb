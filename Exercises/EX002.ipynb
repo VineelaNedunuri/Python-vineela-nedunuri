{
 "cells": [
  {
   "cell_type": "markdown",
   "metadata": {},
   "source": [
    "# while statements"
   ]
  },
  {
   "cell_type": "markdown",
   "metadata": {},
   "source": [
    "# 1"
   ]
  },
  {
   "cell_type": "code",
   "execution_count": 1,
   "metadata": {},
   "outputs": [
    {
     "name": "stdout",
     "output_type": "stream",
     "text": [
      "-10 -9 -8 -7 -6 -5 -4 -3 -2 -1 0 1 2 3 4 5 6 7 8 9 10 "
     ]
    }
   ],
   "source": [
    "# Count numbers\n",
    "i = -10\n",
    "\n",
    "while i <= 10:\n",
    "    \n",
    "    print(i, end = \" \")\n",
    "    i += 1\n"
   ]
  },
  {
   "cell_type": "markdown",
   "metadata": {},
   "source": [
    "# 2a"
   ]
  },
  {
   "cell_type": "code",
   "execution_count": 2,
   "metadata": {},
   "outputs": [
    {
     "name": "stdout",
     "output_type": "stream",
     "text": [
      "1 3 6 10 15 21 28 36 45 55 66 78 91 105 120 136 153 171 190 210 231 253 276 300 325 351 378 406 435 465 496 528 561 595 630 666 703 741 780 820 861 903 946 990 1035 1081 1128 1176 1225 1275 1326 1378 1431 1485 1540 1596 1653 1711 1770 1830 1891 1953 2016 2080 2145 2211 2278 2346 2415 2485 2556 2628 2701 2775 2850 2926 3003 3081 3160 3240 3321 3403 3486 3570 3655 3741 3828 3916 4005 4095 4186 4278 4371 4465 4560 4656 4753 4851 4950 5050 "
     ]
    }
   ],
   "source": [
    " #  compute the sum = 1+2+3+4+......99+100\n",
    "i = 1\n",
    "sum = 0\n",
    "while i <= 100:\n",
    "    \n",
    "    sum = sum + i\n",
    "    i += 1\n",
    "    \n",
    "    print(sum, end = \" \" )"
   ]
  },
  {
   "cell_type": "markdown",
   "metadata": {},
   "source": [
    "# 2b"
   ]
  },
  {
   "cell_type": "code",
   "execution_count": 3,
   "metadata": {},
   "outputs": [
    {
     "name": "stdout",
     "output_type": "stream",
     "text": [
      "1 4 9 16 25 36 49 64 81 100 121 144 169 196 225 256 289 324 361 400 441 484 529 576 625 676 729 784 841 900 961 1024 1089 1156 1225 1296 1369 1444 1521 1600 1681 1764 1849 1936 2025 2116 2209 2304 2401 2500 "
     ]
    }
   ],
   "source": [
    " # compute the sum = 1+3+5+......+97+99\n",
    "\n",
    "i = 1\n",
    "sum = 0\n",
    "while i <= 99:\n",
    "    \n",
    "    sum = sum + i\n",
    "    i += 2\n",
    "    \n",
    "    print(sum, end = \" \")\n"
   ]
  },
  {
   "cell_type": "markdown",
   "metadata": {},
   "source": [
    "# 3a"
   ]
  },
  {
   "cell_type": "code",
   "execution_count": 4,
   "metadata": {},
   "outputs": [
    {
     "name": "stdout",
     "output_type": "stream",
     "text": [
      "45 is less than x. So guess again\n",
      "78 is less than x. So guess again\n",
      "78 is less than x. So guess again\n",
      "89 is less than x. So guess again\n",
      "90 is less than x. So guess again\n",
      "99 is more than x. So guess again\n",
      "97 is more than x. So guess again\n",
      "92 : congrats the guss number is correct\n",
      "total guess takes = 8\n"
     ]
    }
   ],
   "source": [
    "import random\n",
    "\n",
    "x = random.randint(1, 100)\n",
    "chances = 0\n",
    "while chances < 100:\n",
    "    # print(\"Enter the number = {user_input}\")\n",
    "    user_input = int(input(\"Enter the number from 1 to 100 : \"))\n",
    "    if user_input == x:\n",
    "        print(f\"{user_input} : congrats the guss number is correct\")\n",
    "        print(\"total guess takes =\", chances+1)\n",
    "        break\n",
    "    elif user_input > x:\n",
    "        print(f\"{user_input} is more than x. So guess again\")\n",
    "        chances += 1\n",
    "    elif user_input < x:\n",
    "        print(f\"{user_input} is less than x. So guess again\")\n",
    "        chances += 1\n",
    "    "
   ]
  },
  {
   "cell_type": "markdown",
   "metadata": {},
   "source": []
  },
  {
   "cell_type": "markdown",
   "metadata": {},
   "source": [
    "# 3b"
   ]
  },
  {
   "cell_type": "code",
   "execution_count": 9,
   "metadata": {},
   "outputs": [
    {
     "name": "stdout",
     "output_type": "stream",
     "text": [
      "56 is less than x. So guess again\n",
      "43 is less than x. So guess again\n",
      "68 is less than x. So guess again\n",
      "86 is less than x. So guess again\n",
      "90 is more than x. So guess again\n",
      "88 is less than x. So guess again\n",
      "89 is correct\n",
      "total guess takes = 7\n"
     ]
    }
   ],
   "source": [
    "import random\n",
    "\n",
    "x = random.randint(1, 100)\n",
    "chances = 0\n",
    "low = 1\n",
    "high = 100\n",
    "while chances < 100:\n",
    "    guess = int(input((low+high)/2))\n",
    "    if guess > x:\n",
    "        print(f\"{guess} is more than x. So guess again\")\n",
    "        chances += 1\n",
    "    elif guess < x:\n",
    "        print(f\"{guess} is less than x. So guess again\")\n",
    "        chances += 1\n",
    "    else:\n",
    "        print(f\"{guess} is correct\")\n",
    "        print(\"total guess takes =\", chances+1)\n",
    "        break\n",
    "    \n",
    "\n",
    "    \n"
   ]
  },
  {
   "cell_type": "markdown",
   "metadata": {},
   "source": [
    "# 4a"
   ]
  },
  {
   "cell_type": "code",
   "execution_count": 1,
   "metadata": {},
   "outputs": [
    {
     "name": "stdout",
     "output_type": "stream",
     "text": [
      "z=54\n",
      "z=4\n",
      "z=20\n",
      "z=48\n",
      "z=36\n",
      "z=60\n",
      "z=42\n",
      "z=14\n",
      "z=54\n",
      "z=10\n",
      "z=12\n",
      "z=48\n",
      "z=4\n",
      "z=70\n"
     ]
    }
   ],
   "source": [
    "import random\n",
    "chances = 0\n",
    "\n",
    "while chances < 10:\n",
    "    x = random.randint(1, 10)\n",
    "    y = random.randint(1, 10)\n",
    "    z = x * y\n",
    "    user_input = int(input(\"Enter the value of x times y : \"))\n",
    "    if user_input == z:\n",
    "        print(f\"{user_input=} Good work\")\n",
    "    else:\n",
    "        print(f\"{z=}\")\n",
    "\n",
    "if user_input == z:\n",
    "    print(\"Thanks for playing\")\n",
    "    break\n",
    "else:\n",
    "    user_input = int(input(\"Enter the value of x times y : \"))\n",
    "\n",
    "\n",
    "\n",
    "\n",
    "\n",
    "\n"
   ]
  },
  {
   "cell_type": "markdown",
   "metadata": {},
   "source": []
  }
 ],
 "metadata": {
  "kernelspec": {
   "display_name": "Python 3.9.13 ('Python-vineela-nedunuri-iPG0HSA5')",
   "language": "python",
   "name": "python3"
  },
  "language_info": {
   "codemirror_mode": {
    "name": "ipython",
    "version": 3
   },
   "file_extension": ".py",
   "mimetype": "text/x-python",
   "name": "python",
   "nbconvert_exporter": "python",
   "pygments_lexer": "ipython3",
   "version": "3.9.13"
  },
  "orig_nbformat": 4,
  "vscode": {
   "interpreter": {
    "hash": "1db1b2e8567942dee12c64de01d929677cea7f86428756000840da4d34ce3db5"
   }
  }
 },
 "nbformat": 4,
 "nbformat_minor": 2
}
