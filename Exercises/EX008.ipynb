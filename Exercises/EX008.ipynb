{
 "cells": [
  {
   "cell_type": "markdown",
   "metadata": {},
   "source": [
    "## 1a)   Simulate 20 dice rolls and write them to your textfile."
   ]
  },
  {
   "cell_type": "code",
   "execution_count": 159,
   "metadata": {},
   "outputs": [
    {
     "name": "stdout",
     "output_type": "stream",
     "text": [
      "[2, 4, 1, 1, 3, 5, 3, 5, 6, 4, 6, 2, 2, 4, 6, 2, 3, 1, 6, 6]\n"
     ]
    }
   ],
   "source": [
    "import random\n",
    "\n",
    "path = \"../Data/dice_rolls.txt\"\n",
    "with open(path, \"a\") as f_write: # wrte them to textfile\n",
    "    dice_rolls = [random.randint(1,6) for i in range(20)] # for 20 dice rolls\n",
    "    f_write.write(f\"{dice_rolls}\")\n",
    "    print(dice_rolls)\n",
    "\n"
   ]
  },
  {
   "cell_type": "markdown",
   "metadata": {},
   "source": [
    "## 1b)Sort the dice rolls from a) and write them to a separate row in the same textfile."
   ]
  },
  {
   "cell_type": "code",
   "execution_count": 160,
   "metadata": {},
   "outputs": [
    {
     "name": "stdout",
     "output_type": "stream",
     "text": [
      "[1, 1, 1, 2, 2, 2, 2, 3, 3, 3, 4, 4, 4, 5, 5, 6, 6, 6, 6, 6]\n"
     ]
    }
   ],
   "source": [
    "\n",
    "\n",
    "path = \"../Data/dice_rolls.txt\"\n",
    "with open(path, \"r\") as f:\n",
    "    dices = f.read()\n",
    "    dices = dices.replace(\"[\", \"\")\n",
    "    dices = dices.replace(\"]\", \"\")\n",
    "    dice_list = dices.split(\",\")\n",
    "    dice_list = [int(dice_list[x])for x in range(len(dice_list))]\n",
    "    sorted_list = sorted(dice_list)\n",
    "    print(sorted_list)\n",
    "\n",
    "\n",
    "with open(path, \"a\") as f_append:\n",
    "   f_append.write(\"\\nsorted_list: \")\n",
    "\n",
    "   f_append.write(f\"{sorted_list}\")\n",
    "\n",
    "   "
   ]
  },
  {
   "cell_type": "markdown",
   "metadata": {},
   "source": [
    "## 1c)   Count the number of fours in the dice rolls and write them to a separate row in the same textfile."
   ]
  },
  {
   "cell_type": "code",
   "execution_count": 161,
   "metadata": {},
   "outputs": [
    {
     "name": "stdout",
     "output_type": "stream",
     "text": [
      "3\n"
     ]
    }
   ],
   "source": [
    "count_fours = dice_list.count(4)\n",
    "print(count_fours)\n",
    "with open(path, \"a\") as f_append:\n",
    "   f_append.write(\"\\nThe number of fours in the dice rolls are: \")\n",
    "\n",
    "   f_append.write(f\"{count_fours}\")"
   ]
  },
  {
   "cell_type": "markdown",
   "metadata": {},
   "source": [
    "## 2 a)   Print out the text in the terminal"
   ]
  },
  {
   "cell_type": "code",
   "execution_count": 169,
   "metadata": {},
   "outputs": [
    {
     "name": "stdout",
     "output_type": "stream",
     "text": [
      "Adam Gustafsson 25\n",
      "Emil Johansson 23\n",
      "Sven Erik Karlsson 13\n",
      "Ove Karlsten 41\n",
      "Emma Boden 32\n",
      "Ida HÃ¥kansson 23\n",
      "Ella Ester 41\n",
      "Hanna Karlsson 23 \n",
      "Johan Johansson 42\n",
      "Sven Erik Lundin 39\n",
      "BjÃ¶rn BjÃ¶rnsson 39\n",
      "Karl Karlsson 32\n",
      "Bose Bosseson 32\n",
      "HÃ¥kan HÃ¥kanson 24\n",
      "Jonas Jonasson 31\n",
      "Erik Eriksson 31\n",
      "Gore Bord 55\n",
      "Jakob Kallander 65\n",
      "Fredrika Ulven 10\n",
      "Sorted alphabetically: Sven Erik Lundin 39\n",
      "\n"
     ]
    }
   ],
   "source": [
    "path = \"../Data/test_result.txt\"\n",
    "with open(path, \"r\") as f:\n",
    "\n",
    "    texts = f.read()\n",
    "\n",
    "print(texts)"
   ]
  },
  {
   "cell_type": "markdown",
   "metadata": {},
   "source": [
    "## 2b)   Create new rows in the same file and write the people and their corresponding scores in alphabetical order."
   ]
  },
  {
   "cell_type": "code",
   "execution_count": 193,
   "metadata": {},
   "outputs": [
    {
     "name": "stdout",
     "output_type": "stream",
     "text": [
      "\n",
      " \n",
      "Adam Gustafsson 25\n",
      "BjÃ¶rn BjÃ¶rnsson 39\n",
      "Bose Bosseson 32\n",
      "Ella Ester 41\n",
      "Emil Johansson 23\n",
      "Emma Boden 32\n",
      "Erik Eriksson 31\n",
      "Fredrika Ulven 10\n",
      "Gore Bord 55\n",
      "Hanna Karlsson 23 \n",
      "HÃ¥kan HÃ¥kanson 24\n",
      "Ida HÃ¥kansson 23\n",
      "Jakob Kallander 65\n",
      "Johan Johansson 42\n",
      "Jonas Jonasson 31\n",
      "Karl Karlsson 32\n",
      "Ove Karlsten 41\n",
      "Sven Erik Karlsson 13\n",
      "Sven Erik Lundin 39\n"
     ]
    }
   ],
   "source": [
    "path = \"../Data/test_result.txt\"\n",
    "with open(path, \"r\") as f:\n",
    "    lines = []\n",
    "    for text in f:\n",
    "        texts = text.strip(\"\\n\")\n",
    "        lines.append(texts)\n",
    "\n",
    "with open(path, \"a\") as f_append:\n",
    "    f_append.write(\"\\n Sorted alphabetically: \")\n",
    "    for text in sorted(lines):\n",
    "        \n",
    "        f_append.write(f\" {text} \\n\")\n",
    "        print(text)\n",
    "\n",
    "\n",
    "       "
   ]
  },
  {
   "cell_type": "markdown",
   "metadata": {},
   "source": [
    "## 2 c) Create additional rows in the same file and sort the people after their grades. The grade limits are: \n",
    "\n",
    "- F < 20\n",
    "- E: 20-29\n",
    "- D: 30-39\n",
    "- C: 40-49\n",
    "- B: 50-59\n",
    "- A: 60-70"
   ]
  },
  {
   "cell_type": "code",
   "execution_count": 196,
   "metadata": {},
   "outputs": [
    {
     "name": "stdout",
     "output_type": "stream",
     "text": [
      "[['Adam', 'Gustafsson', '25'], ['Emil', 'Johansson', '23'], ['Sven', 'Erik', 'Karlsson', '13'], ['Ove', 'Karlsten', '41'], ['Emma', 'Boden', '32'], ['Ida', 'HÃ¥kansson', '23'], ['Ella', 'Ester', '41'], ['Hanna', 'Karlsson', '23'], ['Johan', 'Johansson', '42'], ['Sven', 'Erik', 'Lundin', '39'], ['BjÃ¶rn', 'BjÃ¶rnsson', '39'], ['Karl', 'Karlsson', '32'], ['Bose', 'Bosseson', '32'], ['HÃ¥kan', 'HÃ¥kanson', '24'], ['Jonas', 'Jonasson', '31'], ['Erik', 'Eriksson', '31'], ['Gore', 'Bord', '55'], ['Jakob', 'Kallander', '65'], ['Fredrika', 'Ulven', '10'], [], []]\n"
     ]
    }
   ],
   "source": [
    "grades_list = []\n",
    "for line in lines:\n",
    "    x = line.split()\n",
    "    grades_list.append(x)\n",
    "print(grades_list)"
   ]
  },
  {
   "cell_type": "code",
   "execution_count": null,
   "metadata": {},
   "outputs": [],
   "source": [
    "for text in sorted(lines):\n",
    "    "
   ]
  }
 ],
 "metadata": {
  "kernelspec": {
   "display_name": "Python 3.9.13 ('Python-vineela-nedunuri-iPG0HSA5')",
   "language": "python",
   "name": "python3"
  },
  "language_info": {
   "codemirror_mode": {
    "name": "ipython",
    "version": 3
   },
   "file_extension": ".py",
   "mimetype": "text/x-python",
   "name": "python",
   "nbconvert_exporter": "python",
   "pygments_lexer": "ipython3",
   "version": "3.9.13"
  },
  "orig_nbformat": 4,
  "vscode": {
   "interpreter": {
    "hash": "1db1b2e8567942dee12c64de01d929677cea7f86428756000840da4d34ce3db5"
   }
  }
 },
 "nbformat": 4,
 "nbformat_minor": 2
}
