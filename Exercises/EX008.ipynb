{
 "cells": [
  {
   "cell_type": "markdown",
   "metadata": {},
   "source": [
    "## 1a)   Simulate 20 dice rolls and write them to your textfile."
   ]
  },
  {
   "cell_type": "code",
   "execution_count": 159,
   "metadata": {},
   "outputs": [
    {
     "name": "stdout",
     "output_type": "stream",
     "text": [
      "[2, 4, 1, 1, 3, 5, 3, 5, 6, 4, 6, 2, 2, 4, 6, 2, 3, 1, 6, 6]\n"
     ]
    }
   ],
   "source": [
    "import random\n",
    "\n",
    "path = \"../Data/dice_rolls.txt\"\n",
    "with open(path, \"a\") as f_write: # wrte them to textfile\n",
    "    dice_rolls = [random.randint(1,6) for i in range(20)] # for 20 dice rolls\n",
    "    f_write.write(f\"{dice_rolls}\")\n",
    "    print(dice_rolls)\n",
    "\n"
   ]
  },
  {
   "cell_type": "markdown",
   "metadata": {},
   "source": [
    "## 1b)Sort the dice rolls from a) and write them to a separate row in the same textfile."
   ]
  },
  {
   "cell_type": "code",
   "execution_count": 160,
   "metadata": {},
   "outputs": [
    {
     "name": "stdout",
     "output_type": "stream",
     "text": [
      "[1, 1, 1, 2, 2, 2, 2, 3, 3, 3, 4, 4, 4, 5, 5, 6, 6, 6, 6, 6]\n"
     ]
    }
   ],
   "source": [
    "\n",
    "\n",
    "path = \"../Data/dice_rolls.txt\"\n",
    "with open(path, \"r\") as f:\n",
    "    dices = f.read()\n",
    "    dices = dices.replace(\"[\", \"\")\n",
    "    dices = dices.replace(\"]\", \"\")\n",
    "    dice_list = dices.split(\",\")\n",
    "    dice_list = [int(dice_list[x])for x in range(len(dice_list))]\n",
    "    sorted_list = sorted(dice_list)\n",
    "    print(sorted_list)\n",
    "\n",
    "\n",
    "with open(path, \"a\") as f_append:\n",
    "   f_append.write(\"\\nsorted_list: \")\n",
    "\n",
    "   f_append.write(f\"{sorted_list}\")\n",
    "\n",
    "   "
   ]
  },
  {
   "cell_type": "markdown",
   "metadata": {},
   "source": [
    "## 1c)   Count the number of fours in the dice rolls and write them to a separate row in the same textfile."
   ]
  },
  {
   "cell_type": "code",
   "execution_count": 161,
   "metadata": {},
   "outputs": [
    {
     "name": "stdout",
     "output_type": "stream",
     "text": [
      "3\n"
     ]
    }
   ],
   "source": [
    "count_fours = dice_list.count(4)\n",
    "print(count_fours)\n",
    "with open(path, \"a\") as f_append:\n",
    "   f_append.write(\"\\nThe number of fours in the dice rolls are: \")\n",
    "\n",
    "   f_append.write(f\"{count_fours}\")"
   ]
  }
 ],
 "metadata": {
  "kernelspec": {
   "display_name": "Python 3.9.13 ('Python-vineela-nedunuri-iPG0HSA5')",
   "language": "python",
   "name": "python3"
  },
  "language_info": {
   "codemirror_mode": {
    "name": "ipython",
    "version": 3
   },
   "file_extension": ".py",
   "mimetype": "text/x-python",
   "name": "python",
   "nbconvert_exporter": "python",
   "pygments_lexer": "ipython3",
   "version": "3.9.13"
  },
  "orig_nbformat": 4,
  "vscode": {
   "interpreter": {
    "hash": "1db1b2e8567942dee12c64de01d929677cea7f86428756000840da4d34ce3db5"
   }
  }
 },
 "nbformat": 4,
 "nbformat_minor": 2
}
