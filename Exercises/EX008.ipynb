{
 "cells": [
  {
   "cell_type": "markdown",
   "metadata": {},
   "source": [
    "## 1a)   Simulate 20 dice rolls and write them to your textfile."
   ]
  },
  {
   "cell_type": "code",
   "execution_count": 23,
   "metadata": {},
   "outputs": [
    {
     "name": "stdout",
     "output_type": "stream",
     "text": [
      "[1, 6, 4, 4, 6, 3, 6, 1, 2, 1, 6, 3, 5, 2, 6, 2, 4, 1, 5, 6]\n"
     ]
    }
   ],
   "source": [
    "import random\n",
    "\n",
    "path = \"../Data/dice_rolls.txt\"\n",
    "with open(path, \"w\") as f_write: # wrte them to textfile\n",
    "    dice_rolls = [random.randint(1,6) for i in range(20)] # for 20 dice rolls\n",
    "    f_write.write(f\"{dice_rolls}\")\n",
    "    print(dice_rolls)\n",
    "\n"
   ]
  },
  {
   "cell_type": "markdown",
   "metadata": {},
   "source": [
    "## 1b)Sort the dice rolls from a) and write them to a separate row in the same textfile."
   ]
  },
  {
   "cell_type": "code",
   "execution_count": 24,
   "metadata": {},
   "outputs": [
    {
     "name": "stdout",
     "output_type": "stream",
     "text": [
      "[' 1', ' 6', ' 4', ' 4', ' 6', ' 3', ' 6', ' 1', ' 2', ' 1', ' 6', ' 3', ' 5', ' 2', ' 6', ' 2', ' 4', ' 1', ' 5', ' 6]']\n"
     ]
    }
   ],
   "source": [
    "\n",
    "\n",
    "with open(\"../Data/dice_rolls.txt\", \"r\") as f: # ,open(\"../Data/dice_rolls.txt\", \"a\") as f_append\n",
    "\n",
    "    dices = f.read()\n",
    "    dices = dices.strip().replace(\"[\", \" \").split(',')\n",
    "\n",
    "\n",
    "\n",
    "    \n",
    "print(dices)\n",
    "\n",
    "    \n",
    "   \n",
    "\n",
    "   "
   ]
  }
 ],
 "metadata": {
  "kernelspec": {
   "display_name": "Python 3.9.13 ('Python-vineela-nedunuri-iPG0HSA5')",
   "language": "python",
   "name": "python3"
  },
  "language_info": {
   "codemirror_mode": {
    "name": "ipython",
    "version": 3
   },
   "file_extension": ".py",
   "mimetype": "text/x-python",
   "name": "python",
   "nbconvert_exporter": "python",
   "pygments_lexer": "ipython3",
   "version": "3.9.13"
  },
  "orig_nbformat": 4,
  "vscode": {
   "interpreter": {
    "hash": "1db1b2e8567942dee12c64de01d929677cea7f86428756000840da4d34ce3db5"
   }
  }
 },
 "nbformat": 4,
 "nbformat_minor": 2
}
