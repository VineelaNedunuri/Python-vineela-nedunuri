{
 "cells": [
  {
   "cell_type": "markdown",
   "metadata": {},
   "source": [
    "## 1. Dice rolls \n",
    "Create a textfile called dice_rolls.txt using Python. Also for each subtask, write adequate headers."
   ]
  },
  {
   "cell_type": "markdown",
   "metadata": {},
   "source": [
    "-  a)   Simulate 20 dice rolls and write them to your textfile."
   ]
  },
  {
   "cell_type": "code",
   "execution_count": 159,
   "metadata": {},
   "outputs": [
    {
     "name": "stdout",
     "output_type": "stream",
     "text": [
      "[2, 4, 1, 1, 3, 5, 3, 5, 6, 4, 6, 2, 2, 4, 6, 2, 3, 1, 6, 6]\n"
     ]
    }
   ],
   "source": [
    "import random\n",
    "\n",
    "path = \"../Data/dice_rolls.txt\"\n",
    "with open(path, \"a\") as f_write: # wrte them to textfile\n",
    "    dice_rolls = [random.randint(1,6) for i in range(20)] # for 20 dice rolls\n",
    "    f_write.write(f\"{dice_rolls}\")\n",
    "    print(dice_rolls)\n",
    "\n"
   ]
  },
  {
   "cell_type": "markdown",
   "metadata": {},
   "source": [
    "- b)Sort the dice rolls from a) and write them to a separate row in the same textfile."
   ]
  },
  {
   "cell_type": "code",
   "execution_count": 160,
   "metadata": {},
   "outputs": [
    {
     "name": "stdout",
     "output_type": "stream",
     "text": [
      "[1, 1, 1, 2, 2, 2, 2, 3, 3, 3, 4, 4, 4, 5, 5, 6, 6, 6, 6, 6]\n"
     ]
    }
   ],
   "source": [
    "\n",
    "\n",
    "path = \"../Data/dice_rolls.txt\"\n",
    "with open(path, \"r\") as f:\n",
    "    dices = f.read()\n",
    "    dices = dices.replace(\"[\", \"\")\n",
    "    dices = dices.replace(\"]\", \"\")\n",
    "    dice_list = dices.split(\",\")\n",
    "    dice_list = [int(dice_list[x])for x in range(len(dice_list))]\n",
    "    sorted_list = sorted(dice_list)\n",
    "    print(sorted_list)\n",
    "\n",
    "\n",
    "with open(path, \"a\") as f_append:\n",
    "   f_append.write(\"\\nsorted_list: \")\n",
    "\n",
    "   f_append.write(f\"{sorted_list}\")\n",
    "\n",
    "   "
   ]
  },
  {
   "cell_type": "markdown",
   "metadata": {},
   "source": [
    "- c)   Count the number of fours in the dice rolls and write them to a separate row in the same textfile."
   ]
  },
  {
   "cell_type": "code",
   "execution_count": 161,
   "metadata": {},
   "outputs": [
    {
     "name": "stdout",
     "output_type": "stream",
     "text": [
      "3\n"
     ]
    }
   ],
   "source": [
    "count_fours = dice_list.count(4)\n",
    "print(count_fours)\n",
    "with open(path, \"a\") as f_append:\n",
    "   f_append.write(\"\\nThe number of fours in the dice rolls are: \")\n",
    "\n",
    "   f_append.write(f\"{count_fours}\")"
   ]
  },
  {
   "cell_type": "markdown",
   "metadata": {},
   "source": [
    "## 2 a)   Print out the text in the terminal"
   ]
  },
  {
   "cell_type": "code",
   "execution_count": 169,
   "metadata": {},
   "outputs": [
    {
     "name": "stdout",
     "output_type": "stream",
     "text": [
      "Adam Gustafsson 25\n",
      "Emil Johansson 23\n",
      "Sven Erik Karlsson 13\n",
      "Ove Karlsten 41\n",
      "Emma Boden 32\n",
      "Ida HÃ¥kansson 23\n",
      "Ella Ester 41\n",
      "Hanna Karlsson 23 \n",
      "Johan Johansson 42\n",
      "Sven Erik Lundin 39\n",
      "BjÃ¶rn BjÃ¶rnsson 39\n",
      "Karl Karlsson 32\n",
      "Bose Bosseson 32\n",
      "HÃ¥kan HÃ¥kanson 24\n",
      "Jonas Jonasson 31\n",
      "Erik Eriksson 31\n",
      "Gore Bord 55\n",
      "Jakob Kallander 65\n",
      "Fredrika Ulven 10\n",
      "Sorted alphabetically: Sven Erik Lundin 39\n",
      "\n"
     ]
    }
   ],
   "source": [
    "path = \"../Data/test_result.txt\"\n",
    "with open(path, \"r\") as f:\n",
    "\n",
    "    texts = f.read()\n",
    "\n",
    "print(texts)"
   ]
  },
  {
   "cell_type": "markdown",
   "metadata": {},
   "source": [
    "## 2b)   Create new rows in the same file and write the people and their corresponding scores in alphabetical order."
   ]
  },
  {
   "cell_type": "code",
   "execution_count": 193,
   "metadata": {},
   "outputs": [
    {
     "name": "stdout",
     "output_type": "stream",
     "text": [
      "\n",
      " \n",
      "Adam Gustafsson 25\n",
      "BjÃ¶rn BjÃ¶rnsson 39\n",
      "Bose Bosseson 32\n",
      "Ella Ester 41\n",
      "Emil Johansson 23\n",
      "Emma Boden 32\n",
      "Erik Eriksson 31\n",
      "Fredrika Ulven 10\n",
      "Gore Bord 55\n",
      "Hanna Karlsson 23 \n",
      "HÃ¥kan HÃ¥kanson 24\n",
      "Ida HÃ¥kansson 23\n",
      "Jakob Kallander 65\n",
      "Johan Johansson 42\n",
      "Jonas Jonasson 31\n",
      "Karl Karlsson 32\n",
      "Ove Karlsten 41\n",
      "Sven Erik Karlsson 13\n",
      "Sven Erik Lundin 39\n"
     ]
    }
   ],
   "source": [
    "path = \"../Data/test_result.txt\"\n",
    "with open(path, \"r\") as f:\n",
    "    lines = []\n",
    "    for text in f:\n",
    "        texts = text.strip(\"\\n\")\n",
    "        lines.append(texts)\n",
    "\n",
    "with open(path, \"a\") as f_append:\n",
    "    f_append.write(\"\\n Sorted alphabetically: \")\n",
    "    for text in sorted(lines):\n",
    "        \n",
    "        f_append.write(f\" {text} \\n\")\n",
    "        print(text)\n",
    "\n",
    "\n",
    "       "
   ]
  },
  {
   "cell_type": "markdown",
   "metadata": {},
   "source": [
    "## 2 c) Create additional rows in the same file and sort the people after their grades. The grade limits are: \n",
    "\n",
    "- F < 20\n",
    "- E: 20-29\n",
    "- D: 30-39\n",
    "- C: 40-49\n",
    "- B: 50-59\n",
    "- A: 60-70"
   ]
  },
  {
   "cell_type": "code",
   "execution_count": 217,
   "metadata": {},
   "outputs": [
    {
     "name": "stdout",
     "output_type": "stream",
     "text": [
      "FEDCBA\n"
     ]
    }
   ],
   "source": [
    "path = \"../Data/test_result.txt\"\n",
    "with open(path, \"a\") as f_write:\n",
    "        f_write.write(\"\\n\\nSorterat efter betyg\\n\\n\")\n",
    "        grades = \"ABCDEF\"[::-1]\n",
    "        print(grades)\n",
    "\n",
    "     # program in session_3   \n"
   ]
  },
  {
   "cell_type": "markdown",
   "metadata": {},
   "source": [
    "## 4. Dice roll experiment \n",
    "Simulate 10, 100, 1000, 10000, 100000 dice rolls and count the freqencies and probabilities for each number in each simulation. Create a new text file using Python with the name \"simulation.txt\" and write the results to that text file"
   ]
  },
  {
   "cell_type": "code",
   "execution_count": 6,
   "metadata": {},
   "outputs": [
    {
     "name": "stdout",
     "output_type": "stream",
     "text": [
      "[1, 2, 2, 3, 0, 2]\n",
      "[0.1, 0.2, 0.2, 0.3, 0.0, 0.2]\n",
      "[23, 16, 17, 13, 17, 14]\n",
      "[0.23, 0.16, 0.17, 0.13, 0.17, 0.14]\n",
      "[166, 174, 171, 158, 171, 160]\n",
      "[0.166, 0.174, 0.171, 0.158, 0.171, 0.16]\n",
      "[1664, 1662, 1628, 1696, 1645, 1705]\n",
      "[0.1664, 0.1662, 0.1628, 0.1696, 0.1645, 0.1705]\n",
      "[16540, 16710, 16740, 16633, 16770, 16607]\n",
      "[0.1654, 0.1671, 0.1674, 0.16633, 0.1677, 0.16607]\n"
     ]
    }
   ],
   "source": [
    "import random as rnd\n",
    "path = \"../Data/simulation.txt\"\n",
    "with open(path, \"a\") as f_write:\n",
    "\n",
    "\n",
    "    for i in range(1,6):\n",
    "        \n",
    "        dices = [rnd.randint(1,6) for i in range(10**i)]\n",
    "        count = [dices.count(1), dices.count(2), dices.count(3), dices.count(4), dices.count(5), dices.count(6)]\n",
    "        print(count)\n",
    "        probability =[]\n",
    "        for number in count:\n",
    "            probability.append(number/10**i)\n",
    "        print(probability)\n",
    "        f_write.write(f\"\\n\\nNumber of rolls:{10**i}\")\n",
    "        f_write.write(f\"\\nOnes:{count[0]}, probability:{probability[0]} \")\n",
    "        f_write.write(f\"\\nTwos:{count[1]}, probability:{probability[1]} \")\n",
    "        f_write.write(f\"\\nThrees:{count[2]}, probability:{probability[2]} \")\n",
    "        f_write.write(f\"\\nFours:{count[3]}, probability:{probability[3]} \")\n",
    "        f_write.write(f\"\\nFives:{count[4]}, probability:{probability[4]} \")\n",
    "        f_write.write(f\"\\nSixes:{count[5]}, probability:{probability[5]} \")\n",
    "\n"
   ]
  }
 ],
 "metadata": {
  "kernelspec": {
   "display_name": "Python 3.9.13 ('Python-vineela-nedunuri-iPG0HSA5')",
   "language": "python",
   "name": "python3"
  },
  "language_info": {
   "codemirror_mode": {
    "name": "ipython",
    "version": 3
   },
   "file_extension": ".py",
   "mimetype": "text/x-python",
   "name": "python",
   "nbconvert_exporter": "python",
   "pygments_lexer": "ipython3",
   "version": "3.9.13"
  },
  "orig_nbformat": 4,
  "vscode": {
   "interpreter": {
    "hash": "1db1b2e8567942dee12c64de01d929677cea7f86428756000840da4d34ce3db5"
   }
  }
 },
 "nbformat": 4,
 "nbformat_minor": 2
}
