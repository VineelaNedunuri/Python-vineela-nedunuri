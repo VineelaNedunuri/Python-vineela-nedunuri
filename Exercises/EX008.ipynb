{
 "cells": [
  {
   "cell_type": "markdown",
   "metadata": {},
   "source": [
    "## 1a)   Simulate 20 dice rolls and write them to your textfile."
   ]
  },
  {
   "cell_type": "code",
   "execution_count": 168,
   "metadata": {},
   "outputs": [
    {
     "name": "stdout",
     "output_type": "stream",
     "text": [
      "[1, 3, 2, 1, 4, 2, 1, 2, 4, 6, 3, 1, 2, 1, 6, 3, 5, 2, 3, 1]\n"
     ]
    }
   ],
   "source": [
    "import random\n",
    "\n",
    "path = \"../Data/dice_rolls.txt\"\n",
    "with open(path, \"w\") as f_write: # wrte them to textfile\n",
    "    dice_rolls = [random.randint(1,6) for i in range(20)] # for 20 dice rolls\n",
    "    f_write.write(f\"{dice_rolls}\")\n",
    "    print(dice_rolls)\n",
    "\n"
   ]
  },
  {
   "cell_type": "markdown",
   "metadata": {},
   "source": [
    "## 1b)Sort the dice rolls from a) and write them to a separate row in the same textfile."
   ]
  },
  {
   "cell_type": "code",
   "execution_count": 169,
   "metadata": {},
   "outputs": [
    {
     "ename": "TypeError",
     "evalue": "'list' object is not callable",
     "output_type": "error",
     "traceback": [
      "\u001b[1;31m---------------------------------------------------------------------------\u001b[0m",
      "\u001b[1;31mTypeError\u001b[0m                                 Traceback (most recent call last)",
      "Cell \u001b[1;32mIn [169], line 5\u001b[0m\n\u001b[0;32m      3\u001b[0m     dices \u001b[38;5;241m=\u001b[39m f\u001b[38;5;241m.\u001b[39mread()\n\u001b[0;32m      4\u001b[0m     \u001b[38;5;66;03m#dices = dices.strip().split(',')\u001b[39;00m\n\u001b[1;32m----> 5\u001b[0m     sorted_dices \u001b[38;5;241m=\u001b[39m \u001b[38;5;28;43msorted\u001b[39;49m\u001b[43m(\u001b[49m\u001b[43mdices\u001b[49m\u001b[43m)\u001b[49m\n\u001b[0;32m      9\u001b[0m \u001b[38;5;28mprint\u001b[39m(dices)\n\u001b[0;32m     10\u001b[0m \u001b[38;5;28mprint\u001b[39m(sorted_dices)\n",
      "\u001b[1;31mTypeError\u001b[0m: 'list' object is not callable"
     ]
    }
   ],
   "source": [
    "\n",
    "\n",
    "with open(\"../Data/dice_rolls.txt\", \"r\") as f,open(\"../Data/dice_rolls.txt\", \"a\") as f_append:\n",
    "\n",
    "    dices = f.read()\n",
    "    #dices = dices.strip().split(',')\n",
    "    sorted_dices = sorted(dices)\n",
    "\n",
    "\n",
    "    \n",
    "print(dices)\n",
    "print(sorted_dices)\n",
    "    \n",
    "   \n",
    "\n",
    "   "
   ]
  }
 ],
 "metadata": {
  "kernelspec": {
   "display_name": "Python 3.9.13 ('Python-vineela-nedunuri-iPG0HSA5')",
   "language": "python",
   "name": "python3"
  },
  "language_info": {
   "codemirror_mode": {
    "name": "ipython",
    "version": 3
   },
   "file_extension": ".py",
   "mimetype": "text/x-python",
   "name": "python",
   "nbconvert_exporter": "python",
   "pygments_lexer": "ipython3",
   "version": "3.9.13"
  },
  "orig_nbformat": 4,
  "vscode": {
   "interpreter": {
    "hash": "1db1b2e8567942dee12c64de01d929677cea7f86428756000840da4d34ce3db5"
   }
  }
 },
 "nbformat": 4,
 "nbformat_minor": 2
}
