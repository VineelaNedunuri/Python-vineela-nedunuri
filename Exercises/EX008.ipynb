{
 "cells": [
  {
   "cell_type": "markdown",
   "metadata": {},
   "source": [
    "## 1a)   Simulate 20 dice rolls and write them to your textfile."
   ]
  },
  {
   "cell_type": "code",
   "execution_count": 155,
   "metadata": {},
   "outputs": [
    {
     "name": "stdout",
     "output_type": "stream",
     "text": [
      "[1, 4, 4, 3, 3, 2, 1, 1, 2, 1, 2, 6, 6, 2, 2, 2, 3, 6, 1, 5]\n"
     ]
    }
   ],
   "source": [
    "import random\n",
    "\n",
    "path = \"../Data/dice_rolls.txt\"\n",
    "with open(path, \"a\") as f_write: # wrte them to textfile\n",
    "    dice_rolls = [random.randint(1,6) for i in range(20)] # for 20 dice rolls\n",
    "    f_write.write(f\"{dice_rolls}\")\n",
    "    print(dice_rolls)\n",
    "\n"
   ]
  },
  {
   "cell_type": "markdown",
   "metadata": {},
   "source": [
    "## 1b)Sort the dice rolls from a) and write them to a separate row in the same textfile."
   ]
  },
  {
   "cell_type": "code",
   "execution_count": 156,
   "metadata": {},
   "outputs": [
    {
     "ename": "ValueError",
     "evalue": "invalid literal for int() with base 10: ' 6\\nsorted_list: 1'",
     "output_type": "error",
     "traceback": [
      "\u001b[1;31m---------------------------------------------------------------------------\u001b[0m",
      "\u001b[1;31mValueError\u001b[0m                                Traceback (most recent call last)",
      "Cell \u001b[1;32mIn [156], line 7\u001b[0m\n\u001b[0;32m      5\u001b[0m dices \u001b[38;5;241m=\u001b[39m dices\u001b[38;5;241m.\u001b[39mreplace(\u001b[38;5;124m\"\u001b[39m\u001b[38;5;124m]\u001b[39m\u001b[38;5;124m\"\u001b[39m, \u001b[38;5;124m\"\u001b[39m\u001b[38;5;124m\"\u001b[39m)\n\u001b[0;32m      6\u001b[0m dice_list \u001b[38;5;241m=\u001b[39m dices\u001b[38;5;241m.\u001b[39msplit(\u001b[38;5;124m\"\u001b[39m\u001b[38;5;124m,\u001b[39m\u001b[38;5;124m\"\u001b[39m)\n\u001b[1;32m----> 7\u001b[0m dice_list \u001b[38;5;241m=\u001b[39m [\u001b[38;5;28mint\u001b[39m(dice_list[x])\u001b[38;5;28;01mfor\u001b[39;00m x \u001b[38;5;129;01min\u001b[39;00m \u001b[38;5;28mrange\u001b[39m(\u001b[38;5;28mlen\u001b[39m(dice_list))]\n\u001b[0;32m      8\u001b[0m sorted_list \u001b[38;5;241m=\u001b[39m \u001b[38;5;28msorted\u001b[39m(dice_list)\n\u001b[0;32m      9\u001b[0m \u001b[38;5;28mprint\u001b[39m(sorted_list)\n",
      "Cell \u001b[1;32mIn [156], line 7\u001b[0m, in \u001b[0;36m<listcomp>\u001b[1;34m(.0)\u001b[0m\n\u001b[0;32m      5\u001b[0m dices \u001b[38;5;241m=\u001b[39m dices\u001b[38;5;241m.\u001b[39mreplace(\u001b[38;5;124m\"\u001b[39m\u001b[38;5;124m]\u001b[39m\u001b[38;5;124m\"\u001b[39m, \u001b[38;5;124m\"\u001b[39m\u001b[38;5;124m\"\u001b[39m)\n\u001b[0;32m      6\u001b[0m dice_list \u001b[38;5;241m=\u001b[39m dices\u001b[38;5;241m.\u001b[39msplit(\u001b[38;5;124m\"\u001b[39m\u001b[38;5;124m,\u001b[39m\u001b[38;5;124m\"\u001b[39m)\n\u001b[1;32m----> 7\u001b[0m dice_list \u001b[38;5;241m=\u001b[39m [\u001b[38;5;28;43mint\u001b[39;49m\u001b[43m(\u001b[49m\u001b[43mdice_list\u001b[49m\u001b[43m[\u001b[49m\u001b[43mx\u001b[49m\u001b[43m]\u001b[49m\u001b[43m)\u001b[49m\u001b[38;5;28;01mfor\u001b[39;00m x \u001b[38;5;129;01min\u001b[39;00m \u001b[38;5;28mrange\u001b[39m(\u001b[38;5;28mlen\u001b[39m(dice_list))]\n\u001b[0;32m      8\u001b[0m sorted_list \u001b[38;5;241m=\u001b[39m \u001b[38;5;28msorted\u001b[39m(dice_list)\n\u001b[0;32m      9\u001b[0m \u001b[38;5;28mprint\u001b[39m(sorted_list)\n",
      "\u001b[1;31mValueError\u001b[0m: invalid literal for int() with base 10: ' 6\\nsorted_list: 1'"
     ]
    }
   ],
   "source": [
    "\n",
    "\n",
    "path = \"../Data/dice_rolls.txt\"\n",
    "with open(path, \"r\") as f:\n",
    "    dices = f.read()\n",
    "    dices = dices.replace(\"[\", \"\")\n",
    "    dices = dices.replace(\"]\", \"\")\n",
    "    dice_list = dices.split(\",\")\n",
    "    dice_list = [int(dice_list[x])for x in range(len(dice_list))]\n",
    "    sorted_list = sorted(dice_list)\n",
    "    print(sorted_list)\n",
    "\n",
    "\n",
    "with open(path, \"a\") as f_append:\n",
    "   f_append.write(\"\\nsorted_list: \")\n",
    "\n",
    "   f_append.write(f\"{sorted_list}\")\n",
    "\n",
    "   "
   ]
  },
  {
   "cell_type": "markdown",
   "metadata": {},
   "source": [
    "## 1c)   Count the number of fours in the dice rolls and write them to a separate row in the same textfile."
   ]
  },
  {
   "cell_type": "code",
   "execution_count": null,
   "metadata": {},
   "outputs": [
    {
     "name": "stdout",
     "output_type": "stream",
     "text": [
      "5\n"
     ]
    }
   ],
   "source": [
    "count_fours = dice_list.count(4)\n",
    "print(count_fours)\n",
    "with open(path, \"a\") as f_append:\n",
    "   f_append.write(\"\\nThe number of fours in the dice rolls are: \")\n",
    "\n",
    "   f_append.write(f\"{count_fours}\")"
   ]
  }
 ],
 "metadata": {
  "kernelspec": {
   "display_name": "Python 3.9.13 ('Python-vineela-nedunuri-iPG0HSA5')",
   "language": "python",
   "name": "python3"
  },
  "language_info": {
   "codemirror_mode": {
    "name": "ipython",
    "version": 3
   },
   "file_extension": ".py",
   "mimetype": "text/x-python",
   "name": "python",
   "nbconvert_exporter": "python",
   "pygments_lexer": "ipython3",
   "version": "3.9.13"
  },
  "orig_nbformat": 4,
  "vscode": {
   "interpreter": {
    "hash": "1db1b2e8567942dee12c64de01d929677cea7f86428756000840da4d34ce3db5"
   }
  }
 },
 "nbformat": 4,
 "nbformat_minor": 2
}
