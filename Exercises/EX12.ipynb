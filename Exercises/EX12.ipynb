{
 "cells": [
  {
   "cell_type": "markdown",
   "metadata": {},
   "source": [
    "## 2. Fraction"
   ]
  },
  {
   "cell_type": "code",
   "execution_count": 2,
   "metadata": {},
   "outputs": [
    {
     "name": "stdout",
     "output_type": "stream",
     "text": [
      "32/32\n",
      "0/32\n",
      "8/32\n",
      "16/16\n",
      "True\n"
     ]
    }
   ],
   "source": [
    "class Frac:\n",
    "    \"\"\"Create a class called Frac to represent mathematical fractions \"\"\"\n",
    "    def __init__(self, nominator: int, denominator: int) -> None:\n",
    "        self.nominator = nominator\n",
    "        self.denominator = denominator\n",
    "\n",
    "    @property\n",
    "    def nominator(self):\n",
    "        return self._nominator\n",
    "    \n",
    "    #setter\n",
    "    @nominator.setter\n",
    "    def nominator(self, value):\n",
    "        \"\"\"Setter for nominator usind error handling\"\"\"\n",
    "        if not isinstance(value, int):\n",
    "            raise TypeError(f\"Nominator must be a number, not{type(value).__name__}\")\n",
    "        self._nominator = value\n",
    "    \n",
    "    \n",
    "    @property\n",
    "    def denominator(self):\n",
    "        return self._denominator\n",
    "    \n",
    "    #setter\n",
    "    @denominator.setter\n",
    "    def denominator(self, value):\n",
    "        \"\"\"Setter for denominator usind error handling\"\"\"\n",
    "        if not isinstance(value, int):\n",
    "            raise TypeError(f\"Denominator must be a number, not{type(value).__name__}\")\n",
    "        \n",
    "        if value == 0:\n",
    "            raise ValueError(f\"Denominator cann't be zero\")\n",
    "        self._denominator = value\n",
    "\n",
    "\n",
    "    def simplify(self, value = None) -> int: # simplifies to most simple form unless value is given \n",
    "        simplify_nominator = self._nominator\n",
    "        simplify_denominator = self._denominator\n",
    "\n",
    "        if value != 0:\n",
    "            if simplify_nominator % value != 0 or simplify_denominator % value != 0:\n",
    "                raise ValueError (f\"Not possible to simplify by {value}\")\n",
    "            \n",
    "            simplify_nominator = int(simplify_nominator/value)\n",
    "            simplify_denominator = int(simplify_denominator/value)\n",
    "        else:\n",
    "            p = 2\n",
    "            while p<= simplify_nominator and p <= simplify_denominator:\n",
    "                if simplify_nominator % 2 == 0 and simplify_denominator % 2 == 0:\n",
    "                    simplify_nominator = int(simplify_nominator/p)\n",
    "                    simplify_denominator = int(simplify_denominator/p)\n",
    "                else:\n",
    "                    p += 1\n",
    "        return Frac(simplify_nominator, simplify_denominator)\n",
    "        \n",
    "\n",
    "    def __str__(self):  # represent the fraction in a neat way for printing\n",
    "\n",
    "        return str(self.nominator)+ \"/\"+str(self.denominator)\n",
    "\n",
    "    \n",
    "    def mixed(self): # represent the fraction in mixed terms \n",
    "        return Frac(self.nominator/self.denominator)\n",
    "\n",
    "\n",
    "    # overlad + operatror\n",
    "    def __add__(self, other):\n",
    "        new_nominator = self.nominator*other.denominator + self.denominator*other.nominator\n",
    "        new_denominator = self.denominator*other.denominator\n",
    "        return Frac(new_nominator, new_denominator)\n",
    "    \n",
    "    #  overlad - operatror\n",
    "    def __sub__(self, other):\n",
    "        new_nominator = self.nominator*other.denominator - self.denominator*other.nominator\n",
    "        new_denominator = self.denominator*other.denominator\n",
    "        return Frac(new_nominator, new_denominator)\n",
    "    \n",
    "    # overload * operator\n",
    "    def __mul__(self, other):\n",
    "        new_nominator = self.nominator*other.nominator\n",
    "        new_denominator = self.denominator*other.denominator\n",
    "        return Frac(new_nominator, new_denominator)\n",
    "\n",
    "    # overload / operator\n",
    "    def __truediv__(self, other):\n",
    "        new_nominator = self.nominator*other.denominator\n",
    "        new_denominator = self.denominator*other.nominator\n",
    "        return Frac(new_nominator, new_denominator)\n",
    "\n",
    "    def __repr__(self):\n",
    "        return f\"Frac({self.nominator}, {self.denominator})\"\n",
    "\n",
    "    \n",
    "    def __eq__(self, other): # checks equality by overloading ==\n",
    "        nominator1 = self.nominator *other.denominator\n",
    "        nominator2 = other.nominator*self.denominator\n",
    "        return nominator1 == nominator2\n",
    "\n",
    "\n",
    "\n",
    "\n",
    "f1 = Frac(2,4)\n",
    "f2 = Frac(4,8)\n",
    "print(f1+f2)\n",
    "print(f1-f2)\n",
    "print(f1*f2)\n",
    "print(f1/f2)\n",
    "print(f1==f2)\n",
    "   "
   ]
  },
  {
   "cell_type": "code",
   "execution_count": 3,
   "metadata": {},
   "outputs": [
    {
     "ename": "TypeError",
     "evalue": "unsupported operand type(s) for %: 'int' and 'NoneType'",
     "output_type": "error",
     "traceback": [
      "\u001b[1;31m---------------------------------------------------------------------------\u001b[0m",
      "\u001b[1;31mTypeError\u001b[0m                                 Traceback (most recent call last)",
      "Cell \u001b[1;32mIn [3], line 1\u001b[0m\n\u001b[1;32m----> 1\u001b[0m f2\u001b[39m.\u001b[39;49msimplify()\n",
      "Cell \u001b[1;32mIn [2], line 41\u001b[0m, in \u001b[0;36mFrac.simplify\u001b[1;34m(self, value)\u001b[0m\n\u001b[0;32m     38\u001b[0m simplify_denominator \u001b[39m=\u001b[39m \u001b[39mself\u001b[39m\u001b[39m.\u001b[39m_denominator\n\u001b[0;32m     40\u001b[0m \u001b[39mif\u001b[39;00m value \u001b[39m!=\u001b[39m \u001b[39m0\u001b[39m:\n\u001b[1;32m---> 41\u001b[0m     \u001b[39mif\u001b[39;00m simplify_nominator \u001b[39m%\u001b[39;49m value \u001b[39m!=\u001b[39m \u001b[39m0\u001b[39m \u001b[39mor\u001b[39;00m simplify_denominator \u001b[39m%\u001b[39m value \u001b[39m!=\u001b[39m \u001b[39m0\u001b[39m:\n\u001b[0;32m     42\u001b[0m         \u001b[39mraise\u001b[39;00m \u001b[39mValueError\u001b[39;00m (\u001b[39mf\u001b[39m\u001b[39m\"\u001b[39m\u001b[39mNot possible to simplify by \u001b[39m\u001b[39m{\u001b[39;00mvalue\u001b[39m}\u001b[39;00m\u001b[39m\"\u001b[39m)\n\u001b[0;32m     44\u001b[0m     simplify_nominator \u001b[39m=\u001b[39m \u001b[39mint\u001b[39m(simplify_nominator\u001b[39m/\u001b[39mvalue)\n",
      "\u001b[1;31mTypeError\u001b[0m: unsupported operand type(s) for %: 'int' and 'NoneType'"
     ]
    }
   ],
   "source": [
    "f2.simplify() \n"
   ]
  }
 ],
 "metadata": {
  "kernelspec": {
   "display_name": "Python 3.9.13 ('Python-vineela-nedunuri-iPG0HSA5')",
   "language": "python",
   "name": "python3"
  },
  "language_info": {
   "codemirror_mode": {
    "name": "ipython",
    "version": 3
   },
   "file_extension": ".py",
   "mimetype": "text/x-python",
   "name": "python",
   "nbconvert_exporter": "python",
   "pygments_lexer": "ipython3",
   "version": "3.9.13"
  },
  "orig_nbformat": 4,
  "vscode": {
   "interpreter": {
    "hash": "1db1b2e8567942dee12c64de01d929677cea7f86428756000840da4d34ce3db5"
   }
  }
 },
 "nbformat": 4,
 "nbformat_minor": 2
}
