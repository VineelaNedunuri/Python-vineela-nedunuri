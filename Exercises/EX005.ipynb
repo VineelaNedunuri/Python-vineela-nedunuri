{
 "cells": [
  {
   "cell_type": "markdown",
   "metadata": {},
   "source": [
    "#  1. Counting letters"
   ]
  },
  {
   "cell_type": "code",
   "execution_count": 3,
   "metadata": {},
   "outputs": [
    {
     "name": "stdout",
     "output_type": "stream",
     "text": [
      "vineeelanedunuri\n",
      "The  number of letters in the word is:  16\n"
     ]
    }
   ],
   "source": [
    "name = input(\"Enter the name : \")\n",
    "print(name)\n",
    "print(\"The  number of letters in the word is: \",len(name))"
   ]
  },
  {
   "cell_type": "markdown",
   "metadata": {},
   "source": [
    "# 1b "
   ]
  },
  {
   "cell_type": "code",
   "execution_count": 12,
   "metadata": {},
   "outputs": [
    {
     "name": "stdout",
     "output_type": "stream",
     "text": [
      "GHJuKLooop\n",
      "The number of uppercase letters of the word :  5\n",
      "The number of uppercase letters of the word :  5\n"
     ]
    }
   ],
   "source": [
    "import re\n",
    "name = input(\"Enter the name : \")\n",
    "print(name)\n",
    "upper_case = re.findall(r\"[A-Z]\", name)\n",
    "lower_case = re.findall(r\"[a-z]\", name)\n",
    "\n",
    "print(\"The number of uppercase letters of the word : \",len(upper_case))\n",
    "print(\"The number of uppercase letters of the word : \",len(lower_case))"
   ]
  },
  {
   "cell_type": "markdown",
   "metadata": {},
   "source": [
    "##  2. Counting words"
   ]
  },
  {
   "cell_type": "code",
   "execution_count": 17,
   "metadata": {},
   "outputs": [
    {
     "name": "stdout",
     "output_type": "stream",
     "text": [
      "A picture says more than a thousand words, a matematical formula says more than a thousand pictures.\n",
      "There are 17 words in that sentence\n"
     ]
    }
   ],
   "source": [
    "sentence =  \"A picture says more than a thousand words, a matematical formula says more than a thousand pictures.\" \n",
    "print(sentence)\n",
    "x = sentence.split()\n",
    "result = len(x)\n",
    "print(f\"There are {result} words in that sentence\")"
   ]
  },
  {
   "cell_type": "markdown",
   "metadata": {},
   "source": [
    "## 3. Palindrome"
   ]
  },
  {
   "cell_type": "code",
   "execution_count": 50,
   "metadata": {},
   "outputs": [
    {
     "name": "stdout",
     "output_type": "stream",
     "text": [
      "Input is  anna anna anna anna\n",
      "The string is  annaannaannaanna\n",
      "The reverse string is  annaannaannaanna\n",
      "It is a palindrome\n"
     ]
    }
   ],
   "source": [
    "import re\n",
    "\n",
    "string = input(\"Enter the name : \")\n",
    "print(\"Input is \",string)\n",
    "\n",
    "x = re.sub(r\"\\s+\",\"\",string) # ignore white spaces\n",
    "print(\"The string is \",x)\n",
    "\n",
    "string_reverse = x[::-1]\n",
    "print(\"The reverse string is \",string_reverse)\n",
    "\n",
    "if x == string_reverse:\n",
    "    print(\"It is a palindrome\")\n",
    "else:\n",
    "    print(\"It is not a palindrome\")\n"
   ]
  },
  {
   "cell_type": "markdown",
   "metadata": {},
   "source": [
    "## 4. Vowels "
   ]
  },
  {
   "cell_type": "code",
   "execution_count": 61,
   "metadata": {},
   "outputs": [
    {
     "name": "stdout",
     "output_type": "stream",
     "text": [
      "pure mathematics is, in its way, the poetry of logical ideas\n",
      "There are 22 vowels in this sentence\n"
     ]
    }
   ],
   "source": [
    "import re\n",
    "\n",
    "sentence =  \"Pure mathematics is, in its way, the poetry of logical ideas\"\n",
    "x = sentence.casefold() # convert to lowercase\n",
    "print(x)\n",
    "\n",
    "\n",
    "result = re.findall(r\"[a,e,i,o,u]\", x)\n",
    "z = len(result)\n",
    "print(f\"There are {z} vowels in this sentence\")\n"
   ]
  },
  {
   "cell_type": "markdown",
   "metadata": {},
   "source": [
    "## 5a.Encryption"
   ]
  },
  {
   "cell_type": "code",
   "execution_count": 27,
   "metadata": {},
   "outputs": [
    {
     "name": "stdout",
     "output_type": "stream",
     "text": [
      "string='abcz'\n",
      "bcda"
     ]
    }
   ],
   "source": [
    "\n",
    "string = input(\"Enter the name : \")\n",
    "print(f\"{string=}\")\n",
    "\n",
    "\n",
    "for letter in string:\n",
    "    if letter == \"z\":\n",
    "        x = \"a\"\n",
    "    else:\n",
    "        x = chr(ord(letter)+1)\n",
    "    print(x, end = \"\")\n"
   ]
  },
  {
   "cell_type": "markdown",
   "metadata": {},
   "source": [
    "## 5b.decrypt"
   ]
  },
  {
   "cell_type": "code",
   "execution_count": 23,
   "metadata": {},
   "outputs": [
    {
     "name": "stdout",
     "output_type": "stream",
     "text": [
      "string='abcz'\n",
      "zaby"
     ]
    }
   ],
   "source": [
    "string = input(\"Enter the name : \")\n",
    "print(f\"{string=}\")\n",
    "\n",
    "\n",
    "for letter in string:\n",
    "    if letter == \"a\":\n",
    "        x = \"z\"\n",
    "    else:\n",
    "        x = chr(ord(letter)-1)\n",
    "    print(x, end = \"\")"
   ]
  },
  {
   "cell_type": "markdown",
   "metadata": {},
   "source": [
    "## 5c.   let the user choose either encryption or decryption."
   ]
  },
  {
   "cell_type": "code",
   "execution_count": 30,
   "metadata": {},
   "outputs": [
    {
     "name": "stdout",
     "output_type": "stream",
     "text": [
      "string='abxy'\n",
      "zawx"
     ]
    }
   ],
   "source": [
    "user_choose = input(\"Enter  + for encryptio and - decryptio\")\n",
    "if user_choose == \"+\":\n",
    "    string = input(\"Enter the name : \")\n",
    "    print(f\"{string=}\")\n",
    "\n",
    "    for letter in string:\n",
    "        if letter == \"z\":\n",
    "            x = \"a\"\n",
    "        else:\n",
    "            x = chr(ord(letter)+1)\n",
    "        print(x, end = \"\")\n",
    "        \n",
    "   \n",
    "\n",
    "elif user_choose == \"-\":\n",
    "    string = input(\"Enter the name : \")\n",
    "    print(f\"{string=}\")\n",
    "\n",
    "    for letter in string:\n",
    "        if letter == \"a\":\n",
    "            x = \"z\"\n",
    "        else:\n",
    "            x = chr(ord(letter)-1)\n",
    "        print(x, end = \"\")\n",
    "        \n"
   ]
  }
 ],
 "metadata": {
  "kernelspec": {
   "display_name": "Python 3.9.13 64-bit",
   "language": "python",
   "name": "python3"
  },
  "language_info": {
   "codemirror_mode": {
    "name": "ipython",
    "version": 3
   },
   "file_extension": ".py",
   "mimetype": "text/x-python",
   "name": "python",
   "nbconvert_exporter": "python",
   "pygments_lexer": "ipython3",
   "version": "3.9.13"
  },
  "orig_nbformat": 4,
  "vscode": {
   "interpreter": {
    "hash": "aa93088360420e47a92e6fc9121e9159dbf1900a5f483a704136b076cb810347"
   }
  }
 },
 "nbformat": 4,
 "nbformat_minor": 2
}
