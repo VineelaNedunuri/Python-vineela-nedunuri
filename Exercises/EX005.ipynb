{
 "cells": [
  {
   "cell_type": "markdown",
   "metadata": {},
   "source": [
    "#  1. Counting letters \n",
    "Let the user input a word:\n"
   ]
  },
  {
   "cell_type": "markdown",
   "metadata": {},
   "source": [
    "- a)   print out the number of letters in the word. "
   ]
  },
  {
   "cell_type": "code",
   "execution_count": 1,
   "metadata": {},
   "outputs": [
    {
     "name": "stdout",
     "output_type": "stream",
     "text": [
      "vineela nedunuri\n",
      "The  number of letters in the word is:  16\n"
     ]
    }
   ],
   "source": [
    "name = input(\"Enter the name : \")\n",
    "print(name)\n",
    "print(\"The  number of letters in the word is: \",len(name))"
   ]
  },
  {
   "cell_type": "markdown",
   "metadata": {},
   "source": [
    "- b)   print out the number of uppercase and lowercase letters of the word "
   ]
  },
  {
   "cell_type": "code",
   "execution_count": 12,
   "metadata": {},
   "outputs": [
    {
     "name": "stdout",
     "output_type": "stream",
     "text": [
      "GHJuKLooop\n",
      "The number of uppercase letters of the word :  5\n",
      "The number of uppercase letters of the word :  5\n"
     ]
    }
   ],
   "source": [
    "import re\n",
    "name = input(\"Enter the name : \")\n",
    "print(name)\n",
    "upper_case = re.findall(r\"[A-Z]\", name)\n",
    "lower_case = re.findall(r\"[a-z]\", name)\n",
    "\n",
    "print(\"The number of uppercase letters of the word : \",len(upper_case))\n",
    "print(\"The number of uppercase letters of the word : \",len(lower_case))"
   ]
  },
  {
   "cell_type": "markdown",
   "metadata": {},
   "source": [
    "##  2. Counting words \n",
    "Count the number of words in this sentence: \"A picture says more than a thousand words, a matematical formula says more than a thousand pictures.\" "
   ]
  },
  {
   "cell_type": "code",
   "execution_count": 5,
   "metadata": {},
   "outputs": [
    {
     "name": "stdout",
     "output_type": "stream",
     "text": [
      "A picture says more than a thousand words, a matematical formula says more than a thousand pictures.\n",
      "['A', 'picture', 'says', 'more', 'than', 'a', 'thousand', 'words,', 'a', 'matematical', 'formula', 'says', 'more', 'than', 'a', 'thousand', 'pictures.']\n",
      "There are 17 words in that sentence\n"
     ]
    }
   ],
   "source": [
    "sentence =  \"A picture says more than a thousand words, a matematical formula says more than a thousand pictures.\" \n",
    "print(sentence)\n",
    "x = sentence.split()\n",
    "print(x)\n",
    "result = len(x)\n",
    "print(f\"There are {result} words in that sentence\")"
   ]
  },
  {
   "cell_type": "markdown",
   "metadata": {},
   "source": [
    "## 3. Palindrome \n",
    "A palindrome is a sequence of characters that is the same, when read forward as backwards (ignoring spaces). For example:\n",
    "\n",
    "- \"Anna\" is a palindrome\n",
    "- \"Ni talar bra latin\"\n",
    "- bjkjb\n",
    "Let the user input a sequence of characters and check if it is a palindrome. "
   ]
  },
  {
   "cell_type": "code",
   "execution_count": 12,
   "metadata": {},
   "outputs": [
    {
     "name": "stdout",
     "output_type": "stream",
     "text": [
      "Input is  bjkjb\n",
      "The string is  bjkjb\n",
      "The reverse string is  bjkjb\n",
      "It is a palindrome\n"
     ]
    }
   ],
   "source": [
    "import re\n",
    "\n",
    "string = input(\"Enter the name : \")\n",
    "print(\"Input is \",string)\n",
    "\n",
    "x = re.sub(r\"\\s+\",\"\",string) # ignore white spaces\n",
    "print(\"The string is \",x)\n",
    "\n",
    "string_reverse = x[::-1]\n",
    "print(\"The reverse string is \",string_reverse)\n",
    "\n",
    "if x == string_reverse:\n",
    "    print(\"It is a palindrome\")\n",
    "else:\n",
    "    print(\"It is not a palindrome\")\n"
   ]
  },
  {
   "cell_type": "markdown",
   "metadata": {},
   "source": [
    "## 4. Vowels \n",
    "Count the number of vowels in this sentence: \"Pure mathematics is, in its way, the poetry of logical ideas\""
   ]
  },
  {
   "cell_type": "code",
   "execution_count": 61,
   "metadata": {},
   "outputs": [
    {
     "name": "stdout",
     "output_type": "stream",
     "text": [
      "pure mathematics is, in its way, the poetry of logical ideas\n",
      "There are 22 vowels in this sentence\n"
     ]
    }
   ],
   "source": [
    "import re\n",
    "\n",
    "sentence =  \"Pure mathematics is, in its way, the poetry of logical ideas\"\n",
    "x = sentence.casefold() # x = sentence.lower() # convert to lowercase\n",
    "print(x)\n",
    "\n",
    "\n",
    "result = re.findall(r\"[a,e,i,o,u]\", x)\n",
    "z = len(result)\n",
    "print(f\"There are {z} vowels in this sentence\")\n"
   ]
  },
  {
   "cell_type": "markdown",
   "metadata": {},
   "source": [
    "## 5. Encryption \n",
    "Let the user input a word "
   ]
  },
  {
   "cell_type": "markdown",
   "metadata": {},
   "source": [
    "-  a)   encrypt the message by replacing each letter with the next letter. If the letter is in the end of the alphabet, use the first letter instead.\n",
    "\n",
    "    e.g. in Swedish: \"höst\"  \"iatu\"\n"
   ]
  },
  {
   "cell_type": "code",
   "execution_count": 28,
   "metadata": {},
   "outputs": [
    {
     "name": "stdout",
     "output_type": "stream",
     "text": [
      "string='abcgfz'\n",
      "bcdhga"
     ]
    }
   ],
   "source": [
    "user_input= input(\"Enter the name : \")\n",
    "string = user_input.casefold()\n",
    "print(f\"{string=}\")\n",
    "\n",
    "\n",
    "for letter in string:\n",
    "    if letter == \"z\":\n",
    "        x = \"a\"\n",
    "    else:\n",
    "        x = chr(ord(letter)+1)\n",
    "    print(x, end = \"\")\n"
   ]
  },
  {
   "cell_type": "markdown",
   "metadata": {},
   "source": [
    "-  b)   decrypt the message"
   ]
  },
  {
   "cell_type": "code",
   "execution_count": 30,
   "metadata": {},
   "outputs": [
    {
     "name": "stdout",
     "output_type": "stream",
     "text": [
      "string='ytvac'\n",
      "xsuzb"
     ]
    }
   ],
   "source": [
    "user_input = input(\"Enter the name : \")\n",
    "string = user_input.casefold()\n",
    "print(f\"{string=}\")\n",
    "\n",
    "\n",
    "for letter in string:\n",
    "    if letter == \"a\":\n",
    "        x = \"z\"\n",
    "    else:\n",
    "        x = chr(ord(letter)-1)\n",
    "    print(x, end = \"\")"
   ]
  },
  {
   "cell_type": "markdown",
   "metadata": {},
   "source": [
    "- c)   let the user choose either encryption or decryption."
   ]
  },
  {
   "cell_type": "code",
   "execution_count": 32,
   "metadata": {},
   "outputs": [
    {
     "name": "stdout",
     "output_type": "stream",
     "text": [
      "string='avbcz'\n",
      "zuaby"
     ]
    }
   ],
   "source": [
    "\n",
    "user_input = input(\"Enter the name : \")\n",
    "string = user_input.casefold()\n",
    "print(f\"{string=}\")\n",
    "\n",
    "user_choose = input(\"Enter  + for encryptio and - decryptio\")\n",
    "if user_choose == \"+\":\n",
    "    for letter in string:\n",
    "        if letter == \"z\":\n",
    "            x = \"a\"\n",
    "        else:\n",
    "            x = chr(ord(letter)+1)\n",
    "        print(x, end = \"\")  \n",
    "\n",
    "elif user_choose == \"-\":\n",
    "\n",
    "    for letter in string:\n",
    "        if letter == \"a\":\n",
    "            x = \"z\"\n",
    "        else:\n",
    "            x = chr(ord(letter)-1)\n",
    "        print(x, end = \"\")\n",
    "        \n"
   ]
  }
 ],
 "metadata": {
  "kernelspec": {
   "display_name": "Python 3.9.13 ('Python-vineela-nedunuri-iPG0HSA5')",
   "language": "python",
   "name": "python3"
  },
  "language_info": {
   "codemirror_mode": {
    "name": "ipython",
    "version": 3
   },
   "file_extension": ".py",
   "mimetype": "text/x-python",
   "name": "python",
   "nbconvert_exporter": "python",
   "pygments_lexer": "ipython3",
   "version": "3.9.13"
  },
  "orig_nbformat": 4,
  "vscode": {
   "interpreter": {
    "hash": "1db1b2e8567942dee12c64de01d929677cea7f86428756000840da4d34ce3db5"
   }
  }
 },
 "nbformat": 4,
 "nbformat_minor": 2
}
