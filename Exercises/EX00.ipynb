{
 "cells": [
  {
   "cell_type": "markdown",
   "metadata": {},
   "source": [
    "# Uppgift 1a"
   ]
  },
  {
   "cell_type": "code",
   "execution_count": 1,
   "metadata": {},
   "outputs": [
    {
     "name": "stdout",
     "output_type": "stream",
     "text": [
      "The hypothenuse of the triangle is c 5.0 length units\n"
     ]
    }
   ],
   "source": [
    "a = 3\n",
    "b = 4\n",
    "\n",
    "import math\n",
    "# calculate hypothenous of triangle\n",
    "c = math.sqrt(a*a+b*b)\n",
    "print(f\"The hypothenuse of the triangle is c {c} length units\")"
   ]
  },
  {
   "cell_type": "markdown",
   "metadata": {},
   "source": [
    "# Uppgift 1b\n"
   ]
  },
  {
   "cell_type": "code",
   "execution_count": 2,
   "metadata": {},
   "outputs": [
    {
     "name": "stdout",
     "output_type": "stream",
     "text": [
      " The other cathetus and round to one decimal is b = 4.9 length units\n"
     ]
    }
   ],
   "source": [
    "a = 5.0\n",
    "c = 7.0\n",
    "\n",
    "import math\n",
    "b = math.sqrt((c*c)-(a*a))\n",
    "print(f\" The other cathetus and round to one decimal is {b = :.1f} length units\")"
   ]
  },
  {
   "cell_type": "markdown",
   "metadata": {},
   "source": [
    "# Uppgift 2"
   ]
  },
  {
   "cell_type": "code",
   "execution_count": 7,
   "metadata": {},
   "outputs": [
    {
     "name": "stdout",
     "output_type": "stream",
     "text": [
      "The accuracy of the model 82.2 %\n"
     ]
    }
   ],
   "source": [
    "# compute the accuracy of the model\n",
    "\n",
    "predections = 365\n",
    "correctPredections = 300\n",
    "\n",
    "Accuracy = correctPredections/predections * 100\n",
    "\n",
    "print(f\"The accuracy of the model {Accuracy :.1f} %\")\n"
   ]
  },
  {
   "cell_type": "markdown",
   "metadata": {},
   "source": [
    "# Uppgift 3"
   ]
  },
  {
   "cell_type": "code",
   "execution_count": 22,
   "metadata": {},
   "outputs": [
    {
     "name": "stdout",
     "output_type": "stream",
     "text": [
      "The accuracy of the moder is 0.987\n"
     ]
    }
   ],
   "source": [
    "# compute the accuracy of the model by using the result of its predictions:\n",
    "\n",
    "\n",
    "TP = 2\n",
    "FP = 2\n",
    "FN = 11\n",
    "TN = 985\n",
    "\n",
    "\n",
    "accuracy =  (TP + TN)/ ( TP + TN + FP + FN)\n",
    "print(f\"The accuracy of the moder is {accuracy:.3f}\")"
   ]
  },
  {
   "cell_type": "markdown",
   "metadata": {},
   "source": [
    "# Uppgift 4"
   ]
  },
  {
   "cell_type": "code",
   "execution_count": 32,
   "metadata": {},
   "outputs": [
    {
     "name": "stdout",
     "output_type": "stream",
     "text": [
      "The slope of the line k = 0.75\n",
      "The equation of the line is Y = 0.75 x + 1.0\n"
     ]
    }
   ],
   "source": [
    "# compute tha slope k and constant m of line using the points A:(4,4)andB:(0,1)\n",
    "\n",
    "\n",
    "x1, y1 = 4, 4\n",
    "x2, y2 = 0, 1\n",
    "\n",
    "k = (y2-y1)/(x2-x1)\n",
    "print(f\"The slope of the line k = {k}\")\n",
    "\n",
    "m1 = y1 - k * x1\n",
    "m2 = y2 - k * x2\n",
    "\n",
    "m = m1 = m2\n",
    "\n",
    "print(f\"The equation of the line is Y = {k} x + {m}\")"
   ]
  }
 ],
 "metadata": {
  "kernelspec": {
   "display_name": "Python 3.9.13 ('Python-vineela-nedunuri-iPG0HSA5')",
   "language": "python",
   "name": "python3"
  },
  "language_info": {
   "codemirror_mode": {
    "name": "ipython",
    "version": 3
   },
   "file_extension": ".py",
   "mimetype": "text/x-python",
   "name": "python",
   "nbconvert_exporter": "python",
   "pygments_lexer": "ipython3",
   "version": "3.9.13"
  },
  "orig_nbformat": 4,
  "vscode": {
   "interpreter": {
    "hash": "1db1b2e8567942dee12c64de01d929677cea7f86428756000840da4d34ce3db5"
   }
  }
 },
 "nbformat": 4,
 "nbformat_minor": 2
}
