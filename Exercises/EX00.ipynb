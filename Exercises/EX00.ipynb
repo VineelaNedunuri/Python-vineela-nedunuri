{
 "cells": [
  {
   "cell_type": "markdown",
   "metadata": {},
   "source": [
    "## 1 Pythagorean theorem "
   ]
  },
  {
   "cell_type": "markdown",
   "metadata": {},
   "source": [
    " \n",
    "-  a)   A right angled triangle has the catheti: a = 3 and b = 4 length units. Compute the hypothenuse of the triangle."
   ]
  },
  {
   "cell_type": "code",
   "execution_count": 1,
   "metadata": {},
   "outputs": [
    {
     "name": "stdout",
     "output_type": "stream",
     "text": [
      "The hypothenuse of the triangle is c 5.0 length units\n"
     ]
    }
   ],
   "source": [
    "a = 3\n",
    "b = 4\n",
    "\n",
    "import math\n",
    "# calculate hypothenous of triangle\n",
    "c = math.sqrt(a*a+b*b) # c**2 = a**2 + b**2\n",
    "print(f\"The hypothenuse of the triangle is c {c} length units\")"
   ]
  },
  {
   "cell_type": "markdown",
   "metadata": {},
   "source": [
    "- b)   A right angled triangle has hypothenuse c = 7.0 and a cathetus a = 5.0 length units. Compute the other cathetus and round to one decimal.\n"
   ]
  },
  {
   "cell_type": "code",
   "execution_count": 2,
   "metadata": {},
   "outputs": [
    {
     "name": "stdout",
     "output_type": "stream",
     "text": [
      " The other cathetus and round to one decimal is b = 4.9 length units\n"
     ]
    }
   ],
   "source": [
    "a = 5.0\n",
    "c = 7.0\n",
    "\n",
    "import math\n",
    "b = math.sqrt((c*c)-(a*a)) # b**2 = c**2- a**2\n",
    "print(f\" The other cathetus and round to one decimal is {b = :.1f} length units\")"
   ]
  },
  {
   "cell_type": "markdown",
   "metadata": {},
   "source": [
    "#  2. Classification accuracy \n",
    "- A machine learning algorithm has been trained to predict whether or not it would rain the next day. Out of 365 predictions, it got 300 correct, compute the accuracy of this model."
   ]
  },
  {
   "cell_type": "code",
   "execution_count": 3,
   "metadata": {},
   "outputs": [
    {
     "name": "stdout",
     "output_type": "stream",
     "text": [
      "The accuracy of the model 82.2 %\n"
     ]
    }
   ],
   "source": [
    "# compute the accuracy of the model\n",
    "\n",
    "predections = 365\n",
    "correctPredections = 300\n",
    "\n",
    "Accuracy = correctPredections/predections * 100\n",
    "\n",
    "print(f\"The accuracy of the model {Accuracy :.1f} %\")\n"
   ]
  },
  {
   "cell_type": "markdown",
   "metadata": {},
   "source": [
    "#  3. Classification accuracy \n",
    "-A machine learning model has been trained to detect fire. Here is the result of its predictions:\n",
    "\n",
    "- True Positive (TP)\n",
    "Reality: fire\n",
    "Predicted: fire\n",
    "Number of TP: 2\n",
    "- False Positive (FP)\n",
    "Reality: no fire\n",
    "Predicted: fire\n",
    "Number of FP: 2\n",
    "-  False Negative (FN)\n",
    "Reality: fire\n",
    "Predicted: no fire\n",
    "Number of FN: 11\n",
    "- True Negative (TN)\n",
    "Reality: no fire\n",
    "Predicted: no fire\n",
    "Number of TN: 985\n",
    "Calculated the accuracy using the following formula:\n",
    "\n",
    "$$accuracy =  \\frac{TP+TN}{TP+TN+FP+FN}$$\n",
    "\n"
   ]
  },
  {
   "cell_type": "code",
   "execution_count": 4,
   "metadata": {},
   "outputs": [
    {
     "name": "stdout",
     "output_type": "stream",
     "text": [
      "The accuracy of the moder is 0.987\n"
     ]
    }
   ],
   "source": [
    "# compute the accuracy of the model by using the result of its predictions:\n",
    "\n",
    "\n",
    "TP = 2\n",
    "FP = 2\n",
    "FN = 11\n",
    "TN = 985\n",
    "\n",
    "\n",
    "accuracy =  (TP + TN)/ ( TP + TN + FP + FN)\n",
    "print(f\"The accuracy of the moder is {accuracy:.3f}\")"
   ]
  },
  {
   "cell_type": "markdown",
   "metadata": {},
   "source": [
    "#  4. Line \n",
    "-  compute tha slope k and constant m of line using the points A:(4,4)andB:(0,1)\n"
   ]
  },
  {
   "cell_type": "code",
   "execution_count": 5,
   "metadata": {},
   "outputs": [
    {
     "name": "stdout",
     "output_type": "stream",
     "text": [
      "The slope of the line k = 0.75\n",
      "The equation of the line is Y = 0.75 x + 1.0\n"
     ]
    }
   ],
   "source": [
    "# compute tha slope k and constant m of line using the points A:(4,4)andB:(0,1)\n",
    "\n",
    "x1, y1 = 4, 4\n",
    "x2, y2 = 0, 1\n",
    "\n",
    "k = (y2-y1)/(x2-x1)\n",
    "print(f\"The slope of the line k = {k}\")\n",
    "\n",
    "m = y1 - k * x1\n",
    "\n",
    "print(f\"The equation of the line is Y = {k} x + {m}\")"
   ]
  },
  {
   "cell_type": "markdown",
   "metadata": {},
   "source": [
    "#  5. Euclidean distance\n",
    "- The Euclideam distance between the points P1 and P2 is the length of a line between them. Let P1:(3,5) and P2:(−2,4) and compute the distance between them.\n",
    "Formula:\n",
    "$$d = \\sqrt{(x_2-x_1)^2 + (y_2-y_1)^2}$$\n"
   ]
  },
  {
   "cell_type": "code",
   "execution_count": 8,
   "metadata": {},
   "outputs": [
    {
     "name": "stdout",
     "output_type": "stream",
     "text": [
      "The distance is around 5.1 length units\n"
     ]
    }
   ],
   "source": [
    "# compute the distance between the points P1:(3,5)  and  P2:(−2,4)\n",
    "import math\n",
    "\n",
    "x1, y1 = 3, 5\n",
    "x2, y2 = -2, 4\n",
    "\n",
    "\n",
    "distance = math.sqrt((x2-x1)*(x2-x1) + (y2-y1)*(y2-y1))\n",
    "\n",
    "print(f\"The distance is around {distance:.1f} length units\")\n",
    "\n",
    "\n",
    "\n"
   ]
  },
  {
   "cell_type": "markdown",
   "metadata": {},
   "source": [
    "#  6. Euclidean distance in 3D\n",
    "- Calculate the distance between the points P1:(2,1,4) and P2:(3,1,0)\n",
    "Formula:\n",
    "$$d = \\sqrt{(p_1-q_1)^2 + (p_2-q_2)^2+(p_3-q_3)^2}$$\n"
   ]
  },
  {
   "cell_type": "code",
   "execution_count": 1,
   "metadata": {},
   "outputs": [
    {
     "name": "stdout",
     "output_type": "stream",
     "text": [
      " The distance is around 4.12 length units\n"
     ]
    }
   ],
   "source": [
    "# compute Euclidean distance in 3D P1:(2,1,4)  and P2:(3,1,0)\n",
    "import math\n",
    "p1, p2, p3 = 2, 1, 4\n",
    "q1, q2, q3 = 3, 1, 0\n",
    "\n",
    "\n",
    "distance = math.sqrt((p1-q1)*(p1-q1) + (p2-q2)*(p2-q2) + (p3-q3)*(p3-q3))\n",
    "print(f\" The distance is around {distance:.2f} length units\")"
   ]
  }
 ],
 "metadata": {
  "kernelspec": {
   "display_name": "Python 3.9.13 ('Python-vineela-nedunuri-iPG0HSA5')",
   "language": "python",
   "name": "python3"
  },
  "language_info": {
   "codemirror_mode": {
    "name": "ipython",
    "version": 3
   },
   "file_extension": ".py",
   "mimetype": "text/x-python",
   "name": "python",
   "nbconvert_exporter": "python",
   "pygments_lexer": "ipython3",
   "version": "3.9.13"
  },
  "orig_nbformat": 4,
  "vscode": {
   "interpreter": {
    "hash": "1db1b2e8567942dee12c64de01d929677cea7f86428756000840da4d34ce3db5"
   }
  }
 },
 "nbformat": 4,
 "nbformat_minor": 2
}
