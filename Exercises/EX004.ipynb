{
 "cells": [
  {
   "cell_type": "markdown",
   "metadata": {},
   "source": [
    "# 1a"
   ]
  },
  {
   "cell_type": "code",
   "execution_count": 14,
   "metadata": {},
   "outputs": [
    {
     "name": "stdout",
     "output_type": "stream",
     "text": [
      "[1, 1, 1, 2, 2, 4, 5, 5, 5, 5]\n"
     ]
    }
   ],
   "source": [
    "import random as rnd\n",
    "dices = [rnd.randint(1,6) for i in range(10)]\n",
    "dices.sort()\n",
    "print(dices)"
   ]
  },
  {
   "cell_type": "markdown",
   "metadata": {},
   "source": [
    "# 1b"
   ]
  },
  {
   "cell_type": "code",
   "execution_count": 16,
   "metadata": {},
   "outputs": [
    {
     "name": "stdout",
     "output_type": "stream",
     "text": [
      "[5, 5, 5, 4, 4, 3, 3, 3, 3, 3]\n"
     ]
    }
   ],
   "source": [
    "import random as rnd\n",
    "dices = [rnd.randint(1,6) for i in range(10)]\n",
    "dices.sort(reverse=True)\n",
    "print(dices)"
   ]
  },
  {
   "cell_type": "markdown",
   "metadata": {},
   "source": [
    "# 1c"
   ]
  },
  {
   "cell_type": "code",
   "execution_count": 20,
   "metadata": {},
   "outputs": [
    {
     "name": "stdout",
     "output_type": "stream",
     "text": [
      "[2, 5, 4, 5, 6, 2, 1, 2, 5, 2]\n",
      "The maximum value is  6\n",
      "The minimum value is  1\n"
     ]
    }
   ],
   "source": [
    "import random as rnd\n",
    "dices = [rnd.randint(1,6) for i in range(10)]\n",
    "print(dices)\n",
    "print(\"The maximum value is \", max(dices))\n",
    "print(\"The minimum value is \",min(dices))"
   ]
  },
  {
   "cell_type": "markdown",
   "metadata": {},
   "source": []
  }
 ],
 "metadata": {
  "kernelspec": {
   "display_name": "Python 3.9.13 64-bit",
   "language": "python",
   "name": "python3"
  },
  "language_info": {
   "codemirror_mode": {
    "name": "ipython",
    "version": 3
   },
   "file_extension": ".py",
   "mimetype": "text/x-python",
   "name": "python",
   "nbconvert_exporter": "python",
   "pygments_lexer": "ipython3",
   "version": "3.9.13"
  },
  "orig_nbformat": 4,
  "vscode": {
   "interpreter": {
    "hash": "aa93088360420e47a92e6fc9121e9159dbf1900a5f483a704136b076cb810347"
   }
  }
 },
 "nbformat": 4,
 "nbformat_minor": 2
}
