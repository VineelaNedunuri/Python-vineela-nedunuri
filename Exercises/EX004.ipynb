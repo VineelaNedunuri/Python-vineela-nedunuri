{
 "cells": [
  {
   "cell_type": "markdown",
   "metadata": {},
   "source": [
    "# 1aDice rolls- ascending order"
   ]
  },
  {
   "cell_type": "code",
   "execution_count": 56,
   "metadata": {},
   "outputs": [
    {
     "name": "stdout",
     "output_type": "stream",
     "text": [
      "[[6, 3, 1, 5, 3, 5, 5, 3, 1, 5]]\n",
      "The ascending oder is  [1, 1, 3, 3, 3, 5, 5, 5, 5, 6]\n"
     ]
    }
   ],
   "source": [
    "import random as rnd\n",
    "ny_dices = []\n",
    "dices = [rnd.randint(1,6) for i in range(10)]\n",
    "ny_dices.append(dices)\n",
    "print(ny_dices)\n",
    "dices.sort()\n",
    "print(\"The ascending oder is \",dices)"
   ]
  },
  {
   "cell_type": "markdown",
   "metadata": {},
   "source": [
    "# 1b Dice rolls- descending order"
   ]
  },
  {
   "cell_type": "code",
   "execution_count": 57,
   "metadata": {},
   "outputs": [
    {
     "name": "stdout",
     "output_type": "stream",
     "text": [
      "[[1, 5, 1, 6, 6, 6, 3, 1, 4, 2]]\n",
      "The descending order is  [6, 6, 6, 5, 4, 3, 2, 1, 1, 1]\n"
     ]
    }
   ],
   "source": [
    "import random as rnd\n",
    "ny_dices = []\n",
    "dices = [rnd.randint(1,6) for i in range(10)]\n",
    "ny_dices.append(dices)\n",
    "print(ny_dices)\n",
    "dices.sort(reverse=True)\n",
    "print(\"The descending order is \",dices)"
   ]
  },
  {
   "cell_type": "markdown",
   "metadata": {},
   "source": [
    "# 1c Dice rolls- maximum and minimum value in the list"
   ]
  },
  {
   "cell_type": "code",
   "execution_count": 58,
   "metadata": {},
   "outputs": [
    {
     "name": "stdout",
     "output_type": "stream",
     "text": [
      "[[3, 6, 3, 5, 5, 3, 3, 6, 4, 3]]\n",
      "The maximum value is  6\n",
      "The minimum value is  3\n"
     ]
    }
   ],
   "source": [
    "import random as rnd\n",
    "ny_dices = []\n",
    "dices = [rnd.randint(1,6) for i in range(10)]\n",
    "ny_dices.append(dices)\n",
    "print(ny_dices)\n",
    "print(\"The maximum value is \", max(dices))\n",
    "print(\"The minimum value is \",min(dices))"
   ]
  },
  {
   "cell_type": "markdown",
   "metadata": {},
   "source": [
    "# 2  Food menu "
   ]
  },
  {
   "cell_type": "code",
   "execution_count": 25,
   "metadata": {},
   "outputs": [
    {
     "name": "stdout",
     "output_type": "stream",
     "text": [
      "Food menu = ['vegetarisk lasagne', 'spaghetti', 'fisk', 'grönsakssoppa', 'pannkakor']\n",
      "weekdays = ['Må', 'Ti', 'On', 'To', 'Fr']\n",
      "bombaymenu \n",
      " Må: vegetarisk lasagne \n",
      " Ti: spaghetti \n",
      " On: fisk \n",
      " To: grönsakssoppa \n",
      " Fr: pannkakor \n",
      "\n"
     ]
    }
   ],
   "source": [
    "foodMenu = [ \"vegetarisk lasagne\", \"spaghetti\", \"fisk\", \"grönsakssoppa\", \"pannkakor\"]\n",
    "weekDays = [\"Må\", \"Ti\", \"On\", \"To\", \"Fr\"] \n",
    "print(\"Food menu =\",foodMenu)\n",
    "print(\"weekdays =\",weekDays)\n",
    "\n",
    "weekPlan = \"bombaymenu \\n\"\n",
    "for weekDays, task in zip(weekDays, foodMenu):\n",
    "    weekPlan += f\" {weekDays}: {task} \\n\"\n",
    "print(weekPlan)"
   ]
  },
  {
   "cell_type": "markdown",
   "metadata": {},
   "source": [
    "# 3a  Squares"
   ]
  },
  {
   "cell_type": "code",
   "execution_count": 6,
   "metadata": {},
   "outputs": [
    {
     "data": {
      "text/plain": [
       "[100, 81, 64, 49, 36, 25, 16, 9, 4, 1, 0, 1, 4, 9, 16, 25, 36, 49, 64, 81, 100]"
      ]
     },
     "execution_count": 6,
     "metadata": {},
     "output_type": "execute_result"
    }
   ],
   "source": [
    "#squares = [i**2 for i in range(-10,11)]\n",
    "# squares\n",
    "\n",
    "squares = []\n",
    "for i in range(-10, 11):\n",
    "    squares.append(i*i)\n",
    "squares"
   ]
  },
  {
   "cell_type": "markdown",
   "metadata": {},
   "source": [
    "# 3b  Plot this list using matplotlib"
   ]
  },
  {
   "cell_type": "code",
   "execution_count": 5,
   "metadata": {},
   "outputs": [
    {
     "data": {
      "text/plain": [
       "Text(0.5, 1.0, 'The function x2')"
      ]
     },
     "execution_count": 5,
     "metadata": {},
     "output_type": "execute_result"
    },
    {
     "data": {
      "image/png": "[encoded data removed]",
      "text/plain": [
       "<Figure size 640x480 with 1 Axes>"
      ]
     },
     "metadata": {},
     "output_type": "display_data"
    }
   ],
   "source": [
    "import matplotlib.pyplot as plt\n",
    "squares = [i**2 for i in range(-10,11)]\n",
    "\n",
    "plt.plot(squares)\n",
    "plt.xlabel(\"x\")\n",
    "plt.ylabel(\"y\")\n",
    "plt.title(\"The function x2\")\n"
   ]
  },
  {
   "cell_type": "markdown",
   "metadata": {},
   "source": [
    "# 4a  Chessboard- list comprehension"
   ]
  },
  {
   "cell_type": "code",
   "execution_count": 59,
   "metadata": {},
   "outputs": [
    {
     "data": {
      "text/plain": [
       "['A1', 'B1', 'C1', 'D1', 'E1', 'F1', 'G1', 'H1']"
      ]
     },
     "execution_count": 59,
     "metadata": {},
     "output_type": "execute_result"
    }
   ],
   "source": [
    "list = \"ABCDEFGH\"\n",
    "chessBoard= []\n",
    "for i in range(len(list)):\n",
    "    alphapets = list[i]+str(1)\n",
    "    chessBoard.append(alphapets)\n",
    "chessBoard\n"
   ]
  },
  {
   "cell_type": "markdown",
   "metadata": {},
   "source": [
    "# 4b 2D list to hold the coordinates in a chessboard."
   ]
  },
  {
   "cell_type": "code",
   "execution_count": 61,
   "metadata": {},
   "outputs": [
    {
     "data": {
      "text/plain": [
       "[['A1', 'B1', 'C1', 'D1', 'E1', 'F1', 'G1', 'H1'],\n",
       " ['A2', 'B2', 'C2', 'D2', 'E2', 'F2', 'G2', 'H2'],\n",
       " ['A3', 'B3', 'C3', 'D3', 'E3', 'F3', 'G3', 'H3'],\n",
       " ['A4', 'B4', 'C4', 'D4', 'E4', 'F4', 'G4', 'H4'],\n",
       " ['A5', 'B5', 'C5', 'D5', 'E5', 'F5', 'G5', 'H5'],\n",
       " ['A6', 'B6', 'C6', 'D6', 'E6', 'F6', 'G6', 'H6'],\n",
       " ['A7', 'B7', 'C7', 'D7', 'E7', 'F7', 'G7', 'H7'],\n",
       " ['A8', 'B8', 'C8', 'D8', 'E8', 'F8', 'G8', 'H8']]"
      ]
     },
     "execution_count": 61,
     "metadata": {},
     "output_type": "execute_result"
    }
   ],
   "source": [
    "list = \"ABCDEFGH\"\n",
    "chessBoard= []\n",
    "for x in range(1,9):\n",
    "    alphapets = [list[i]+str(x) for i in range(8)]\n",
    "    chessBoard.append(alphapets)\n",
    "chessBoard\n"
   ]
  },
  {
   "cell_type": "markdown",
   "metadata": {},
   "source": [
    "# 5a-100 dice rolls and count the number of outcome six"
   ]
  },
  {
   "cell_type": "code",
   "execution_count": 90,
   "metadata": {},
   "outputs": [
    {
     "name": "stdout",
     "output_type": "stream",
     "text": [
      "[3, 3, 5, 5, 6, 3, 6, 4, 3, 4, 6, 3, 5, 2, 4, 3, 6, 4, 5, 1, 4, 3, 6, 2, 5, 5, 2, 3, 3, 3, 6, 6, 3, 3, 3, 5, 4, 2, 1, 1, 3, 2, 5, 6, 1, 3, 1, 5, 3, 2, 2, 1, 6, 5, 6, 5, 6, 2, 2, 6, 4, 6, 1, 5, 6, 2, 3, 1, 3, 2, 4, 2, 2, 1, 4, 2, 3, 1, 2, 4, 1, 2, 5, 6, 4, 4, 6, 2, 3, 3, 3, 4, 2, 1, 4, 3, 1, 3, 4, 6]\n",
      "17\n"
     ]
    }
   ],
   "source": [
    "import random as rnd\n",
    "\n",
    "dices = [rnd.randint(1,6) for i in range(100)]\n",
    "total_count = dices.count(6)\n",
    "print(dices)\n",
    "print(total_count)\n",
    "\n",
    "\n"
   ]
  },
  {
   "cell_type": "markdown",
   "metadata": {},
   "source": [
    "# 5b -Dice rolls convergence"
   ]
  },
  {
   "cell_type": "code",
   "execution_count": 125,
   "metadata": {},
   "outputs": [
    {
     "name": "stdout",
     "output_type": "stream",
     "text": [
      "The number of outcome six   [1, 20, 179, 1684, 16662, 166060]\n",
      "The probability of outcome six  [0.1, 0.2, 0.179, 0.1684, 0.16662, 0.16606]\n"
     ]
    }
   ],
   "source": [
    "import random as rnd\n",
    "nunber_of_six = []\n",
    "probability_of_six = []\n",
    "for i in range(1,7):\n",
    "\n",
    "    dices = [rnd.randint(1,6) for i in range(10**i)]\n",
    "    total_count = dices.count(6)\n",
    "    nunber_of_six.append(total_count)\n",
    "    probability = total_count/(10**i)\n",
    "    probability_of_six.append(probability)\n",
    "print(\"The number of outcome six  \",nunber_of_six)\n",
    "print(\"The probability of outcome six \",probability_of_six)\n"
   ]
  },
  {
   "cell_type": "markdown",
   "metadata": {},
   "source": [
    "# 5c -  matplotlib to plot this list."
   ]
  },
  {
   "cell_type": "code",
   "execution_count": null,
   "metadata": {},
   "outputs": [],
   "source": [
    "import random as rnd\n",
    "import matplotlib.pyplot as plt\n",
    "\n",
    "\n",
    "probability_of_six = []\n",
    "for i in range(1,7):\n",
    "\n",
    "    dices = [rnd.randint(1,6) for i in range(10**i)]\n",
    "    total_count = dices.count(6)\n",
    "    \n",
    "    probability = total_count/(10**i)\n",
    "    probability_of_six.append(probability)\n",
    "print(probability_of_six)\n",
    "\n",
    "plt.plot(probability_six, '-*')\n",
    "plt.title(\"Probability of six for different number of rolls\")\n",
    "plt.xticks([0,1,2,3,4,5], num_rolls);\n",
    "plt.xlabel(\"Number of dice rolls\")\n",
    "plt.ylabel(\"Probability\")\n"
   ]
  }
 ],
 "metadata": {
  "kernelspec": {
   "display_name": "Python 3.9.13 ('Python-vineela-nedunuri-iPG0HSA5')",
   "language": "python",
   "name": "python3"
  },
  "language_info": {
   "codemirror_mode": {
    "name": "ipython",
    "version": 3
   },
   "file_extension": ".py",
   "mimetype": "text/x-python",
   "name": "python",
   "nbconvert_exporter": "python",
   "pygments_lexer": "ipython3",
   "version": "3.9.13"
  },
  "orig_nbformat": 4,
  "vscode": {
   "interpreter": {
    "hash": "1db1b2e8567942dee12c64de01d929677cea7f86428756000840da4d34ce3db5"
   }
  }
 },
 "nbformat": 4,
 "nbformat_minor": 2
}
