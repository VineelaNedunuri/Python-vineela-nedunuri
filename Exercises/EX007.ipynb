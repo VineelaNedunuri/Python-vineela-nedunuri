{
 "cells": [
  {
   "cell_type": "markdown",
   "metadata": {},
   "source": [
    "## error handling\n"
   ]
  },
  {
   "cell_type": "markdown",
   "metadata": {},
   "source": [
    "## 1. Find errors"
   ]
  },
  {
   "cell_type": "code",
   "execution_count": 1,
   "metadata": {},
   "outputs": [
    {
     "name": "stdout",
     "output_type": "stream",
     "text": [
      "0.7071067811865476\n"
     ]
    }
   ],
   "source": [
    "import numpy as np\n",
    "\n",
    "def distance(x,y):\n",
    "    return np.sqrt(x*x+y*y)\n",
    "\n",
    "print(distance(0.5, 0.5))"
   ]
  },
  {
   "cell_type": "markdown",
   "metadata": {},
   "source": [
    "## 2. Find errors"
   ]
  },
  {
   "cell_type": "code",
   "execution_count": 13,
   "metadata": {},
   "outputs": [
    {
     "name": "stdout",
     "output_type": "stream",
     "text": [
      "231 is not four-digit\n",
      "3124 is four-digit\n",
      "-4124 is not four-digit\n",
      "-1000 is not four-digit\n",
      "-999 is not four-digit\n",
      "1001 is four-digit\n",
      "10000 is not four-digit\n",
      "-10000 is not four-digit\n",
      "999 is not four-digit\n"
     ]
    }
   ],
   "source": [
    "def is_fourdigit(number):\n",
    "    if 1 <= number//1000 < 10:\n",
    "        return True\n",
    "    else: \n",
    "        return False\n",
    "\n",
    "# test program\n",
    "test_numbers = [231, 3124, -4124, -1000,-999, 1001, 10000, -10000, 999]\n",
    "\n",
    "for number in test_numbers:\n",
    "    if is_fourdigit(number):\n",
    "        print(f\"{number} is four-digit\")\n",
    "    else:\n",
    "        print(f\"{number} is not four-digit\")"
   ]
  },
  {
   "cell_type": "markdown",
   "metadata": {},
   "source": [
    "## 3. Tram"
   ]
  },
  {
   "cell_type": "code",
   "execution_count": 8,
   "metadata": {},
   "outputs": [
    {
     "name": "stdout",
     "output_type": "stream",
     "text": [
      "How many times do you take tram in one month? -27\n",
      "Number of times you take tram must be between 0 and 100\n",
      "How much does one ticket cost? (kr) 800\n",
      "One ticket must cost between 0 and 100 kr\n",
      "Cost with one-time tickets 875\n",
      "How much does one month card cost? (kr) 800\n",
      "It's worth to buy a monthly card\n"
     ]
    }
   ],
   "source": [
    "while True:\n",
    "    number_of_trips = int(input(\"How many times do you take tram in one month?\"))\n",
    "    one_ticket_cost = int(input(\"How much does one ticket cost? (kr)\"))\n",
    "    monthly_card_cost = int(input(\"How much does one month card cost? (kr)\"))\n",
    "\n",
    "    total_trip_cost = number_of_trips * one_ticket_cost\n",
    "\n",
    "    try:\n",
    "        if not 0 <= number_of_trips<= 100:\n",
    "            print(\"How many times do you take tram in one month?\", number_of_trips)\n",
    "            raise ValueError(f\"Number of times you take tram must be between 0 and 100\")\n",
    "        break\n",
    "    except ValueError as err: \n",
    "        print(err)\n",
    "\n",
    "    try:\n",
    "          \n",
    "        if not 0 <= one_ticket_cost<= 100:\n",
    "            print(\"How much does one ticket cost? (kr)\", one_ticket_cost)\n",
    "            raise ValueError(f\"One ticket must cost between 0 and 100 kr\")\n",
    "        break\n",
    "    \n",
    "    except ValueError as err: \n",
    "        print(err)\n",
    "    \n",
    "    \n",
    "if total_trip_cost > monthly_card_cost:\n",
    "    print(\"Cost with one-time tickets\", total_trip_cost)\n",
    "    print(\"How much does one month card cost? (kr)\", monthly_card_cost)    \n",
    "    \n",
    "    print(\"It's worth to buy a monthly card\")\n",
    "else:\n",
    "    print(\"It's better to buy one time tickets\")\n",
    "\n"
   ]
  },
  {
   "cell_type": "markdown",
   "metadata": {},
   "source": []
  }
 ],
 "metadata": {
  "kernelspec": {
   "display_name": "Python 3.9.13 ('Python-vineela-nedunuri-iPG0HSA5')",
   "language": "python",
   "name": "python3"
  },
  "language_info": {
   "codemirror_mode": {
    "name": "ipython",
    "version": 3
   },
   "file_extension": ".py",
   "mimetype": "text/x-python",
   "name": "python",
   "nbconvert_exporter": "python",
   "pygments_lexer": "ipython3",
   "version": "3.9.13"
  },
  "orig_nbformat": 4,
  "vscode": {
   "interpreter": {
    "hash": "1db1b2e8567942dee12c64de01d929677cea7f86428756000840da4d34ce3db5"
   }
  }
 },
 "nbformat": 4,
 "nbformat_minor": 2
}
