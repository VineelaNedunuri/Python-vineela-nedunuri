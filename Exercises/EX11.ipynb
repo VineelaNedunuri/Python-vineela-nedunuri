{
 "cells": [
  {
   "cell_type": "markdown",
   "metadata": {},
   "source": [
    "# 1. Unit conversion\n",
    " Create a class for converting US units to the metric system. It should have the following bound methods:\n",
    "\n",
    " - __init__ (self, value)\n",
    "\n",
    "   inch_to_cm(self)\n",
    "\n",
    "   foot_to_meters(self)\n",
    "\n",
    "    pound_to_kg(self)\n",
    "\n",
    "   __repr__(self)"
   ]
  },
  {
   "cell_type": "code",
   "execution_count": 1,
   "metadata": {},
   "outputs": [
    {
     "name": "stdout",
     "output_type": "stream",
     "text": [
      "value getter is running....\n",
      "5 inch = 12.7 cm\n",
      "5 feet = 1.525 m\n",
      "5 pound = 2.27 kg\n"
     ]
    }
   ],
   "source": [
    "class UnitsUS:\n",
    "\n",
    "    def __init__(self, value):\n",
    "        self.value = value\n",
    "\n",
    "    \n",
    "    @property\n",
    "    def value(self) -> int:\n",
    "        return self._value\n",
    "\n",
    "    \n",
    "    # setter\n",
    "    @value.setter\n",
    "    def value(self, value: int):\n",
    "        \"\"\"Setter for value with error handling\"\"\"\n",
    "        print(\"value getter is running....\")\n",
    "\n",
    "        if not isinstance(value, int):\n",
    "            raise TypeError(f\"value must be an int, not {type(value)}\")\n",
    "    \n",
    "        if not (0 <= value ):\n",
    "            raise ValueError(f\"You can only enter non- neagtive values\")\n",
    "    \n",
    "        self._value = value\n",
    "\n",
    "    def inch_to_cm(self):\n",
    "        return self._value*2.54\n",
    "\n",
    "    def foot_to_meters(self):\n",
    "        return self._value*0.305\n",
    "\n",
    "    def pound_to_kg(self):\n",
    "        return self._value*0.454\n",
    "\n",
    "    def __repr__(self):\n",
    "        return f\"Units('{self._value}')\"\n",
    "\n",
    "units = UnitsUS(5)\n",
    "\n",
    "\n",
    "print(f\"5 inch = {units.inch_to_cm()} cm\")\n",
    "print(f\"5 feet = {units.foot_to_meters()} m\")\n",
    "print(f\"5 pound = {units.pound_to_kg():.2f} kg\")"
   ]
  },
  {
   "cell_type": "markdown",
   "metadata": {},
   "source": [
    "## 2. Person (*)\n",
    "Create a class named Person, with parameterized constructor with the following parameters:\n",
    "\n",
    "name\n",
    "age\n",
    "email\n",
    "Turn name, age, email into properties with following validations in their setters:\n",
    "\n",
    "name - must be string\n",
    "age - must be number between 0 and 125\n",
    "email - must include an @ sign\n",
    "It should also have __repr__ method to represent the Person class in a neat way.\n",
    "\n",
    "Also create a method say_hello() that prints\n"
   ]
  },
  {
   "cell_type": "code",
   "execution_count": 1,
   "metadata": {},
   "outputs": [
    {
     "name": "stdout",
     "output_type": "stream",
     "text": [
      "Person(name = 'Sandhya', age='31', email='sandy@gmail.com')\n",
      " Hi, my name is 'Sandhya' , I am '31'years old, my email address is'sandy@gmail.com'   \n"
     ]
    }
   ],
   "source": [
    "\n",
    "class Person:\n",
    "    \n",
    "    def __init__(self, name: str, age: int, email:str) -> None:\n",
    "        self._name = name\n",
    "        self.age = age\n",
    "        self.email = email\n",
    "  \n",
    "\n",
    "    @property\n",
    "    def name(self) -> str: \n",
    "        \"\"\"Read-only property, we can't write to name\"\"\"\n",
    "        return self._name\n",
    "\n",
    "    @property\n",
    "    def age(self) -> int:\n",
    "        print(\"age getter is running .....\")\n",
    "        return self._age\n",
    "\n",
    "    @property\n",
    "    def email(self) -> str: \n",
    "        return self.email\n",
    "\n",
    "\n",
    "# setter\n",
    "    @name.setter\n",
    "    def name(self, value:str):\n",
    "        \"\"\"Setter for name with error handling\"\"\"\n",
    "\n",
    "        #print(\"name setter is running\")\n",
    "        if not isinstance(value, str):\n",
    "            raise TypeError(f\"name must be an str, not {type(value)}\")\n",
    "\n",
    "        self._name = value   \n",
    "        \n",
    "\n",
    "    @age.setter\n",
    "    def age(self, value: int):\n",
    "        \"\"\"Setter for age with error handling\"\"\"\n",
    "\n",
    "        #print(\"age setter is running\")\n",
    "        if value < 0:\n",
    "            raise ValueError(f\"You can only enter non- neagtive values\")\n",
    "\n",
    "        # validation code\n",
    "        if not isinstance(value, int):\n",
    "            raise TypeError(f\"Age must be an int, not {type(value)}\")\n",
    "        \n",
    "        if not (0 <= value <= 125):\n",
    "            raise ValueError(\"Age must be between 0 and 125\")\n",
    "        \n",
    "        self._age = value\n",
    "\n",
    "    \n",
    "    @email.setter\n",
    "    def email(self, value: str):\n",
    "        \"\"\"Setter for Email with error handling\"\"\"\n",
    "\n",
    "        #print(\"Email setter is running\")\n",
    "\n",
    "        if not isinstance(value, str):\n",
    "            raise TypeError(f\"email must be an str, not {type(value)}\")\n",
    "        \n",
    "        if not \"@\" in value:\n",
    "            raise ValueError(\"email must be with symbol - @\")\n",
    "        self._email = value\n",
    "        \n",
    "    def __repr__(self):\n",
    "        return f\"Person(name = '{self._name}', age='{self._age}', email='{self._email}')\"\n",
    "\n",
    "    def say_hello(self):\n",
    "        return f\"Hi, my name is '{self._name}' , I am '{self._age}'years old, my email address is'{self._email}'  \"\n",
    "\n",
    "        \n",
    "\n",
    "person = Person(\"Sandhya\", 31, \"sandy@gmail.com\")\n",
    "print(person)\n",
    "print(f\" {person.say_hello()} \")\n",
    "\n",
    "    \n"
   ]
  },
  {
   "cell_type": "code",
   "execution_count": null,
   "metadata": {},
   "outputs": [],
   "source": []
  }
 ],
 "metadata": {
  "kernelspec": {
   "display_name": "Python 3.9.13 ('Python-vineela-nedunuri-iPG0HSA5')",
   "language": "python",
   "name": "python3"
  },
  "language_info": {
   "codemirror_mode": {
    "name": "ipython",
    "version": 3
   },
   "file_extension": ".py",
   "mimetype": "text/x-python",
   "name": "python",
   "nbconvert_exporter": "python",
   "pygments_lexer": "ipython3",
   "version": "3.9.13"
  },
  "orig_nbformat": 4,
  "vscode": {
   "interpreter": {
    "hash": "1db1b2e8567942dee12c64de01d929677cea7f86428756000840da4d34ce3db5"
   }
  }
 },
 "nbformat": 4,
 "nbformat_minor": 2
}
