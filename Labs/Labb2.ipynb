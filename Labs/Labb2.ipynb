{
 "cells": [
  {
   "cell_type": "markdown",
   "metadata": {},
   "source": [
    "## Uppgifter\n"
   ]
  },
  {
   "cell_type": "code",
   "execution_count": 120,
   "metadata": {},
   "outputs": [
    {
     "ename": "TypeError",
     "evalue": "int() argument must be a string, a bytes-like object or a number, not 'list'",
     "output_type": "error",
     "traceback": [
      "\u001b[1;31m---------------------------------------------------------------------------\u001b[0m",
      "\u001b[1;31mTypeError\u001b[0m                                 Traceback (most recent call last)",
      "Cell \u001b[1;32mIn [120], line 12\u001b[0m\n\u001b[0;32m     10\u001b[0m data_points \u001b[38;5;241m=\u001b[39m [lines\u001b[38;5;241m.\u001b[39mreplace(\u001b[38;5;124m'\u001b[39m\u001b[38;5;124m,\u001b[39m\u001b[38;5;124m'\u001b[39m, \u001b[38;5;124m'\u001b[39m\u001b[38;5;124m'\u001b[39m)\u001b[38;5;241m.\u001b[39msplit() \u001b[38;5;28;01mfor\u001b[39;00m lines \u001b[38;5;129;01min\u001b[39;00m lines]\n\u001b[0;32m     11\u001b[0m \u001b[38;5;66;03m#print(data_points)\u001b[39;00m\n\u001b[1;32m---> 12\u001b[0m plt\u001b[38;5;241m.\u001b[39mscatter(data_points[\u001b[38;5;241m0\u001b[39m], data_points[\u001b[38;5;241m1\u001b[39m], c \u001b[38;5;241m=\u001b[39m \u001b[38;5;28;43mint\u001b[39;49m\u001b[43m(\u001b[49m\u001b[43mdata_points\u001b[49m\u001b[43m[\u001b[49m\u001b[38;5;241;43m2\u001b[39;49m\u001b[43m]\u001b[49m\u001b[43m)\u001b[49m)\n\u001b[0;32m     13\u001b[0m \u001b[38;5;28mlen\u001b[39m(data_points)\n",
      "\u001b[1;31mTypeError\u001b[0m: int() argument must be a string, a bytes-like object or a number, not 'list'"
     ]
    }
   ],
   "source": [
    "import matplotlib.pyplot as plt\n",
    "\n",
    "path = \"../Data/datapoints.txt\"\n",
    "with open(path, \"r\") as f_read:\n",
    "\n",
    "    lines = f_read.readlines()\n",
    "\n",
    "    lines = lines[1::] # removes first line\n",
    "    #print(lines)\n",
    "    data_points = [lines.replace(',', '').split() for lines in lines]\n",
    "    #print(data_points)\n",
    "    \n",
    "\n",
    "\n",
    "\n",
    "\n",
    "\n",
    "    \n",
    "\n",
    "\n",
    "    #pichu = [data_list[0][0] if int(data_list[-1]) == 0]\n",
    "    #print(pichu)\n",
    "    \n",
    "\n",
    "    \n",
    "        \n",
    "    \n",
    "\n",
    "        \n",
    "    \n"
   ]
  },
  {
   "cell_type": "code",
   "execution_count": 113,
   "metadata": {},
   "outputs": [],
   "source": [
    "pichu_width = []\n",
    "for line in data_points:\n",
    "    if line[-1] == 0:\n",
    "        x = line[0::150]\n",
    "        pichu_width.append(x) \n",
    "        print(pichu_width)\n",
    "        \n",
    "\n",
    "\n"
   ]
  }
 ],
 "metadata": {
  "kernelspec": {
   "display_name": "Python 3.9.13 ('Python-vineela-nedunuri-iPG0HSA5')",
   "language": "python",
   "name": "python3"
  },
  "language_info": {
   "codemirror_mode": {
    "name": "ipython",
    "version": 3
   },
   "file_extension": ".py",
   "mimetype": "text/x-python",
   "name": "python",
   "nbconvert_exporter": "python",
   "pygments_lexer": "ipython3",
   "version": "3.9.13"
  },
  "orig_nbformat": 4,
  "vscode": {
   "interpreter": {
    "hash": "1db1b2e8567942dee12c64de01d929677cea7f86428756000840da4d34ce3db5"
   }
  }
 },
 "nbformat": 4,
 "nbformat_minor": 2
}
