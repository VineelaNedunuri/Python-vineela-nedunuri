{
 "cells": [
  {
   "cell_type": "code",
   "execution_count": 6,
   "metadata": {},
   "outputs": [
    {
     "ename": "TypeError",
     "evalue": "__init__() missing 2 required positional arguments: 'circumference' and 'radius'",
     "output_type": "error",
     "traceback": [
      "\u001b[1;31m---------------------------------------------------------------------------\u001b[0m",
      "\u001b[1;31mTypeError\u001b[0m                                 Traceback (most recent call last)",
      "Cell \u001b[1;32mIn [6], line 78\u001b[0m\n\u001b[0;32m     75\u001b[0m         \u001b[38;5;28;01mreturn\u001b[39;00m \u001b[38;5;241m2\u001b[39m\u001b[38;5;241m*\u001b[39m math\u001b[38;5;241m.\u001b[39mpi \u001b[38;5;241m*\u001b[39m\u001b[38;5;28mself\u001b[39m\u001b[38;5;241m.\u001b[39mradius\n\u001b[0;32m     77\u001b[0m \u001b[38;5;66;03m#rectangle1 = Rectangle(6, 4)\u001b[39;00m\n\u001b[1;32m---> 78\u001b[0m circle1 \u001b[38;5;241m=\u001b[39m \u001b[43mCircle\u001b[49m\u001b[43m(\u001b[49m\u001b[38;5;241;43m4\u001b[39;49m\u001b[43m)\u001b[49m\n\u001b[0;32m     79\u001b[0m \u001b[38;5;28mprint\u001b[39m(circle1\u001b[38;5;241m.\u001b[39marea)\n\u001b[0;32m     80\u001b[0m \u001b[38;5;28mprint\u001b[39m(circle1\u001b[38;5;241m.\u001b[39mcircumference)\n",
      "\u001b[1;31mTypeError\u001b[0m: __init__() missing 2 required positional arguments: 'circumference' and 'radius'"
     ]
    }
   ],
   "source": [
    "import math\n",
    "\n",
    "class Geometry: # parent class\n",
    "    def __init__(self, area, circumference) -> None:\n",
    "        self.area = area\n",
    "        self.circumference = circumference\n",
    "\n",
    "    # property for area\n",
    "    @property       \n",
    "    def area(self) -> float: \n",
    "        \"\"\"To calculate the area of Circle and Rectangle \"\"\"\n",
    "        return self.area \n",
    "    \n",
    "    @area.setter\n",
    "    def area(self, value):\n",
    "        \"\"\"Setter for area with error handling\"\"\"    \n",
    "\n",
    "    # validation code\n",
    "        if not isinstance(value, (float,int)):\n",
    "            raise TypeError(f\"Area must be an int or float, not {type(value)}\")\n",
    "    \n",
    "        if not  value == 0:\n",
    "           raise ValueError(\"Area must be value but not zero\")\n",
    "    \n",
    "        self._area = value\n",
    "\n",
    "    # property for circumference\n",
    "    @property\n",
    "    def circumference(self) -> float: \n",
    "        \"\"\"To calculate the circumference of Circle \"\"\"\n",
    "        return self.circumf \n",
    "    \n",
    "    \n",
    "\n",
    "class Rectangle(Geometry):\n",
    "    \"\"\"A Rectangle has length and width with four sides\"\"\"\n",
    "    # override _init__()\n",
    "    def __init__(self, area, length, width) -> None:\n",
    "        # with super() we look at the parent class and uses their __init__(area)\n",
    "        # delegating to parent\n",
    "        super().__init__(area)\n",
    "        self.length = length\n",
    "        self.width = width\n",
    "    \n",
    "    def area(self): # to find area of rectangle : l*b\n",
    "        return self.length* self.width\n",
    "\n",
    "    def perimeter(self): # To find perimeter of rectangle : 2l+2b\n",
    "        return (2* self.length +2* self.width)\n",
    "\n",
    "\n",
    "class Circle(Geometry):\n",
    "    \"\"\"A Circle has radius\"\"\"\n",
    "\n",
    "    def __init__(self, area, circumference, radius) -> None:\n",
    "        super.__init__(area, circumference)\n",
    "        self.radius = radius\n",
    "        \n",
    "    def area(self): # to find out area of cicle: pi*r**2\n",
    "        return math.pi*(self.radius **2)\n",
    "\n",
    "    def circumference(self): # to find out circumference of circle: 2*pi*r\n",
    "        return 2* math.pi *self.radius\n",
    "\n",
    "#rectangle1 = Rectangle(6, 4)\n",
    "circle1 = Circle(4)\n",
    "print(circle1.area)\n",
    "print(circle1.circumference)\n",
    "\n",
    "\n"
   ]
  }
 ],
 "metadata": {
  "kernelspec": {
   "display_name": "Python 3.9.13 ('Python-vineela-nedunuri-iPG0HSA5')",
   "language": "python",
   "name": "python3"
  },
  "language_info": {
   "codemirror_mode": {
    "name": "ipython",
    "version": 3
   },
   "file_extension": ".py",
   "mimetype": "text/x-python",
   "name": "python",
   "nbconvert_exporter": "python",
   "pygments_lexer": "ipython3",
   "version": "3.9.13"
  },
  "orig_nbformat": 4,
  "vscode": {
   "interpreter": {
    "hash": "1db1b2e8567942dee12c64de01d929677cea7f86428756000840da4d34ce3db5"
   }
  }
 },
 "nbformat": 4,
 "nbformat_minor": 2
}
