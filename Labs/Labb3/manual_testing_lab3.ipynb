{
 "cells": [
  {
   "cell_type": "markdown",
   "metadata": {},
   "source": [
    "##  manual testing for labb3"
   ]
  },
  {
   "cell_type": "code",
   "execution_count": 1,
   "metadata": {},
   "outputs": [
    {
     "name": "stdout",
     "output_type": "stream",
     "text": [
      "Geomerty with co-ordinates  x and y are 1, 2\n",
      "Geomerty with co-ordinates  x and y are 5, 4\n"
     ]
    }
   ],
   "source": [
    "from geometry_shapes import Geometry\n",
    "\n",
    "g1 = Geometry(1,2)\n",
    "print(g1)\n",
    "\n",
    "g1.translate(4,2)\n",
    "print(g1)\n",
    "\n"
   ]
  },
  {
   "cell_type": "code",
   "execution_count": 2,
   "metadata": {},
   "outputs": [
    {
     "data": {
      "text/plain": [
       "Rectangle(x = 3, y = 4 , length=4, width=5)"
      ]
     },
     "execution_count": 2,
     "metadata": {},
     "output_type": "execute_result"
    }
   ],
   "source": [
    "from rectangle import Rectangle\n",
    "rectangle1 = Rectangle(3,4,4,5)\n",
    "rectangle1\n",
    "#print(rectangle1.area)\n",
    "#print(rectangle1.perimeter)"
   ]
  },
  {
   "cell_type": "code",
   "execution_count": 3,
   "metadata": {},
   "outputs": [
    {
     "data": {
      "text/plain": [
       "Rectangle(x = 13, y = 14 , length=4, width=5)"
      ]
     },
     "execution_count": 3,
     "metadata": {},
     "output_type": "execute_result"
    }
   ],
   "source": [
    "rectangle1.translate(10,10)\n",
    "rectangle1"
   ]
  },
  {
   "cell_type": "code",
   "execution_count": 4,
   "metadata": {},
   "outputs": [
    {
     "data": {
      "text/plain": [
       "Rectangle(x = 0, y = 0 , length=3, width=2)"
      ]
     },
     "execution_count": 4,
     "metadata": {},
     "output_type": "execute_result"
    }
   ],
   "source": [
    "rectangle1.x=0\n",
    "rectangle1.y = 0\n",
    "rectangle1.length=3\n",
    "rectangle1.width=2\n",
    "rectangle1"
   ]
  },
  {
   "cell_type": "code",
   "execution_count": 5,
   "metadata": {},
   "outputs": [
    {
     "data": {
      "text/plain": [
       "(False, True, True)"
      ]
     },
     "execution_count": 5,
     "metadata": {},
     "output_type": "execute_result"
    }
   ],
   "source": [
    "rectangle1.is_inside_rec(4,1), rectangle1.is_inside_rec(.5,.5), rectangle1.is_inside_rec(1,1)"
   ]
  },
  {
   "cell_type": "code",
   "execution_count": 6,
   "metadata": {},
   "outputs": [
    {
     "name": "stdout",
     "output_type": "stream",
     "text": [
      "False\n"
     ]
    }
   ],
   "source": [
    "rectangle2 = Rectangle(4,5,3,4)\n",
    "print(rectangle1 == rectangle2)"
   ]
  },
  {
   "cell_type": "code",
   "execution_count": 7,
   "metadata": {},
   "outputs": [
    {
     "name": "stdout",
     "output_type": "stream",
     "text": [
      "False\n",
      "True\n"
     ]
    }
   ],
   "source": [
    "print(rectangle1 >= rectangle2)\n",
    "print(rectangle1 < rectangle2)"
   ]
  },
  {
   "cell_type": "code",
   "execution_count": 8,
   "metadata": {},
   "outputs": [
    {
     "data": {
      "text/plain": [
       "False"
      ]
     },
     "execution_count": 8,
     "metadata": {},
     "output_type": "execute_result"
    }
   ],
   "source": [
    "rectangle1.is_inside_rec(2,3)"
   ]
  },
  {
   "cell_type": "code",
   "execution_count": 9,
   "metadata": {},
   "outputs": [
    {
     "name": "stdout",
     "output_type": "stream",
     "text": [
      "Rectangle is not a Square\n"
     ]
    }
   ],
   "source": [
    "rectangle1.square()"
   ]
  },
  {
   "cell_type": "code",
   "execution_count": 10,
   "metadata": {},
   "outputs": [
    {
     "name": "stdout",
     "output_type": "stream",
     "text": [
      "Rectangle  with co-ordinates  x and y are 5, 6 and length is 3 ,width is 2\n"
     ]
    }
   ],
   "source": [
    "rectangle1.translate(5,6)\n",
    "print(rectangle1)\n"
   ]
  },
  {
   "cell_type": "code",
   "execution_count": 11,
   "metadata": {},
   "outputs": [
    {
     "data": {
      "image/png": "[encoded data removed]",
      "text/plain": [
       "<Figure size 640x480 with 1 Axes>"
      ]
     },
     "metadata": {},
     "output_type": "display_data"
    }
   ],
   "source": [
    "rectangle1.plot_rectangle()"
   ]
  },
  {
   "cell_type": "code",
   "execution_count": 12,
   "metadata": {},
   "outputs": [
    {
     "name": "stdout",
     "output_type": "stream",
     "text": [
      "circle with co-ordinates  x and y are 0, 0 and the radius is 1\n",
      "3.141592653589793\n",
      "6.283185307179586\n"
     ]
    }
   ],
   "source": [
    "from circle import Circle\n",
    "circle1 = Circle(0,0,1)\n",
    "print(circle1)\n",
    "print(circle1.area)\n",
    "print(circle1.circumference)\n"
   ]
  },
  {
   "cell_type": "code",
   "execution_count": 13,
   "metadata": {},
   "outputs": [
    {
     "name": "stdout",
     "output_type": "stream",
     "text": [
      "It is a Unit Circle\n"
     ]
    }
   ],
   "source": [
    "circle1.unit_circle()"
   ]
  },
  {
   "cell_type": "code",
   "execution_count": 14,
   "metadata": {},
   "outputs": [
    {
     "name": "stdout",
     "output_type": "stream",
     "text": [
      "True\n",
      "False\n"
     ]
    }
   ],
   "source": [
    "circle1 = Circle(0,0,1)\n",
    "circle2 = Circle(1,1,1)\n",
    "circle3 = Circle(4,4,5)\n",
    " # check equality\n",
    "print(circle1 == circle2)\n",
    "print(circle1 == circle3)\n",
    "\n"
   ]
  },
  {
   "cell_type": "code",
   "execution_count": 15,
   "metadata": {},
   "outputs": [
    {
     "name": "stdout",
     "output_type": "stream",
     "text": [
      "3.141592653589793\n",
      "False\n",
      "True\n"
     ]
    }
   ],
   "source": [
    "print(circle2.area)\n",
    "print(circle1 > circle2)\n",
    "print(circle1 <= circle2)\n",
    "\n"
   ]
  },
  {
   "cell_type": "code",
   "execution_count": 16,
   "metadata": {},
   "outputs": [
    {
     "name": "stdout",
     "output_type": "stream",
     "text": [
      "True\n"
     ]
    }
   ],
   "source": [
    "circle1 = Circle(0,0,1)\n",
    "print(circle1.is_inside(0.5, 0.5))"
   ]
  },
  {
   "cell_type": "code",
   "execution_count": 17,
   "metadata": {},
   "outputs": [
    {
     "name": "stdout",
     "output_type": "stream",
     "text": [
      "circle with co-ordinates  x and y are 5, 5 and the radius is 1\n"
     ]
    }
   ],
   "source": [
    "circle1.translate(5,5)\n",
    "print(circle1)"
   ]
  },
  {
   "cell_type": "code",
   "execution_count": 18,
   "metadata": {},
   "outputs": [
    {
     "name": "stdout",
     "output_type": "stream",
     "text": [
      "False\n"
     ]
    }
   ],
   "source": [
    "print(circle1.is_inside(0.5, 0.5))"
   ]
  },
  {
   "cell_type": "code",
   "execution_count": 19,
   "metadata": {},
   "outputs": [
    {
     "name": "stdout",
     "output_type": "stream",
     "text": [
      "False\n",
      "False\n"
     ]
    }
   ],
   "source": [
    "print(isinstance(rectangle1, Circle))\n",
    "print(isinstance(circle1, Rectangle))"
   ]
  },
  {
   "cell_type": "code",
   "execution_count": 20,
   "metadata": {},
   "outputs": [
    {
     "ename": "TypeError",
     "evalue": "value must be an int or float",
     "output_type": "error",
     "traceback": [
      "\u001b[1;31m---------------------------------------------------------------------------\u001b[0m",
      "\u001b[1;31mTypeError\u001b[0m                                 Traceback (most recent call last)",
      "Cell \u001b[1;32mIn [20], line 1\u001b[0m\n\u001b[1;32m----> 1\u001b[0m circle1\u001b[39m.\u001b[39;49mtranslate(\u001b[39m\"\u001b[39;49m\u001b[39mTRE\u001b[39;49m\u001b[39m\"\u001b[39;49m,\u001b[39m5\u001b[39;49m)\n\u001b[0;32m      2\u001b[0m \u001b[39mprint\u001b[39m(circle1)\n",
      "File \u001b[1;32mc:\\Users\\vinee\\Documents\\Github\\Python-vineela-nedunuri\\Labs\\Labb3\\geometry_shapes.py:77\u001b[0m, in \u001b[0;36mGeometry.translate\u001b[1;34m(self, new_x, new_y)\u001b[0m\n\u001b[0;32m     74\u001b[0m \u001b[39m\"\"\" Translate is to move the position of geometry shape\"\"\"\u001b[39;00m\n\u001b[0;32m     76\u001b[0m \u001b[39mif\u001b[39;00m \u001b[39mnot\u001b[39;00m \u001b[39misinstance\u001b[39m(new_x, (\u001b[39mfloat\u001b[39m, \u001b[39mint\u001b[39m)) \u001b[39mor\u001b[39;00m \u001b[39mnot\u001b[39;00m \u001b[39misinstance\u001b[39m(new_y, (\u001b[39mfloat\u001b[39m, \u001b[39mint\u001b[39m)):\n\u001b[1;32m---> 77\u001b[0m     \u001b[39mraise\u001b[39;00m \u001b[39mTypeError\u001b[39;00m(\u001b[39mf\u001b[39m\u001b[39m\"\u001b[39m\u001b[39mvalue must be an int or float\u001b[39m\u001b[39m\"\u001b[39m)\n\u001b[0;32m     79\u001b[0m \u001b[39mself\u001b[39m\u001b[39m.\u001b[39m_x \u001b[39m+\u001b[39m\u001b[39m=\u001b[39m new_x\n\u001b[0;32m     80\u001b[0m \u001b[39mself\u001b[39m\u001b[39m.\u001b[39m_y \u001b[39m+\u001b[39m\u001b[39m=\u001b[39m new_y\n",
      "\u001b[1;31mTypeError\u001b[0m: value must be an int or float"
     ]
    }
   ],
   "source": [
    "circle1.translate(\"TRE\",5)\n",
    "print(circle1)"
   ]
  },
  {
   "cell_type": "code",
   "execution_count": null,
   "metadata": {},
   "outputs": [
    {
     "data": {
      "image/png": "[encoded data removed]",
      "text/plain": [
       "<Figure size 640x480 with 1 Axes>"
      ]
     },
     "metadata": {},
     "output_type": "display_data"
    }
   ],
   "source": [
    "circle1.plot_circle()"
   ]
  }
 ],
 "metadata": {
  "kernelspec": {
   "display_name": "Python 3.9.13 ('Python-vineela-nedunuri-iPG0HSA5')",
   "language": "python",
   "name": "python3"
  },
  "language_info": {
   "codemirror_mode": {
    "name": "ipython",
    "version": 3
   },
   "file_extension": ".py",
   "mimetype": "text/x-python",
   "name": "python",
   "nbconvert_exporter": "python",
   "pygments_lexer": "ipython3",
   "version": "3.9.13"
  },
  "orig_nbformat": 4,
  "vscode": {
   "interpreter": {
    "hash": "1db1b2e8567942dee12c64de01d929677cea7f86428756000840da4d34ce3db5"
   }
  }
 },
 "nbformat": 4,
 "nbformat_minor": 2
}
