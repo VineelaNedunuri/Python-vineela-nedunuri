{
 "cells": [
  {
   "cell_type": "markdown",
   "metadata": {},
   "source": [
    "##  manual testing for labb3"
   ]
  },
  {
   "cell_type": "code",
   "execution_count": 67,
   "metadata": {},
   "outputs": [
    {
     "name": "stdout",
     "output_type": "stream",
     "text": [
      "Geomerty with co-ordinates  x and y are 1, 2\n",
      "Geomerty with co-ordinates  x and y are 5, 4\n"
     ]
    }
   ],
   "source": [
    "from geometry_shapes import Geometry\n",
    "\n",
    "g1 = Geometry(1,2)\n",
    "print(g1)\n",
    "\n",
    "g1.translate(4,2)\n",
    "print(g1)\n",
    "\n"
   ]
  },
  {
   "cell_type": "code",
   "execution_count": 68,
   "metadata": {},
   "outputs": [
    {
     "name": "stdout",
     "output_type": "stream",
     "text": [
      "Rectangle  with co-ordinates  x and y are 0, 0 and length is 4 ,width is 5\n",
      "20\n",
      "18\n"
     ]
    }
   ],
   "source": [
    "from rectangle import Rectangle\n",
    "rectangle1 = Rectangle(0,0,4,5)\n",
    "print(rectangle1)\n",
    "print(rectangle1.area)\n",
    "print(rectangle1.perimeter)"
   ]
  },
  {
   "cell_type": "code",
   "execution_count": 69,
   "metadata": {},
   "outputs": [
    {
     "name": "stdout",
     "output_type": "stream",
     "text": [
      "False\n"
     ]
    }
   ],
   "source": [
    "rectangle2 = Rectangle(4,5,3,4)\n",
    "print(rectangle1 == rectangle2)"
   ]
  },
  {
   "cell_type": "code",
   "execution_count": 70,
   "metadata": {},
   "outputs": [
    {
     "name": "stdout",
     "output_type": "stream",
     "text": [
      "True\n",
      "False\n"
     ]
    }
   ],
   "source": [
    "print(rectangle1 >= rectangle2)\n",
    "print(rectangle1 < rectangle2)"
   ]
  },
  {
   "cell_type": "code",
   "execution_count": 71,
   "metadata": {},
   "outputs": [
    {
     "name": "stdout",
     "output_type": "stream",
     "text": [
      "Rectangle  with co-ordinates  x and y are 9, 10 and length is 3 ,width is 4\n"
     ]
    }
   ],
   "source": [
    "rectangle2 = Rectangle(4,5,3,4)\n",
    "rectangle2.translate(5,5)\n",
    "print(rectangle2)"
   ]
  },
  {
   "cell_type": "code",
   "execution_count": 72,
   "metadata": {},
   "outputs": [
    {
     "name": "stdout",
     "output_type": "stream",
     "text": [
      "Rectangle is not a Square\n"
     ]
    }
   ],
   "source": [
    "rectangle1.square()"
   ]
  },
  {
   "cell_type": "code",
   "execution_count": 73,
   "metadata": {},
   "outputs": [
    {
     "ename": "AttributeError",
     "evalue": "'Rectangle' object has no attribute 'plot_rectangle'",
     "output_type": "error",
     "traceback": [
      "\u001b[1;31m---------------------------------------------------------------------------\u001b[0m",
      "\u001b[1;31mAttributeError\u001b[0m                            Traceback (most recent call last)",
      "Cell \u001b[1;32mIn [73], line 1\u001b[0m\n\u001b[1;32m----> 1\u001b[0m rectangle1\u001b[39m.\u001b[39;49mplot_rectangle()\n",
      "\u001b[1;31mAttributeError\u001b[0m: 'Rectangle' object has no attribute 'plot_rectangle'"
     ]
    }
   ],
   "source": [
    "rectangle1.plot_rectangle()"
   ]
  },
  {
   "cell_type": "code",
   "execution_count": null,
   "metadata": {},
   "outputs": [
    {
     "name": "stdout",
     "output_type": "stream",
     "text": [
      "circle with co-ordinates  x and y are 0, 0 and the radius is 1\n",
      "3.141592653589793\n",
      "6.283185307179586\n"
     ]
    }
   ],
   "source": [
    "from circle import Circle\n",
    "circle1 = Circle(0,0,1)\n",
    "print(circle1)\n",
    "print(circle1.area)\n",
    "print(circle1.circumference)\n"
   ]
  },
  {
   "cell_type": "code",
   "execution_count": null,
   "metadata": {},
   "outputs": [
    {
     "name": "stdout",
     "output_type": "stream",
     "text": [
      "It is a Unit Circle\n"
     ]
    }
   ],
   "source": [
    "circle1.unit_circle()"
   ]
  },
  {
   "cell_type": "code",
   "execution_count": null,
   "metadata": {},
   "outputs": [
    {
     "name": "stdout",
     "output_type": "stream",
     "text": [
      "True\n",
      "False\n"
     ]
    }
   ],
   "source": [
    "circle1 = Circle(0,0,1)\n",
    "circle2 = Circle(1,1,1)\n",
    "circle3 = Circle(4,4,5)\n",
    " # check equality\n",
    "print(circle1 == circle2)\n",
    "print(circle1 == circle3)\n",
    "\n"
   ]
  },
  {
   "cell_type": "code",
   "execution_count": null,
   "metadata": {},
   "outputs": [
    {
     "name": "stdout",
     "output_type": "stream",
     "text": [
      "3.141592653589793\n",
      "False\n",
      "True\n"
     ]
    }
   ],
   "source": [
    "print(circle2.area)\n",
    "print(circle1 > circle2)\n",
    "print(circle1 <= circle2)\n",
    "\n"
   ]
  },
  {
   "cell_type": "code",
   "execution_count": null,
   "metadata": {},
   "outputs": [
    {
     "name": "stdout",
     "output_type": "stream",
     "text": [
      "True\n"
     ]
    }
   ],
   "source": [
    "circle1 = Circle(0,0,1)\n",
    "print(circle1.is_inside(0.5, 0.5))"
   ]
  },
  {
   "cell_type": "code",
   "execution_count": null,
   "metadata": {},
   "outputs": [
    {
     "name": "stdout",
     "output_type": "stream",
     "text": [
      "circle with co-ordinates  x and y are 5, 5 and the radius is 1\n"
     ]
    }
   ],
   "source": [
    "circle1.translate(5,5)\n",
    "print(circle1)"
   ]
  },
  {
   "cell_type": "code",
   "execution_count": null,
   "metadata": {},
   "outputs": [
    {
     "name": "stdout",
     "output_type": "stream",
     "text": [
      "False\n"
     ]
    }
   ],
   "source": [
    "print(circle1.is_inside(0.5, 0.5))"
   ]
  },
  {
   "cell_type": "code",
   "execution_count": null,
   "metadata": {},
   "outputs": [
    {
     "ename": "TypeError",
     "evalue": "value must be an int or float",
     "output_type": "error",
     "traceback": [
      "\u001b[1;31m---------------------------------------------------------------------------\u001b[0m",
      "\u001b[1;31mTypeError\u001b[0m                                 Traceback (most recent call last)",
      "Cell \u001b[1;32mIn [56], line 1\u001b[0m\n\u001b[1;32m----> 1\u001b[0m circle1\u001b[39m.\u001b[39;49mtranslate(\u001b[39m\"\u001b[39;49m\u001b[39mTRE\u001b[39;49m\u001b[39m\"\u001b[39;49m,\u001b[39m5\u001b[39;49m)\n\u001b[0;32m      2\u001b[0m \u001b[39mprint\u001b[39m(circle1)\n",
      "File \u001b[1;32mc:\\Users\\vinee\\Documents\\Github\\Python-vineela-nedunuri\\Labs\\Labb3\\geometry_shapes.py:55\u001b[0m, in \u001b[0;36mGeometry.translate\u001b[1;34m(self, new_x, new_y)\u001b[0m\n\u001b[0;32m     52\u001b[0m \u001b[39mdef\u001b[39;00m \u001b[39mtranslate\u001b[39m(\u001b[39mself\u001b[39m, new_x, new_y):\n\u001b[0;32m     54\u001b[0m     \u001b[39mif\u001b[39;00m \u001b[39mnot\u001b[39;00m \u001b[39misinstance\u001b[39m(new_x, (\u001b[39mfloat\u001b[39m,\u001b[39mint\u001b[39m)) \u001b[39mor\u001b[39;00m \u001b[39mnot\u001b[39;00m \u001b[39misinstance\u001b[39m(new_y, (\u001b[39mfloat\u001b[39m, \u001b[39mint\u001b[39m)):\n\u001b[1;32m---> 55\u001b[0m         \u001b[39mraise\u001b[39;00m \u001b[39mTypeError\u001b[39;00m(\u001b[39mf\u001b[39m\u001b[39m\"\u001b[39m\u001b[39mvalue must be an int or float\u001b[39m\u001b[39m\"\u001b[39m)\n\u001b[0;32m     58\u001b[0m     \u001b[39mself\u001b[39m\u001b[39m.\u001b[39m_x \u001b[39m+\u001b[39m\u001b[39m=\u001b[39m  new_x\n\u001b[0;32m     59\u001b[0m     \u001b[39mself\u001b[39m\u001b[39m.\u001b[39m_y \u001b[39m+\u001b[39m\u001b[39m=\u001b[39m  new_y\n",
      "\u001b[1;31mTypeError\u001b[0m: value must be an int or float"
     ]
    }
   ],
   "source": [
    "circle1.translate(\"TRE\",5)\n",
    "print(circle1)"
   ]
  },
  {
   "cell_type": "code",
   "execution_count": null,
   "metadata": {},
   "outputs": [
    {
     "data": {
      "image/png": "[encoded data removed]",
      "text/plain": [
       "<Figure size 640x480 with 1 Axes>"
      ]
     },
     "metadata": {},
     "output_type": "display_data"
    }
   ],
   "source": [
    "circle1.plot_circle()"
   ]
  }
 ],
 "metadata": {
  "kernelspec": {
   "display_name": "Python 3.9.13 ('Python-vineela-nedunuri-iPG0HSA5')",
   "language": "python",
   "name": "python3"
  },
  "language_info": {
   "codemirror_mode": {
    "name": "ipython",
    "version": 3
   },
   "file_extension": ".py",
   "mimetype": "text/x-python",
   "name": "python",
   "nbconvert_exporter": "python",
   "pygments_lexer": "ipython3",
   "version": "3.9.13"
  },
  "orig_nbformat": 4,
  "vscode": {
   "interpreter": {
    "hash": "1db1b2e8567942dee12c64de01d929677cea7f86428756000840da4d34ce3db5"
   }
  }
 },
 "nbformat": 4,
 "nbformat_minor": 2
}
