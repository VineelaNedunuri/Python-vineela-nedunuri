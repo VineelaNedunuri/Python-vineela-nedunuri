{
 "cells": [
  {
   "cell_type": "code",
   "execution_count": 4,
   "metadata": {},
   "outputs": [
    {
     "name": "stdout",
     "output_type": "stream",
     "text": [
      "Sample with (width, height): (24.0, 34.0) classified as Pikachu\n",
      "[[0.6452620179786795, 1.0], [0.7033588337994686, 1.0], [0.7932264995575621, 1.0], [0.8152987576366855, 1.0], [0.8240670030040834, 1.0], [0.9644646313264645, 1.0], [0.9971681201596834, 1.0], [1.0333628342197547, 1.0], [1.0619347628472116, 1.0], [1.0641539740262547, 1.0], [1.126983643436127, 1.0], [1.1282272730843375, 1.0], [1.1556245114192825, 1.0], [1.1834027170241774, 1.0], [1.2081614325297538, 1.0], [1.2408421237642884, 1.0], [1.2408525295222872, 1.0], [1.3061363639650598, 1.0], [1.3164724563112713, 1.0], [1.3530962079548876, 1.0], [1.4004821835693824, 1.0], [1.4052475204452541, 1.0], [1.4556794438863205, 1.0], [1.5034595664359593, 0.0], [1.5228337374868508, 1.0], [1.5271298617682045, 1.0], [1.5275307958661841, 1.0], [1.5921059883963768, 0.0], [1.6188084236634843, 1.0], [1.620001749672433, 1.0], [1.6669365806768872, 1.0], [1.7060268584288685, 1.0], [1.7107813293258782, 1.0], [1.7174561386454108, 1.0], [1.7611049505046334, 1.0], [1.768436585415392, 1.0], [1.8358751164232034, 1.0], [2.0016799399633967, 1.0], [2.0062889378983533, 1.0], [2.0121280353828146, 1.0], [2.0164272818947255, 1.0], [2.037927536539855, 1.0], [2.040997292664111, 1.0], [2.054969078891024, 1.0], [2.118894822606842, 0.0], [2.1469488988865635, 1.0], [2.1911675224818548, 1.0], [2.2778874385288037, 1.0], [2.2879281089206778, 1.0], [2.31975940091641, 1.0], [2.3550485575766356, 1.0], [2.3928696591977117, 1.0], [2.427930328359133, 0.0], [2.4682240253199836, 1.0], [2.494923195311277, 1.0], [2.584120245421011, 1.0], [2.6130114768398425, 1.0], [2.650342233957035, 0.0], [2.7654767026572418, 0.0], [2.782073365537706, 1.0], [2.787780246114695, 1.0], [2.804319701754962, 1.0], [2.8289066995027286, 1.0], [2.8367319555836614, 1.0], [2.8547689916155767, 1.0], [2.886458610626474, 1.0], [3.00977625431447, 1.0], [3.1116710758041877, 0.0], [3.140724191228685, 0.0], [3.166552405904371, 1.0], [3.212363785716377, 0.0], [3.255334334283709, 1.0], [3.2651414458211905, 0.0], [3.317339154680352, 0.0], [3.3578469549555097, 1.0], [3.3752816949940443, 1.0], [3.3817590410455196, 1.0], [3.3945018334608976, 0.0], [3.429002478949365, 0.0], [3.432797968294919, 0.0], [3.455511910553107, 0.0], [3.523362313234551, 0.0], [3.5414880750432673, 0.0], [3.587359272860036, 0.0], [3.6258025820880233, 0.0], [3.635521300596922, 1.0], [3.663987399469735, 1.0], [3.726261260018843, 0.0], [3.7348147481662433, 1.0], [3.7616062185588417, 1.0], [3.805538135932141, 0.0], [3.8287820256544567, 1.0], [3.8698728770780972, 0.0], [3.9173558651269467, 1.0], [3.951112194138899, 0.0], [3.956075167014813, 0.0], [3.9862422883147706, 0.0], [4.01095639929464, 0.0], [4.052507696792933, 0.0], [4.083390361271779, 0.0], [4.108967079313243, 1.0], [4.193110986680155, 0.0], [4.20764940164543, 1.0], [4.3612292394138406, 0.0], [4.396601970023149, 0.0], [4.397900289435861, 0.0], [4.417217224014353, 0.0], [4.445619527486973, 0.0], [4.448066428514001, 0.0], [4.490038570322976, 0.0], [4.507388584628433, 0.0], [4.510233469461552, 0.0], [4.704112215648955, 0.0], [4.78094806570227, 0.0], [4.804200991162904, 0.0], [4.883632390628467, 0.0], [4.959930383320141, 0.0], [4.9835724425070245, 0.0], [5.08121374973174, 0.0], [5.114322418062946, 0.0], [5.2109295171128895, 0.0], [5.2623046360720815, 0.0], [5.264955992550759, 0.0], [5.3045862468075295, 0.0], [5.3329586967157425, 0.0], [5.41177410721674, 0.0], [5.4250933836073605, 0.0], [5.440540846325052, 0.0], [5.570187393177039, 0.0], [5.57768465883959, 0.0], [5.723363529240114, 0.0], [5.757091568301664, 0.0], [5.868738047417244, 0.0], [5.878013651707276, 0.0], [5.889095179623035, 0.0], [5.890787355845274, 0.0], [5.962244970263688, 0.0], [5.994123257519779, 0.0], [6.044561558053684, 0.0], [6.081381525834189, 0.0], [6.153140058464025, 1.0], [6.207142887528886, 0.0], [6.218348636507542, 0.0], [6.227799235745892, 0.0], [6.4020912935382235, 0.0], [6.464890176827417, 0.0], [6.786601917958593, 0.0], [7.112761982062037, 0.0], [7.954786543094361, 0.0], [8.720400388195555, 0.0]]\n"
     ]
    }
   ],
   "source": [
    "import math\n",
    "\n",
    "path = \"../Data/datapoints.txt\"\n",
    "with open(path, \"r\") as f_read:\n",
    "\n",
    "    lines = f_read.readlines()\n",
    "\n",
    "    lines = lines[1::] # eliminate the first line\n",
    "\n",
    "    # width, height and label of data points  are  separated \n",
    "\n",
    "    # convert to float and split width list by zero index of data points\n",
    "    pokemon_width= [float(line.split(\", \")[0]) for line in lines]\n",
    "\n",
    "    # convert to float and split height list by first index of data points\n",
    "    pokemon_height = [float(line.split(\", \")[1]) for line in lines]\n",
    "\n",
    "    # convert to float and split separate label list by second index of data points \n",
    "    pokemon_label = [float(line.split(\", \")[2]) for line in lines] \n",
    "\n",
    "    #print(pokemon_width)\n",
    "    #print(pokemon_height)\n",
    "    #print(pokemon_label)\n",
    "\n",
    "    #error handling for user test width pointwhile True:\n",
    "    while True:\n",
    "        user_test_width = input(\"Enter the width of test point: \") # enter user input test width\n",
    "        user_test_height = input(\"Enter the height of test point: \")\n",
    "        if user_test_width and user_test_height == \"LETTERS\": # for non-numeric inputs\n",
    "            print(\"Enter the width of test point are numbers between 1 to 100 but not the letters\")\n",
    "        else:\n",
    "\n",
    "            try:\n",
    "                user_test_width = float(user_test_width) # convert to float\n",
    "                user_test_height = float(user_test_height)\n",
    "\n",
    "        \n",
    "                if not 1 <= user_test_width and user_test_height <= 100:\n",
    "                    raise ValueError(f\"The width of test point must be between 1 and 100\") # inputs are negative number\n",
    "                break\n",
    "            except ValueError as err: \n",
    "                print(err)\n",
    "\n",
    "   \n",
    "       # user_test_point = [user_test_point]\n",
    "\n",
    "    # to calculate distance between user input test point with data points\n",
    "    \n",
    "       \n",
    "    distance_list = []\n",
    "\n",
    "    for width, height, label in zip(pokemon_width, pokemon_height, pokemon_label): # zip(iterator1, iterator2, iterator3 .....)\n",
    "        distance = math.sqrt((width - user_test_width)**2 + (height - user_test_height)**2)\n",
    "        distance_list.append([distance, label])\n",
    "    #print(distance_list)\n",
    "    sorted_list = sorted(distance_list) # sorting list by ascending order\n",
    "    if sorted_list[0][1] == 0: # By comparing sorted distance label - classify the nearest point belongs to pichu or pikachu \n",
    "        print(f\"Sample with (width, height):{(user_test_width, user_test_height)}  classified as Pichu\") # 0 : pichu\n",
    "    else:\n",
    "        print(f\"Sample with (width, height): {(user_test_width, user_test_height)} classified as Pikachu\") # 1 : pikachu\n",
    "\n",
    "    print(sorted_list)"
   ]
  },
  {
   "cell_type": "code",
   "execution_count": 28,
   "metadata": {},
   "outputs": [
    {
     "name": "stdout",
     "output_type": "stream",
     "text": [
      "pikachu\n"
     ]
    }
   ],
   "source": [
    "import math\n",
    "\n",
    "path = \"../Data/datapoints.txt\"\n",
    "with open(path, \"r\") as f_read:\n",
    "\n",
    "    lines = f_read.readlines()\n",
    "\n",
    "    lines = lines[1::] # eliminate the first line\n",
    "\n",
    "    # width, height and label of data points  are  separated \n",
    "\n",
    "    # convert to float and split width list by zero index of data points\n",
    "    pokemon_width= [float(line.split(\", \")[0]) for line in lines]\n",
    "\n",
    "    # convert to float and split height list by first index of data points\n",
    "    pokemon_height = [float(line.split(\", \")[1]) for line in lines]\n",
    "\n",
    "    # convert to float and split separate label list by second index of data points \n",
    "    pokemon_label = [float(line.split(\", \")[2]) for line in lines] \n",
    "\n",
    "    #print(pokemon_width)\n",
    "    #print(pokemon_height)\n",
    "    #print(pokemon_label)\n",
    "    user_test_width = float(input(\"Enter the width of test point: \")) # enter user input test width\n",
    "    user_test_height = float(input(\"Enter the height of test point: \"))\n",
    "    distance_list = []\n",
    "\n",
    "    for width, height, label in zip(pokemon_width, pokemon_height, pokemon_label): # zip(iterator1, iterator2, iterator3 .....)\n",
    "        distance = math.sqrt((width - user_test_width)**2 + (height - user_test_height)**2)\n",
    "        distance_list.append([distance, label])\n",
    "    #print(distance_list)\n",
    "    #sorted_list = sorted(distance_list)\n",
    "    \n",
    "    for i in range(10):\n",
    "\n",
    "        pikachu_distance = 0\n",
    "        pichu_distance = 0\n",
    "        #print(sorted_list[i][1])\n",
    "\n",
    "        if sorted_list[i][1] == 1:\n",
    "            pikachu_distance += sorted_list[i][0]\n",
    "        else:\n",
    "            pichu_distance += sorted_list[i][0]\n",
    "    if pichu_distance > pikachu_distance:\n",
    "         print(\"pichu\")\n",
    "    else:\n",
    "        print(\"pikachu\")\n",
    "    \n",
    "\n",
    "        \n",
    "       \n",
    "\n",
    "    \n",
    "\n",
    "    \n"
   ]
  }
 ],
 "metadata": {
  "kernelspec": {
   "display_name": "Python 3.9.13 ('Python-vineela-nedunuri-iPG0HSA5')",
   "language": "python",
   "name": "python3"
  },
  "language_info": {
   "codemirror_mode": {
    "name": "ipython",
    "version": 3
   },
   "file_extension": ".py",
   "mimetype": "text/x-python",
   "name": "python",
   "nbconvert_exporter": "python",
   "pygments_lexer": "ipython3",
   "version": "3.9.13"
  },
  "orig_nbformat": 4,
  "vscode": {
   "interpreter": {
    "hash": "1db1b2e8567942dee12c64de01d929677cea7f86428756000840da4d34ce3db5"
   }
  }
 },
 "nbformat": 4,
 "nbformat_minor": 2
}
