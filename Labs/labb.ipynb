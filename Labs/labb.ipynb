{
 "cells": [
  {
   "cell_type": "markdown",
   "metadata": {},
   "source": [
    "## Geometry class"
   ]
  },
  {
   "cell_type": "code",
   "execution_count": 13,
   "metadata": {},
   "outputs": [
    {
     "name": "stdout",
     "output_type": "stream",
     "text": [
      "Geomerty with co-ordinates  x and y are 1, 2\n",
      "Geomerty with co-ordinates  x and y are 5, 5\n"
     ]
    }
   ],
   "source": [
    "class Geometry():\n",
    "    def __init__(self, x, y) -> None:\n",
    "        self.x = x\n",
    "        self.y = y \n",
    "        \n",
    "    @property\n",
    "    def x(self):\n",
    "        return self._x \n",
    "        \n",
    "    @x.setter\n",
    "    def x(self, value):\n",
    "        \"\"\"Setter for value with error handling\"\"\"\n",
    "\n",
    "        if not isinstance(value, (float,int)):\n",
    "            raise TypeError(f\"value must be an int or float, not {type(value).__name__}\")\n",
    "\n",
    "        if value == \"str\":\n",
    "            raise ValueError(f\" x must be numbers not letter\")\n",
    "        \n",
    "        self._x = value\n",
    "\n",
    "         \n",
    "    @property\n",
    "    def y(self):\n",
    "        return self._y \n",
    "        \n",
    "    @y.setter\n",
    "    def y(self, value):\n",
    "        \"\"\"Setter for value with error handling\"\"\"\n",
    "\n",
    "        if not isinstance(value, (float,int)):\n",
    "            raise TypeError(f\"value must be an int or float, not {type(value).__name__}\")\n",
    "            \n",
    "        if value == \"str\":\n",
    "            raise ValueError(f\" x must be numbers not letter\")\n",
    "        \n",
    "        self._y = value\n",
    "    \n",
    "    def __repr__(self):\n",
    "        return f\"Geometry(x = {self.x}, y = {self.y})\"\n",
    "    \n",
    "    def __str__(self):\n",
    "        return f\"Geomerty with co-ordinates  x and y are {self.x}, {self.y}\"\n",
    "\n",
    "    \n",
    "    def translate(self, other_x, other_y): \n",
    "        \n",
    "        try:\n",
    "            self._x = self._x + other_x    \n",
    "            self._y = self._y + other_y\n",
    "    \n",
    "\n",
    "        except ValueError as err:\n",
    "           print(\" x  and y must be numbers not letter\")\n",
    "\n",
    "\n",
    "        \n",
    "        \n",
    "\n",
    "g1 = Geometry(1,2)\n",
    "print(g1)\n",
    "g1.translate(4,3)\n",
    "print(g1)\n",
    "\n"
   ]
  },
  {
   "cell_type": "markdown",
   "metadata": {},
   "source": [
    "## Rectangle class"
   ]
  },
  {
   "cell_type": "code",
   "execution_count": 14,
   "metadata": {},
   "outputs": [
    {
     "name": "stdout",
     "output_type": "stream",
     "text": [
      "Rectangle  with co-ordinates  x and y are 4, 4 and length is 4 ,width is 5\n",
      "None\n",
      "Rectangle  with co-ordinates  x and y are 9, 9 and length is 4 ,width is 5\n"
     ]
    }
   ],
   "source": [
    "class Rectangle(Geometry):\n",
    "    \"\"\"A Rectangle has length and width with four sides\"\"\"\n",
    "    # override _init__()\n",
    "    def __init__(self, x, y, length, width) -> None:\n",
    "        super().__init__(x,y)\n",
    "        self.length = length\n",
    "        self.width = width\n",
    "    \n",
    "    @property\n",
    "    def length(self):\n",
    "        return self._length\n",
    "    \n",
    "    @length.setter\n",
    "    def length(self, value):\n",
    "        \"\"\"Setter for value with error handling\"\"\"\n",
    "      \n",
    "\n",
    "        if not isinstance(value, (float,int)):\n",
    "            raise TypeError(f\"value must be an int or float, not {type(value).__name__}\")\n",
    "\n",
    "        if not (0<= value ):\n",
    "            raise ValueError(f\"You can only enter non- neagtive values\")\n",
    "        \n",
    "        self._length = value\n",
    "\n",
    "\n",
    "    @property\n",
    "    def width(self):\n",
    "        return self._width\n",
    "    \n",
    "    @width.setter\n",
    "    def width(self, value):\n",
    "        \"\"\"Setter for value with error handling\"\"\"\n",
    "      \n",
    "\n",
    "        if not isinstance(value, (float,int)):\n",
    "            raise TypeError(f\"value must be an int or float, not {type(value).__name__}\")\n",
    "\n",
    "        if not (0<= value ):\n",
    "            raise ValueError(f\"You can only enter non- neagtive values\")\n",
    "        \n",
    "        self._width = value\n",
    "    \n",
    "    @property      \n",
    "    def area(self) -> float: \n",
    "        \"\"\"To calculate the area of  Rectangle \"\"\"\n",
    "        return self._length*self._width  # to find area of rectangle : l*b\n",
    "\n",
    "    @property \n",
    "    def perimeter(self) -> float:\n",
    "        \"\"\"To calculate the perimeter of  Rectangle \"\"\"\n",
    "        return 2 *self._length + 2* self._width # To find perimeter of rectangle : 2l+2b\n",
    "    \n",
    "    def __repr__(self):\n",
    "        return f\"Rectangle(x = {self.x}, y = {self.y} , length={self.length}, width={self.width})\"\n",
    "\n",
    "\n",
    "    def __str__(self):\n",
    "        return f\"Rectangle  with co-ordinates  x and y are {self.x}, {self.y} and length is {self.length} ,width is {self.width}\"\n",
    "\n",
    "    \n",
    "\n",
    "\n",
    "rectangle1 = Rectangle(4,4,4,5)\n",
    "print(rectangle1)\n",
    "#print(rectangle1.area())\n",
    "#print(rectangle1.perimeter())\n",
    "\n",
    "#print(circle1.__str__())\n",
    "#print(rectangle1.__repr__())\n",
    "\n",
    "print(rectangle1.translate(5,5))\n",
    "print(rectangle1)\n"
   ]
  }
 ],
 "metadata": {
  "kernelspec": {
   "display_name": "Python 3.9.13 ('Python-vineela-nedunuri-iPG0HSA5')",
   "language": "python",
   "name": "python3"
  },
  "language_info": {
   "codemirror_mode": {
    "name": "ipython",
    "version": 3
   },
   "file_extension": ".py",
   "mimetype": "text/x-python",
   "name": "python",
   "nbconvert_exporter": "python",
   "pygments_lexer": "ipython3",
   "version": "3.9.13"
  },
  "orig_nbformat": 4,
  "vscode": {
   "interpreter": {
    "hash": "1db1b2e8567942dee12c64de01d929677cea7f86428756000840da4d34ce3db5"
   }
  }
 },
 "nbformat": 4,
 "nbformat_minor": 2
}
