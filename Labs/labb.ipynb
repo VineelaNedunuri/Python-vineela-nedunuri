{
 "cells": [
  {
   "cell_type": "markdown",
   "metadata": {},
   "source": [
    "## Geometry class"
   ]
  },
  {
   "cell_type": "code",
   "execution_count": 41,
   "metadata": {},
   "outputs": [
    {
     "name": "stdout",
     "output_type": "stream",
     "text": [
      "Geomerty with co-ordinates  x and y are 1, 2\n"
     ]
    }
   ],
   "source": [
    "class Geometry():\n",
    "    def __init__(self, x, y) -> None:\n",
    "        self.x = x\n",
    "        self.y = y \n",
    "        \n",
    "    @property\n",
    "    def x(self):\n",
    "        return self._x \n",
    "        \n",
    "    @x.setter\n",
    "    def x(self, value):\n",
    "        \"\"\"Setter for value with error handling\"\"\"\n",
    "\n",
    "        if not isinstance(value, (float,int)):\n",
    "            raise TypeError(f\"value must be an int or float, not {type(value).__name__}\")\n",
    "\n",
    "        if value == \"str\":\n",
    "            raise ValueError(f\" x must be numbers not letter\")\n",
    "        \n",
    "        self._x = value\n",
    "\n",
    "         \n",
    "    @property\n",
    "    def y(self):\n",
    "        return self._y \n",
    "        \n",
    "    @y.setter\n",
    "    def y(self, value):\n",
    "        \"\"\"Setter for value with error handling\"\"\"\n",
    "\n",
    "        if not isinstance(value, (float,int)):\n",
    "            raise TypeError(f\"value must be an int or float, not {type(value).__name__}\")\n",
    "            \n",
    "        if value == \"str\":\n",
    "            raise ValueError(f\" x must be numbers not letter\")\n",
    "        \n",
    "        self._y = value\n",
    "    \n",
    "    def __repr__(self):\n",
    "        return f\"Geometry(x = {self.x}, y = {self.y})\"\n",
    "    \n",
    "    def __str__(self):\n",
    "        return f\"Geomerty with co-ordinates  x and y are {self.x}, {self.y}\"\n",
    "\n",
    "    \n",
    "    def translate(self, other_x, other_y): \n",
    "        \n",
    "        \n",
    "        if other_x or other_y == str:\n",
    "            raise ValueError(f\" x  and y must be numbers not letter\")\n",
    "        \n",
    "        self._x = self._x + other_x    \n",
    "        self._y = self._y + other_y\n",
    "        \n",
    "        if not isinstance(other_x,other_y, (float,int)):\n",
    "            raise TypeError(f\"value must be an int or float\")\n",
    "        \n",
    "        \n",
    "        \n",
    "        \n",
    "\n",
    "g1 = Geometry(1,2)\n",
    "print(g1)\n",
    "\n",
    "\n"
   ]
  },
  {
   "cell_type": "markdown",
   "metadata": {},
   "source": [
    "## Rectangle class"
   ]
  },
  {
   "cell_type": "code",
   "execution_count": 42,
   "metadata": {},
   "outputs": [
    {
     "name": "stdout",
     "output_type": "stream",
     "text": [
      "Rectangle  with co-ordinates  x and y are 4, 4 and length is 4 ,width is 5\n"
     ]
    },
    {
     "ename": "ValueError",
     "evalue": " x  and y must be numbers not letter",
     "output_type": "error",
     "traceback": [
      "\u001b[1;31m---------------------------------------------------------------------------\u001b[0m",
      "\u001b[1;31mValueError\u001b[0m                                Traceback (most recent call last)",
      "Cell \u001b[1;32mIn [42], line 72\u001b[0m\n\u001b[0;32m     65\u001b[0m \u001b[38;5;28mprint\u001b[39m(rectangle1)\n\u001b[0;32m     66\u001b[0m \u001b[38;5;66;03m#print(rectangle1.area())\u001b[39;00m\n\u001b[0;32m     67\u001b[0m \u001b[38;5;66;03m#print(rectangle1.perimeter())\u001b[39;00m\n\u001b[0;32m     68\u001b[0m \n\u001b[0;32m     69\u001b[0m \u001b[38;5;66;03m#print(circle1.__str__())\u001b[39;00m\n\u001b[0;32m     70\u001b[0m \u001b[38;5;66;03m#print(rectangle1.__repr__())\u001b[39;00m\n\u001b[1;32m---> 72\u001b[0m \u001b[38;5;28mprint\u001b[39m(\u001b[43mrectangle1\u001b[49m\u001b[38;5;241;43m.\u001b[39;49m\u001b[43mtranslate\u001b[49m\u001b[43m(\u001b[49m\u001b[38;5;241;43m5\u001b[39;49m\u001b[43m,\u001b[49m\u001b[38;5;241;43m5\u001b[39;49m\u001b[43m)\u001b[49m)\n\u001b[0;32m     73\u001b[0m \u001b[38;5;28mprint\u001b[39m(rectangle1)\n",
      "Cell \u001b[1;32mIn [41], line 50\u001b[0m, in \u001b[0;36mGeometry.translate\u001b[1;34m(self, other_x, other_y)\u001b[0m\n\u001b[0;32m     46\u001b[0m \u001b[38;5;28;01mdef\u001b[39;00m \u001b[38;5;21mtranslate\u001b[39m(\u001b[38;5;28mself\u001b[39m, other_x, other_y): \n\u001b[0;32m     49\u001b[0m     \u001b[38;5;28;01mif\u001b[39;00m other_x \u001b[38;5;129;01mor\u001b[39;00m other_y \u001b[38;5;241m==\u001b[39m \u001b[38;5;28mstr\u001b[39m:\n\u001b[1;32m---> 50\u001b[0m         \u001b[38;5;28;01mraise\u001b[39;00m \u001b[38;5;167;01mValueError\u001b[39;00m(\u001b[38;5;124mf\u001b[39m\u001b[38;5;124m\"\u001b[39m\u001b[38;5;124m x  and y must be numbers not letter\u001b[39m\u001b[38;5;124m\"\u001b[39m)\n\u001b[0;32m     52\u001b[0m     \u001b[38;5;28mself\u001b[39m\u001b[38;5;241m.\u001b[39m_x \u001b[38;5;241m=\u001b[39m \u001b[38;5;28mself\u001b[39m\u001b[38;5;241m.\u001b[39m_x \u001b[38;5;241m+\u001b[39m other_x    \n\u001b[0;32m     53\u001b[0m     \u001b[38;5;28mself\u001b[39m\u001b[38;5;241m.\u001b[39m_y \u001b[38;5;241m=\u001b[39m \u001b[38;5;28mself\u001b[39m\u001b[38;5;241m.\u001b[39m_y \u001b[38;5;241m+\u001b[39m other_y\n",
      "\u001b[1;31mValueError\u001b[0m:  x  and y must be numbers not letter"
     ]
    }
   ],
   "source": [
    "class Rectangle(Geometry):\n",
    "    \"\"\"A Rectangle has length and width with four sides\"\"\"\n",
    "    # override _init__()\n",
    "    def __init__(self, x, y, length, width) -> None:\n",
    "        super().__init__(x,y)\n",
    "        self.length = length\n",
    "        self.width = width\n",
    "    \n",
    "    @property\n",
    "    def length(self):\n",
    "        return self._length\n",
    "    \n",
    "    @length.setter\n",
    "    def length(self, value):\n",
    "        \"\"\"Setter for value with error handling\"\"\"\n",
    "      \n",
    "\n",
    "        if not isinstance(value, (float,int)):\n",
    "            raise TypeError(f\"value must be an int or float, not {type(value).__name__}\")\n",
    "\n",
    "        if not (0<= value ):\n",
    "            raise ValueError(f\"You can only enter non- neagtive values\")\n",
    "        \n",
    "        self._length = value\n",
    "\n",
    "\n",
    "    @property\n",
    "    def width(self):\n",
    "        return self._width\n",
    "    \n",
    "    @width.setter\n",
    "    def width(self, value):\n",
    "        \"\"\"Setter for value with error handling\"\"\"\n",
    "      \n",
    "\n",
    "        if not isinstance(value, (float,int)):\n",
    "            raise TypeError(f\"value must be an int or float, not {type(value).__name__}\")\n",
    "\n",
    "        if not (0<= value ):\n",
    "            raise ValueError(f\"You can only enter non- neagtive values\")\n",
    "        \n",
    "        self._width = value\n",
    "    \n",
    "    @property      \n",
    "    def area(self) -> float: \n",
    "        \"\"\"To calculate the area of  Rectangle \"\"\"\n",
    "        return self._length*self._width  # to find area of rectangle : l*b\n",
    "\n",
    "    @property \n",
    "    def perimeter(self) -> float:\n",
    "        \"\"\"To calculate the perimeter of  Rectangle \"\"\"\n",
    "        return 2 *self._length + 2* self._width # To find perimeter of rectangle : 2l+2b\n",
    "    \n",
    "    def __repr__(self):\n",
    "        return f\"Rectangle(x = {self.x}, y = {self.y} , length={self.length}, width={self.width})\"\n",
    "\n",
    "\n",
    "    def __str__(self):\n",
    "        return f\"Rectangle  with co-ordinates  x and y are {self.x}, {self.y} and length is {self.length} ,width is {self.width}\"\n",
    "\n",
    "    \n",
    "\n",
    "\n",
    "rectangle1 = Rectangle(4,4,4,5)\n",
    "print(rectangle1)\n",
    "#print(rectangle1.area())\n",
    "#print(rectangle1.perimeter())\n",
    "\n",
    "#print(circle1.__str__())\n",
    "#print(rectangle1.__repr__())\n",
    "\n",
    "print(rectangle1.translate(5,5))\n",
    "print(rectangle1)\n"
   ]
  }
 ],
 "metadata": {
  "kernelspec": {
   "display_name": "Python 3.9.13 ('Python-vineela-nedunuri-iPG0HSA5')",
   "language": "python",
   "name": "python3"
  },
  "language_info": {
   "codemirror_mode": {
    "name": "ipython",
    "version": 3
   },
   "file_extension": ".py",
   "mimetype": "text/x-python",
   "name": "python",
   "nbconvert_exporter": "python",
   "pygments_lexer": "ipython3",
   "version": "3.9.13"
  },
  "orig_nbformat": 4,
  "vscode": {
   "interpreter": {
    "hash": "1db1b2e8567942dee12c64de01d929677cea7f86428756000840da4d34ce3db5"
   }
  }
 },
 "nbformat": 4,
 "nbformat_minor": 2
}
