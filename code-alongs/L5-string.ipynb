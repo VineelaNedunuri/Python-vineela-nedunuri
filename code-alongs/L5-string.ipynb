{
 "cells": [
  {
   "cell_type": "markdown",
   "metadata": {},
   "source": [
    "# Strings"
   ]
  },
  {
   "cell_type": "code",
   "execution_count": 3,
   "metadata": {},
   "outputs": [
    {
     "name": "stdout",
     "output_type": "stream",
     "text": [
      "Vineela Nedunuri\n",
      "\n",
      "Name :Vineela Nedunuri\n",
      "Age : Göteborg\n",
      "phone : 112\n",
      "\n"
     ]
    }
   ],
   "source": [
    "firstname = \"Vineela\"\n",
    "lastname = \"Nedunuri\"\n",
    "\n",
    "# concatenate strings\n",
    "name = firstname + \" \" + lastname\n",
    "\n",
    "age = 31\n",
    "adress = \"Göteborg\"\n",
    "phone = \"112\"\n",
    "\n",
    "print(name)\n",
    "\n",
    "# multiline f-string\n",
    "contact = f\"\"\"\n",
    "Name :{name}\n",
    "Age : {adress}\n",
    "phone : {phone}\n",
    "\"\"\"\n",
    "print(contact)"
   ]
  },
  {
   "cell_type": "markdown",
   "metadata": {},
   "source": [
    "## Iterate through litsband concentarera"
   ]
  },
  {
   "cell_type": "code",
   "execution_count": 9,
   "metadata": {},
   "outputs": [
    {
     "name": "stdout",
     "output_type": "stream",
     "text": [
      "Plan \n",
      "Må:  AI intro \n",
      "Ti: python \n",
      "On: Matte \n",
      "To: självplugg \n",
      "Fr: chilla \n",
      "Lö:   \n",
      "\n"
     ]
    }
   ],
   "source": [
    "schedule = [\" AI intro\", \"python\", \"Matte\", \"självplugg\", \"chilla\", \" \"]\n",
    "days = [\"Må\", \"Ti\", \"On\", \"To\", \"Fr\", \"Lö\"]\n",
    "\n",
    "# new line => \\n\n",
    "week_plan = \"Plan \\n\"\n",
    "\n",
    "#Plan\n",
    "# Må : AI intro\n",
    "# Ti: Python\n",
    "#....\n",
    "\n",
    "for days, task in zip(days, schedule):\n",
    "    week_plan += f\"{days}: {task} \\n\"\n",
    "print(week_plan)"
   ]
  },
  {
   "cell_type": "markdown",
   "metadata": {},
   "source": [
    "## Indexing"
   ]
  },
  {
   "cell_type": "code",
   "execution_count": 12,
   "metadata": {},
   "outputs": [
    {
     "name": "stdout",
     "output_type": "stream",
     "text": [
      "quote[0]='!'\n",
      "quote[:6]='!False'\n",
      "quote[-4:]='true'\n",
      "Backwords: quote[::-1]='eurt sti esuaceb ynnuf a sti - eslaF!'\n",
      "Length of string: 37 characters\n"
     ]
    }
   ],
   "source": [
    "quote = \"!False - its a funny because its true\"\n",
    "\n",
    "print(f\"{quote[0]=}\")\n",
    "print(f\"{quote[:6]=}\")\n",
    "print(f\"{quote[-4:]=}\")\n",
    "\n",
    "print(f\"Backwords: {quote[::-1]=}\")\n",
    "\n",
    "print(f\"Length of string: {len(quote)} characters\")"
   ]
  },
  {
   "cell_type": "markdown",
   "metadata": {},
   "source": [
    "## Split strings"
   ]
  },
  {
   "cell_type": "code",
   "execution_count": 24,
   "metadata": {},
   "outputs": [
    {
     "name": "stdout",
     "output_type": "stream",
     "text": [
      "numbers=[3.0, 4.0, 6.0]\n",
      "mean_value=4.333333333333333\n"
     ]
    }
   ],
   "source": [
    "# not possible\n",
    "# numbers = float(input(\"Ange tre tal  (separerade med kommatecken): \"))\n",
    "numbers = input(\"Ange tre tal  (separerade med kommatecken): \")\n",
    "\n",
    "# 1.split the strings into a list of 3 strings\n",
    "# 2. type convert each string into a float by iterating through the list\n",
    "\n",
    "# list comprehension\n",
    "\n",
    "numbers = [float(number) for number in numbers.split(\",\")]\n",
    "mean_value = sum(numbers)/len(numbers)\n",
    "\n",
    "print(f\"{numbers=}\")\n",
    "print(f\"{mean_value=}\")\n",
    "\n",
    " "
   ]
  },
  {
   "cell_type": "code",
   "execution_count": 21,
   "metadata": {},
   "outputs": [
    {
     "data": {
      "text/plain": [
       "['2', '3', '4']"
      ]
     },
     "execution_count": 21,
     "metadata": {},
     "output_type": "execute_result"
    }
   ],
   "source": [
    "numbers_test = \"2,3,4\"\n",
    "numbers_test.split(\",\")\n"
   ]
  },
  {
   "cell_type": "markdown",
   "metadata": {},
   "source": []
  },
  {
   "cell_type": "code",
   "execution_count": 1,
   "metadata": {},
   "outputs": [
    {
     "name": "stdout",
     "output_type": "stream",
     "text": [
      "Help on method_descriptor:\n",
      "\n",
      "split(self, /, sep=None, maxsplit=-1)\n",
      "    Return a list of the words in the string, using sep as the delimiter string.\n",
      "    \n",
      "    sep\n",
      "      The delimiter according which to split the string.\n",
      "      None (the default value) means split according to any whitespace,\n",
      "      and discard empty strings from the result.\n",
      "    maxsplit\n",
      "      Maximum number of splits to do.\n",
      "      -1 (the default value) means no limit.\n",
      "\n"
     ]
    }
   ],
   "source": [
    "help(str.split)"
   ]
  },
  {
   "cell_type": "markdown",
   "metadata": {},
   "source": [
    "## Regular expression\n",
    "\n",
    "- find the patterns in a string\n",
    "- e.g: phone numbers, email, capital letters, sequences"
   ]
  },
  {
   "cell_type": "code",
   "execution_count": 10,
   "metadata": {},
   "outputs": [
    {
     "name": "stdout",
     "output_type": "stream",
     "text": [
      "Mitt telefonnummer är 021-432512,       Adas number är 042-321345, Bedas nummer är: 0739-242521\n",
      "['021-432512', '042-321345', '739-242521']\n",
      "['021-432512', '042-321345', '739-242521']\n"
     ]
    }
   ],
   "source": [
    "import re \n",
    "\n",
    "text = \"Mitt telefonnummer är 021-432512, \\\n",
    "      Adas number är 042-321345, Bedas nummer är: 0739-242521\"\n",
    "print(text)\n",
    "\n",
    "# extract the numbers\n",
    "match1 = re.findall(r\"\\d\\d\\d-\\d\\d\\d\\d\\d\\d\", text) # r\"\" - raw string\n",
    "print(match1)\n",
    "\n",
    "#print(r\"Hej\\ndå\")\n",
    "\n",
    "match2 = re.findall(r\"\\d{3}-\\d{6}\", text)\n",
    "print(match2)"
   ]
  },
  {
   "cell_type": "code",
   "execution_count": 12,
   "metadata": {},
   "outputs": [
    {
     "name": "stdout",
     "output_type": "stream",
     "text": [
      "['katt', 'hatt', 'matt']\n"
     ]
    }
   ],
   "source": [
    "text = \" Det var en gång en katt, som tog sig på en hatt, och spelade schack, fick schackmat med hjälp av skolmatt\"\n",
    "\n",
    "match = re.findall(r\".att\", text)\n",
    "print(match)\n",
    "# try to extract the whole words that contains with \"att\""
   ]
  },
  {
   "cell_type": "markdown",
   "metadata": {},
   "source": []
  }
 ],
 "metadata": {
  "kernelspec": {
   "display_name": "Python 3.9.13 64-bit",
   "language": "python",
   "name": "python3"
  },
  "language_info": {
   "codemirror_mode": {
    "name": "ipython",
    "version": 3
   },
   "file_extension": ".py",
   "mimetype": "text/x-python",
   "name": "python",
   "nbconvert_exporter": "python",
   "pygments_lexer": "ipython3",
   "version": "3.9.13"
  },
  "orig_nbformat": 4,
  "vscode": {
   "interpreter": {
    "hash": "aa93088360420e47a92e6fc9121e9159dbf1900a5f483a704136b076cb810347"
   }
  }
 },
 "nbformat": 4,
 "nbformat_minor": 2
}
