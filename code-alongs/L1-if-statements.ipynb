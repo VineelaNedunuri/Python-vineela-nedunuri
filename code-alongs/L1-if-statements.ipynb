{
 "cells": [
  {
   "cell_type": "markdown",
   "metadata": {},
   "source": [
    "# If statements\n",
    " else"
   ]
  },
  {
   "cell_type": "code",
   "execution_count": 4,
   "metadata": {},
   "outputs": [
    {
     "name": "stdout",
     "output_type": "stream",
     "text": [
      "Du är 0 år gammal, gränsen är 18 \n",
      "du får inte gå in i puben\n"
     ]
    }
   ],
   "source": [
    "age = int()\n",
    "\n",
    "if age < 18:\n",
    "    print(f\"Du är {age} år gammal, gränsen är 18 \")\n",
    "    print (\"du får inte gå in i puben\")\n",
    "else:\n",
    "     print(\"välkomen in\")"
   ]
  },
  {
   "cell_type": "code",
   "execution_count": 3,
   "metadata": {},
   "outputs": [
    {
     "name": "stdout",
     "output_type": "stream",
     "text": [
      "välkomen in\n"
     ]
    }
   ],
   "source": [
    "age = int(input(\"hur gammal är du?\")) \n",
    "\n",
    "if age < 18: \n",
    "    print (\"du får inte gå in i puben\")\n",
    "else:\n",
    "        print(\"välkomen in\")"
   ]
  },
  {
   "cell_type": "code",
   "execution_count": 5,
   "metadata": {},
   "outputs": [
    {
     "name": "stdout",
     "output_type": "stream",
     "text": [
      "Du får åka balder\n"
     ]
    }
   ],
   "source": [
    "age = 15\n",
    "height = 135\n",
    "\n",
    "if age > 10 and  height > 130:\n",
    "    print(\"Du får åka balder\")\n",
    "else:\n",
    "    print(\"Du får inte åka balder\")"
   ]
  },
  {
   "cell_type": "code",
   "execution_count": 8,
   "metadata": {},
   "outputs": [
    {
     "name": "stdout",
     "output_type": "stream",
     "text": [
      "Du får åka balder\n"
     ]
    }
   ],
   "source": [
    "age = 15\n",
    "height = 208\n",
    "\n",
    "if age > 10 and  130 < height <= 210:\n",
    "    print(\"Du får åka balder\")\n",
    "else:\n",
    "    print(\" Du får inte åka balder\")"
   ]
  },
  {
   "cell_type": "markdown",
   "metadata": {},
   "source": [
    "# Modulo operator%"
   ]
  },
  {
   "cell_type": "markdown",
   "metadata": {},
   "source": [
    "Gives the rest after an integer dividion\n",
    "\n",
    "Ex:\n",
    " 5 % 3 = 2\n",
    " \n",
    " 22 % 9 = 4"
   ]
  },
  {
   "cell_type": "code",
   "execution_count": 10,
   "metadata": {},
   "outputs": [
    {
     "name": "stdout",
     "output_type": "stream",
     "text": [
      "jämnt tal\n"
     ]
    }
   ],
   "source": [
    "number = 42\n",
    "\n",
    "# 2 equal signs => checks if left is equal to right\n",
    "if number % 2 == 0:\n",
    "    print(\"jämnt tal\")\n",
    "\n"
   ]
  },
  {
   "cell_type": "code",
   "execution_count": 13,
   "metadata": {},
   "outputs": [
    {
     "name": "stdout",
     "output_type": "stream",
     "text": [
      "3==4: False\n",
      "3==3: True\n",
      "3>=3: True\n",
      "3!=3: False\n"
     ]
    }
   ],
   "source": [
    "print(f\"3==4: {3 == 4}\")\n",
    "print(f\"3==3: {3 == 3}\") # equal operator\n",
    "print(f\"3>=3: {3 >= 3}\") # larger than or equal operator\n",
    "print(f\"3!=3: {3 != 3}\") # not equal operator"
   ]
  },
  {
   "cell_type": "markdown",
   "metadata": {},
   "source": [
    "## if - elif - else\n",
    "```py\n",
    "if condition:\n",
    "    statemenr_1\n",
    "    ......\n",
    "    ...\n",
    "    statement _n\n",
    "elif condition  :\n",
    "     statemenr_1\n",
    "    ......\n",
    "    ...\n",
    "    statement _m\n",
    "......\n",
    "elif condition:\n",
    "    ....\n",
    "else:\n",
    "    ststements\n",
    "    ......\n",
    "\n",
    "program continues..."
   ]
  },
  {
   "cell_type": "code",
   "execution_count": 8,
   "metadata": {},
   "outputs": [
    {
     "name": "stdout",
     "output_type": "stream",
     "text": [
      "weight='60'\n",
      "weight=60.0\n",
      "Give patient 1000mg\n"
     ]
    }
   ],
   "source": [
    "# weight is a string here  \n",
    "weight = input(\"Enter patients weight (kg): \")\n",
    "print(f\"{weight=}\")\n",
    "\n",
    " # now we convert it to a float\n",
    " \n",
    "weight = float(weight)\n",
    "print(f\"{weight=}\")\n",
    "\n",
    "if weight < 20:\n",
    "   print(\"Give patient 500mg\")\n",
    "elif weight < 40:\n",
    "   print(\"Give patient 750mg\")\n",
    "else:\n",
    "   print(\"Give patient 1000mg\")"
   ]
  },
  {
   "cell_type": "markdown",
   "metadata": {},
   "source": [
    "# while loop\n",
    "\n",
    "-\" if-loop\"\n",
    "- as long as a condition is True -> the statements indide the while loop will run\n",
    "\n",
    "```py\n",
    "while condition:\n",
    "    ststements\n",
    "    ....\n",
    "\n",
    "program continues here\n",
    "```"
   ]
  },
  {
   "cell_type": "code",
   "execution_count": 17,
   "metadata": {},
   "outputs": [
    {
     "name": "stdout",
     "output_type": "stream",
     "text": [
      "Hej 0\n",
      "Hej 1\n",
      "Hej 2\n",
      "Hej 3\n",
      "program continues here\n"
     ]
    }
   ],
   "source": [
    "#\n",
    "i = 0\n",
    "while i < 4:\n",
    "    print(f\"Hej {i}\")\n",
    "    i += 1 # plus equal operator,add one to i <=> i = i+1\n",
    "print(\"program continues here\")"
   ]
  },
  {
   "cell_type": "code",
   "execution_count": 35,
   "metadata": {},
   "outputs": [
    {
     "name": "stdout",
     "output_type": "stream",
     "text": [
      " year 1: number of birds 40000left\n",
      " year 2: number of birds 20000left\n",
      " year 3: number of birds 10000left\n",
      " year 4: number of birds 5000left\n"
     ]
    }
   ],
   "source": [
    "# Exampl bird and oil\n",
    "birds = 80000\n",
    "years = 0\n",
    "limit = birds/10\n",
    "while birds >= limit:\n",
    " birds = birds/2 # birds/= 2\n",
    " years += 1\n",
    " print(f\" year {years}: number of birds {birds:.0f}left\")\n"
   ]
  },
  {
   "cell_type": "code",
   "execution_count": 41,
   "metadata": {},
   "outputs": [
    {
     "name": "stdout",
     "output_type": "stream",
     "text": [
      "[1500000.0]\n",
      "[1500000.0, 2250000.0, 3375000.0, 5062500.0, 7593750.0, 11390625.0]\n",
      "Takes 5h for milk get soured \n"
     ]
    }
   ],
   "source": [
    "# milk\n",
    "bacterias = 1.5e6 # 1.5 * 10^6\n",
    "factor = 1.5\n",
    "hours = 0\n",
    "sour = 1e7 # 10^7\n",
    "bacterias_list = [bacterias]\n",
    "print(bacterias_list)\n",
    "while bacterias < sour:\n",
    "    bacterias *= factor # bacterias = bacterias * factor\n",
    "    hours += 1\n",
    "    bacterias_list.append(bacterias)\n",
    "print(bacterias_list)\n",
    "print(f\"Takes {hours}h for milk get soured \")"
   ]
  }
 ],
 "metadata": {
  "kernelspec": {
   "display_name": "Python 3.9.13 ('Python-vineela-nedunuri-iPG0HSA5')",
   "language": "python",
   "name": "python3"
  },
  "language_info": {
   "codemirror_mode": {
    "name": "ipython",
    "version": 3
   },
   "file_extension": ".py",
   "mimetype": "text/x-python",
   "name": "python",
   "nbconvert_exporter": "python",
   "pygments_lexer": "ipython3",
   "version": "3.9.13"
  },
  "orig_nbformat": 4,
  "vscode": {
   "interpreter": {
    "hash": "1db1b2e8567942dee12c64de01d929677cea7f86428756000840da4d34ce3db5"
   }
  }
 },
 "nbformat": 4,
 "nbformat_minor": 2
}
