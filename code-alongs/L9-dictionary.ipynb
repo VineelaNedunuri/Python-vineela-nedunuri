{
 "cells": [
  {
   "cell_type": "markdown",
   "metadata": {},
   "source": [
    "# Dictionary \n",
    "\n",
    "- datastructure that stores data in key:value pairs"
   ]
  },
  {
   "cell_type": "code",
   "execution_count": 17,
   "metadata": {},
   "outputs": [
    {
     "name": "stdout",
     "output_type": "stream",
     "text": [
      "person dictionary {'name': 'Vineela', 'age': 31, 'work': 'student', 'interests': ['math', 'yoga', 'programming', 'cooking', 'walking'], 'phone': 112}\n",
      "persons work: student\n",
      "persons age: 31\n",
      "persons interests: ['math', 'yoga', 'programming', 'cooking', 'walking']\n",
      "persons interests: ['math', 'yoga']\n",
      " Vineela likes math\n",
      " Vineela likes yoga\n",
      " Vineela likes programming\n",
      " Vineela likes cooking\n",
      " Vineela likes walking\n"
     ]
    }
   ],
   "source": [
    "# create a dictionary\n",
    "person = dict(\n",
    "    name = \"Vineela\", age = 31, work = \"student\", interests = [\"math\", \"yoga\",\"programming\",\"cooking\",\"walking\"], phone = 112\n",
    ")\n",
    "print(f\"person dictionary {person}\")\n",
    "print(f\"persons work: {person['work']}\")\n",
    "print(f\"persons age: {person['age']}\")\n",
    "print(f\"persons interests: {person['interests']}\")\n",
    "print(f\"persons interests: {person['interests'][:2]}\")\n",
    "\n",
    "for interest in person[\"interests\"]:\n",
    "    print(f\" Vineela likes {interest}\")"
   ]
  },
  {
   "cell_type": "code",
   "execution_count": 21,
   "metadata": {},
   "outputs": [
    {
     "name": "stdout",
     "output_type": "stream",
     "text": [
      "{'assign': 'assign a value to a variable', 'dictionary': 'datastructure to store data in key-vale pairs', 'method': 'a function bound to an object'}\n",
      "Vi ska lära oss de här glosorna \n",
      "\n",
      "assign  -  assign a value to a variable\n",
      "dictionary  -  datastructure to store data in key-vale pairs\n",
      "method  -  a function bound to an object\n"
     ]
    }
   ],
   "source": [
    "# create  dictionary with curly brace {}\n",
    "words = {\n",
    "    \"assign\": \"assign a value to a variable\",\n",
    "    \"dictionary\": \"datastructure to store data in key-vale pairs\",\n",
    "    \"method\": \"a function bound to an object\",\n",
    "}\n",
    "print(words)\n",
    "print(\"Vi ska lära oss de här glosorna \\n\")\n",
    "\n",
    "for key in words:\n",
    "    print(key, \" - \", words[key])\n"
   ]
  },
  {
   "cell_type": "code",
   "execution_count": 20,
   "metadata": {},
   "outputs": [
    {
     "name": "stdout",
     "output_type": "stream",
     "text": [
      "assign               assign a value to a variable\n",
      "dictionary           datastructure to store data in key-vale pairs\n",
      "method               a function bound to an object\n"
     ]
    }
   ],
   "source": [
    "for key, value in words.items():\n",
    "    print(f\"{key:<20} {value}\")\n"
   ]
  }
 ],
 "metadata": {
  "kernelspec": {
   "display_name": "Python 3.9.13 ('Python-vineela-nedunuri-iPG0HSA5')",
   "language": "python",
   "name": "python3"
  },
  "language_info": {
   "codemirror_mode": {
    "name": "ipython",
    "version": 3
   },
   "file_extension": ".py",
   "mimetype": "text/x-python",
   "name": "python",
   "nbconvert_exporter": "python",
   "pygments_lexer": "ipython3",
   "version": "3.9.13"
  },
  "orig_nbformat": 4,
  "vscode": {
   "interpreter": {
    "hash": "1db1b2e8567942dee12c64de01d929677cea7f86428756000840da4d34ce3db5"
   }
  }
 },
 "nbformat": 4,
 "nbformat_minor": 2
}
