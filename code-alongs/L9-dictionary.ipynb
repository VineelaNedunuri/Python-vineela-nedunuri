{
 "cells": [
  {
   "cell_type": "markdown",
   "metadata": {},
   "source": [
    "# Dictionary \n",
    "\n",
    "- datastructure that stores data in key:value pairs"
   ]
  },
  {
   "cell_type": "code",
   "execution_count": 17,
   "metadata": {},
   "outputs": [
    {
     "name": "stdout",
     "output_type": "stream",
     "text": [
      "person dictionary {'name': 'Vineela', 'age': 31, 'work': 'student', 'interests': ['math', 'yoga', 'programming', 'cooking', 'walking'], 'phone': 112}\n",
      "persons work: student\n",
      "persons age: 31\n",
      "persons interests: ['math', 'yoga', 'programming', 'cooking', 'walking']\n",
      "persons interests: ['math', 'yoga']\n",
      " Vineela likes math\n",
      " Vineela likes yoga\n",
      " Vineela likes programming\n",
      " Vineela likes cooking\n",
      " Vineela likes walking\n"
     ]
    }
   ],
   "source": [
    "# create a dictionary\n",
    "person = dict(\n",
    "    name = \"Vineela\", age = 31, work = \"student\", interests = [\"math\", \"yoga\",\"programming\",\"cooking\",\"walking\"], phone = 112\n",
    ")\n",
    "print(f\"person dictionary {person}\")\n",
    "print(f\"persons work: {person['work']}\")\n",
    "print(f\"persons age: {person['age']}\")\n",
    "print(f\"persons interests: {person['interests']}\")\n",
    "print(f\"persons interests: {person['interests'][:2]}\")\n",
    "\n",
    "for interest in person[\"interests\"]:\n",
    "    print(f\" Vineela likes {interest}\")"
   ]
  },
  {
   "cell_type": "code",
   "execution_count": 21,
   "metadata": {},
   "outputs": [
    {
     "name": "stdout",
     "output_type": "stream",
     "text": [
      "{'assign': 'assign a value to a variable', 'dictionary': 'datastructure to store data in key-vale pairs', 'method': 'a function bound to an object'}\n",
      "Vi ska lära oss de här glosorna \n",
      "\n",
      "assign  -  assign a value to a variable\n",
      "dictionary  -  datastructure to store data in key-vale pairs\n",
      "method  -  a function bound to an object\n"
     ]
    }
   ],
   "source": [
    "# create  dictionary with curly brace {}\n",
    "words = {\n",
    "    \"assign\": \"assign a value to a variable\",\n",
    "    \"dictionary\": \"datastructure to store data in key-vale pairs\",\n",
    "    \"method\": \"a function bound to an object\",\n",
    "}\n",
    "print(words)\n",
    "print(\"Vi ska lära oss de här glosorna \\n\")\n",
    "\n",
    "for key in words:\n",
    "    print(key, \" - \", words[key])\n"
   ]
  },
  {
   "cell_type": "code",
   "execution_count": 24,
   "metadata": {},
   "outputs": [
    {
     "name": "stdout",
     "output_type": "stream",
     "text": [
      "Glosor \n",
      "\n",
      "assign               assign a value to a variable\n",
      "dictionary           datastructure to store data in key-vale pairs\n",
      "method               a function bound to an object\n",
      "....................\n"
     ]
    }
   ],
   "source": [
    "print(\"Glosor \\n\")\n",
    "for key, value in words.items():\n",
    "    print(f\"{key:<20} {value}\") # :<20 -> right align with width 20\n",
    "\n",
    "print(\".\"*20)\n"
   ]
  },
  {
   "cell_type": "code",
   "execution_count": 1,
   "metadata": {},
   "outputs": [
    {
     "name": "stdout",
     "output_type": "stream",
     "text": [
      "{'F': 0, 'E': 10, 'D': 20, 'C': 30, 'B': 40, 'A': 50}\n",
      "{'F': '< 10', 'E': '> 10', 'D': 20, 'C': 30, 'B': 40, 'A': 50, 'course': 'programmering 1'}\n"
     ]
    }
   ],
   "source": [
    "# F < 10, E: 10, D:20, C:30, B:40, A:50\n",
    "\n",
    "# empty dictionary\n",
    "grade_limt = {}\n",
    "\n",
    "for i, character in enumerate(\"ABCDEF\"[::-1]):\n",
    "    grade_limt[character]= i*10\n",
    "\n",
    "print(grade_limt)\n",
    "\n",
    "# assign a new value that is associated with the key F\n",
    "grade_limt[\"F\"] = \"< 10\"\n",
    "grade_limt[\"course\"] = \"programmering 1\"\n",
    "grade_limt[\"E\"] = \"> 10\"\n",
    "print(grade_limt)"
   ]
  },
  {
   "cell_type": "markdown",
   "metadata": {},
   "source": [
    "## dictionary comprehension"
   ]
  },
  {
   "cell_type": "code",
   "execution_count": 46,
   "metadata": {},
   "outputs": [
    {
     "name": "stdout",
     "output_type": "stream",
     "text": [
      "[39, 59, 34, 45, 23, 36, 37, 46, 10, 49, 52, 21, 24, 40, 50, 23, 58, 19, 25, 44]\n",
      "grade_limt={'F': 0, 'E': 10, 'D': 20, 'C': 30, 'B': 40, 'A': 50}\n",
      "scores=[26, 23, 11, 1, 2, 16, 11, 38, 37, 27, 32, 36, 28, 48, 53, 49, 60, 43, 25, 10]\n",
      "{'F': 0, 'E': 0, 'D': 0, 'C': 0, 'B': 0, 'A': 0}\n",
      "{'F': 2, 'E': 4, 'D': 5, 'C': 4, 'B': 3, 'A': 1}\n"
     ]
    }
   ],
   "source": [
    "import random as rnd\n",
    "\n",
    "grade_limt = {grade: i*10 for i, grade in enumerate(\"ABCDEF\"[::-1])}\n",
    "\n",
    "def generate_scores(number_students):\n",
    "    rnd.seed(1337)\n",
    "    scores = [rnd.randint(0,60) for _ in range(20)]\n",
    "    return scores\n",
    "print(generate_scores(20))\n",
    "\n",
    "print(f\"{grade_limt=}\")\n",
    "print(f\"{scores=}\")\n",
    "\n",
    "# number of students in each grade category\n",
    "students_in_grade = {key: 0 for key in grade_limt }\n",
    "print(students_in_grade)\n",
    "\n",
    "for score in scores:\n",
    "    for grade, limit in grade_limt.items():\n",
    "        if limit <= score < limit+10:\n",
    "            students_in_grade[grade] += 1\n",
    "print(students_in_grade)"
   ]
  },
  {
   "cell_type": "code",
   "execution_count": 50,
   "metadata": {},
   "outputs": [
    {
     "data": {
      "text/plain": [
       "19"
      ]
     },
     "execution_count": 50,
     "metadata": {},
     "output_type": "execute_result"
    }
   ],
   "source": [
    "# check that all the students have been put into categories\n",
    "total_students = 0\n",
    "for _, number_students in students_in_grade.items():\n",
    "    total_students += number_students\n",
    "    \n",
    "total_students"
   ]
  }
 ],
 "metadata": {
  "kernelspec": {
   "display_name": "Python 3.9.13 ('Python-vineela-nedunuri-iPG0HSA5')",
   "language": "python",
   "name": "python3"
  },
  "language_info": {
   "codemirror_mode": {
    "name": "ipython",
    "version": 3
   },
   "file_extension": ".py",
   "mimetype": "text/x-python",
   "name": "python",
   "nbconvert_exporter": "python",
   "pygments_lexer": "ipython3",
   "version": "3.9.13"
  },
  "orig_nbformat": 4,
  "vscode": {
   "interpreter": {
    "hash": "1db1b2e8567942dee12c64de01d929677cea7f86428756000840da4d34ce3db5"
   }
  }
 },
 "nbformat": 4,
 "nbformat_minor": 2
}
