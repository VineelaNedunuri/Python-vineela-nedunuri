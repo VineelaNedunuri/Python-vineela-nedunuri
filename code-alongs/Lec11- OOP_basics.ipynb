{
 "cells": [
  {
   "cell_type": "markdown",
   "metadata": {},
   "source": [
    "## OOP basics"
   ]
  },
  {
   "cell_type": "code",
   "execution_count": 1,
   "metadata": {},
   "outputs": [
    {
     "data": {
      "text/plain": [
       "<__main__.person at 0x24cf122a250>"
      ]
     },
     "execution_count": 1,
     "metadata": {},
     "output_type": "execute_result"
    }
   ],
   "source": [
    "# created a class called person\n",
    "class person:\n",
    "    pass\n",
    "\n",
    "# instantiates an instance from the class person using the callable syntax()\n",
    "person1 = person()\n",
    "person1"
   ]
  },
  {
   "cell_type": "code",
   "execution_count": 2,
   "metadata": {},
   "outputs": [
    {
     "data": {
      "text/plain": [
       "'Ada'"
      ]
     },
     "execution_count": 2,
     "metadata": {},
     "output_type": "execute_result"
    }
   ],
   "source": [
    "# creates an instance sttribute on the fly\n",
    "person1.name = \"Ada\"\n",
    "person1.name"
   ]
  },
  {
   "cell_type": "code",
   "execution_count": 3,
   "metadata": {},
   "outputs": [
    {
     "data": {
      "text/plain": [
       "<__main__.person at 0x24cf122a850>"
      ]
     },
     "execution_count": 3,
     "metadata": {},
     "output_type": "execute_result"
    }
   ],
   "source": [
    "person2 = person()\n",
    "person2"
   ]
  },
  {
   "cell_type": "code",
   "execution_count": 4,
   "metadata": {},
   "outputs": [
    {
     "ename": "AttributeError",
     "evalue": "'person' object has no attribute 'name'",
     "output_type": "error",
     "traceback": [
      "\u001b[1;31m---------------------------------------------------------------------------\u001b[0m",
      "\u001b[1;31mAttributeError\u001b[0m                            Traceback (most recent call last)",
      "Cell \u001b[1;32mIn [4], line 1\u001b[0m\n\u001b[1;32m----> 1\u001b[0m \u001b[43mperson2\u001b[49m\u001b[38;5;241;43m.\u001b[39;49m\u001b[43mname\u001b[49m\n",
      "\u001b[1;31mAttributeError\u001b[0m: 'person' object has no attribute 'name'"
     ]
    }
   ],
   "source": [
    "person2.name\n"
   ]
  },
  {
   "cell_type": "markdown",
   "metadata": {},
   "source": [
    "## --init--()\n",
    "\n",
    "- dunder init method (special method)\n",
    "- intializer method that runs after the object has been created\n",
    "- used for setting initial values af attributes to an instance object"
   ]
  },
  {
   "cell_type": "code",
   "execution_count": 9,
   "metadata": {},
   "outputs": [
    {
     "name": "stdout",
     "output_type": "stream",
     "text": [
      "person1.name='kokchun'\n",
      "person2.name='Bella'\n",
      "person1.accept =True\n",
      "person2.accept=False\n",
      "Data science\n"
     ]
    },
    {
     "data": {
      "text/plain": [
       "Antagning('supa cool school', 'AI', 'kokchun', 'True')"
      ]
     },
     "execution_count": 9,
     "metadata": {},
     "output_type": "execute_result"
    }
   ],
   "source": [
    "class Antagning:\n",
    "    # initalizer\n",
    "    # for methods its a convention to have first argument as self\n",
    "    def __init__(self, school, program, name, accept):\n",
    "        # assigns arguments to instance attributes\n",
    "        self.school = school\n",
    "        self.program = program\n",
    "        self.name = name\n",
    "        self.accept = accept\n",
    "    # __repr__() a representation for the instance object -> used for other developers\n",
    "    # prononuciation : \" dunder repper\"\n",
    "    def __repr__(self):\n",
    "        return f\"Antagning('{self.school}', '{self.program}', '{self.name}', '{self.accept}')\"\n",
    "\n",
    "# when a method is called -> the instance itself is injected to the method as the first argument\n",
    "\n",
    "# here we inatantiate from the class Antagning\n",
    "person1 = Antagning(\"supa cool school\", \"AI\", \"kokchun\", accept = True)\n",
    "person2 = Antagning(\"Okay school\", \"Java\", \"Bella\", False)\n",
    "\n",
    "# accessed instance attributes using the dot notation\n",
    "print(f\"{person1.name=}\")\n",
    "print(f\"{person2.name=}\")\n",
    "\n",
    "\n",
    "print(f\"{person1.accept =}\")\n",
    "print(f\"{person2.accept=}\")\n",
    "\n",
    "# using the dot notation we change an instance attribute of person2\n",
    "person2.program = \"Data science\"\n",
    "print(f\"{person2.program}\")\n",
    "\n",
    "person1"
   ]
  },
  {
   "cell_type": "code",
   "execution_count": 10,
   "metadata": {},
   "outputs": [
    {
     "data": {
      "text/plain": [
       "Antagning('Okay school', 'Data science', 'Bella', 'False')"
      ]
     },
     "execution_count": 10,
     "metadata": {},
     "output_type": "execute_result"
    }
   ],
   "source": [
    "person2"
   ]
  },
  {
   "cell_type": "code",
   "execution_count": 11,
   "metadata": {},
   "outputs": [
    {
     "data": {
      "text/plain": [
       "[1, 2, 3]"
      ]
     },
     "execution_count": 11,
     "metadata": {},
     "output_type": "execute_result"
    }
   ],
   "source": [
    "# the __repe__ of list gives output[1,2,3]\n",
    "example_list = [1,2,3]\n",
    "example_list"
   ]
  },
  {
   "cell_type": "markdown",
   "metadata": {},
   "source": [
    "## Encapsulation\n",
    "\n",
    "- hide information that is used within the class, but should not be accessed from outside the class\n",
    "- So want to cretae some kind of interface between attributes within the class and outside to prevent from misuse\n",
    "- in many OOP languages, we can make attributes private, this is not possible in python\n",
    "- all attributes in python are public\n",
    "- in python: private by convention, use an underscore before the attribute, e.g: _name\n",
    "- also possible to use double underscore __name(symbol managing)"
   ]
  },
  {
   "cell_type": "code",
   "execution_count": 17,
   "metadata": {},
   "outputs": [
    {
     "name": "stdout",
     "output_type": "stream",
     "text": [
      "Patient(name = 'Ada', diagnosis='Influenza')\n",
      "Patient(name = 'Bella', diagnosis='Covid')\n",
      "Patient(name = 'Coda', diagnosis='Influenza')\n",
      "Patient(name = 'Coda', diagnosis='Influenza')\n",
      "{'_name': 'Coda', '_Patient__diagnosis': 'Influenza', '__diagnosis': 'Migraine'}\n"
     ]
    },
    {
     "data": {
      "text/plain": [
       "'Influenza'"
      ]
     },
     "execution_count": 17,
     "metadata": {},
     "output_type": "execute_result"
    }
   ],
   "source": [
    "class Patient:\n",
    "    def __init__(self, name, diagnosis):\n",
    "        self._name = name\n",
    "        self.__diagnosis = diagnosis\n",
    "    \n",
    "    def __repr__(self):\n",
    "       return f\"Patient(name = '{self._name}', diagnosis='{self.__diagnosis}')\"\n",
    "\n",
    "patient1 = Patient(\"Ada\", \"Influenza\")\n",
    "patient2 = Patient(\"Bella\", \"Covid\")\n",
    "\n",
    "print(patient1)\n",
    "print(patient2)\n",
    "\n",
    "# can access the private attribute, but really shouldnot\n",
    "patient1._name = \"Coda\"\n",
    "print(patient1)\n",
    "\n",
    "patient1.__diagnosis = \"Migraine\"\n",
    "print(patient1)\n",
    "\n",
    "print(patient1.__dict__)\n",
    "patient1._Patient__diagnosis"
   ]
  },
  {
   "cell_type": "code",
   "execution_count": 18,
   "metadata": {},
   "outputs": [
    {
     "data": {
      "text/plain": [
       "'Migraine'"
      ]
     },
     "execution_count": 18,
     "metadata": {},
     "output_type": "execute_result"
    }
   ],
   "source": [
    "patient1.__diagnosis"
   ]
  },
  {
   "cell_type": "code",
   "execution_count": 30,
   "metadata": {},
   "outputs": [
    {
     "name": "stdout",
     "output_type": "stream",
     "text": [
      "OldCoinsStash(owner = 'Ragnar Lothbroke)\n",
      "In stash: 0 riksdaler, 0 skillingar\n",
      "In stash: 20 riksdaler, 10 skillingar\n",
      "You can only deposit non- neagtive values\n",
      "In stash: 20 riksdaler, 10 skillingar\n",
      "Can not withdraw more than in stash \n"
     ]
    }
   ],
   "source": [
    "# another example \n",
    "class OldCoinsStash:\n",
    "    def __init__(self, owner):\n",
    "        self.owner = owner\n",
    "        # private attributes\n",
    "        self._riksdaler = 0\n",
    "        self._skilling = 0\n",
    "\n",
    "    def deposit(self, riksdaler, skilling):\n",
    "        if riksdaler < 0 or skilling < 0:\n",
    "            raise ValueError(f\"You can only deposit non- neagtive values\")\n",
    "        \n",
    "        self._riksdaler += riksdaler\n",
    "        self._skilling += skilling\n",
    "    \n",
    "    def withdraw(self, riksdaler, skilling):\n",
    "        if riksdaler > self._riksdaler or skilling > self._skilling:\n",
    "            raise ValueError(\"Can not withdraw more than in stash \")\n",
    "\n",
    "        # check also for negative values\n",
    "        self._riksdaler -= riksdaler\n",
    "        self._skilling -= skilling\n",
    "\n",
    "\n",
    "    def balance(self):\n",
    "        return f\"In stash: {self._riksdaler} riksdaler, {self._skilling} skillingar\"\n",
    "    \n",
    "    def __repr__(self):\n",
    "        return f\"OldCoinsStash(owner = '{self.owner})\"\n",
    "\n",
    "\n",
    "stash = OldCoinsStash(\"Ragnar Lothbroke\")\n",
    "print(stash)\n",
    "print(stash.balance())\n",
    "\n",
    "\n",
    "stash.deposit(20, 10)\n",
    "print(stash.balance())\n",
    "\n",
    "try:\n",
    "\n",
    "# can not deposit negative amount\n",
    "    stash.deposit(-5, 10)\n",
    "except ValueError as err:\n",
    "    print(err)\n",
    "print(stash.balance())\n",
    "\n",
    "try:\n",
    "    # cannot deposit negative amount\n",
    "    stash.withdraw(50, 10)\n",
    "except ValueError as err:\n",
    "    print(err)\n"
   ]
  },
  {
   "cell_type": "markdown",
   "metadata": {},
   "source": [
    "## Property\n",
    "\n",
    "- want to expose few to none bare attributes\n",
    "- when wanting to change attributes\n",
    "  - getter and setter (common in many other languages)\n",
    "  - in python make into property\n",
    "\n",
    "with property:\n",
    "- can include error handling\n",
    "- computed properties\n",
    "- can make read-only and write- only properties"
   ]
  },
  {
   "cell_type": "code",
   "execution_count": 1,
   "metadata": {},
   "outputs": [
    {
     "name": "stdout",
     "output_type": "stream",
     "text": [
      "Help on class Student in module __main__:\n",
      "\n",
      "class Student(builtins.object)\n",
      " |  Student class for representing students with name, age and activity\n",
      " |  \n",
      " |  Data descriptors defined here:\n",
      " |  \n",
      " |  __dict__\n",
      " |      dictionary for instance variables (if defined)\n",
      " |  \n",
      " |  __weakref__\n",
      " |      list of weak references to the object (if defined)\n",
      "\n"
     ]
    }
   ],
   "source": [
    "class Student:\n",
    "    \"\"\"Student class for representing students with name, age and activity \"\"\"\n",
    "help(Student)"
   ]
  },
  {
   "cell_type": "code",
   "execution_count": 3,
   "metadata": {},
   "outputs": [
    {
     "ename": "",
     "evalue": "",
     "output_type": "error",
     "traceback": [
      "\u001b[1;31mCanceled future for execute_request message before replies were done"
     ]
    },
    {
     "ename": "",
     "evalue": "",
     "output_type": "error",
     "traceback": [
      "\u001b[1;31mThe Kernel crashed while executing code in the the current cell or a previous cell. Please review the code in the cell(s) to identify a possible cause of the failure. Click <a href='https://aka.ms/vscodeJupyterKernelCrash'>here</a> for more info. View Jupyter <a href='command:jupyter.viewOutput'>log</a> for further details."
     ]
    }
   ],
   "source": [
    "class Student:\n",
    "    \"\"\"Student class for representing students with name, age and activity \"\"\" # docstring\n",
    "   # class attribute\n",
    "    number_studenrs = 0\n",
    "   \n",
    "   \n",
    "    # note type hinting\n",
    "    def __init__(self, name: str, age: int, active: bool) -> None:\n",
    "        # instance attributes\n",
    "        self._name = name\n",
    "        self.age = age\n",
    "        self.active = active\n",
    "        Student.number_studenrs += 1\n",
    "\n",
    "\n",
    " # read only property- @symbol makes it into a decorator\n",
    " # read only because we have not defined a setter\n",
    "# read-only property - @ symbol makes it into a decorator\n",
    "    @property\n",
    "    def name(self) -> str: \n",
    "        \"\"\"Read-only property, we can't write to name\"\"\"\n",
    "        return self._name\n",
    "\n",
    "    @property\n",
    "    def age(self) -> int:\n",
    "        print(\"age getter is running .....\")\n",
    "        return self.age\n",
    "\n",
    "# setter\n",
    "    @age.setter\n",
    "    def age(self, value: int):\n",
    "        \"\"\"Setter for age with error handling\"\"\"\n",
    "        print(\"age getter is running .....\")\n",
    "\n",
    "    # validation code\n",
    "        if not isinstance(value, int):\n",
    "            raise TypeError(f\"Age must be an int, not {type(value)}\")\n",
    "    \n",
    "        if not (0 <= value <= 125):\n",
    "            raise ValueError(\"Age must be etween 0 and 125\")\n",
    "    \n",
    "        self.age = value\n",
    "\n",
    "student1 = Student(\"David\",30, True)\n",
    "student1.name = \"Ella\"\n",
    "\n",
    "\n",
    "    \n",
    "\n",
    "    "
   ]
  },
  {
   "cell_type": "code",
   "execution_count": 2,
   "metadata": {},
   "outputs": [
    {
     "name": "stdout",
     "output_type": "stream",
     "text": [
      "age setter is running\n"
     ]
    },
    {
     "ename": "AttributeError",
     "evalue": "can't set attribute",
     "output_type": "error",
     "traceback": [
      "\u001b[1;31m---------------------------------------------------------------------------\u001b[0m",
      "\u001b[1;31mAttributeError\u001b[0m                            Traceback (most recent call last)",
      "Cell \u001b[1;32mIn [2], line 1\u001b[0m\n\u001b[1;32m----> 1\u001b[0m \u001b[38;5;28;01mclass\u001b[39;00m \u001b[38;5;21;01mStudent\u001b[39;00m:\n\u001b[0;32m      2\u001b[0m     \u001b[38;5;124;03m\"\"\"Student class for representing students with name, age and activity\"\"\"\u001b[39;00m \u001b[38;5;66;03m# docstring\u001b[39;00m\n\u001b[0;32m      3\u001b[0m      \u001b[38;5;66;03m# class attribute\u001b[39;00m\n",
      "Cell \u001b[1;32mIn [2], line 44\u001b[0m, in \u001b[0;36mStudent\u001b[1;34m()\u001b[0m\n\u001b[0;32m     40\u001b[0m     \u001b[38;5;28mself\u001b[39m\u001b[38;5;241m.\u001b[39m_age \u001b[38;5;241m=\u001b[39m value\n\u001b[0;32m     43\u001b[0m student1 \u001b[38;5;241m=\u001b[39m Student(\u001b[38;5;124m\"\u001b[39m\u001b[38;5;124mDavid\u001b[39m\u001b[38;5;124m\"\u001b[39m, \u001b[38;5;241m30\u001b[39m, \u001b[38;5;28;01mTrue\u001b[39;00m)\n\u001b[1;32m---> 44\u001b[0m \u001b[43mstudent1\u001b[49m\u001b[38;5;241;43m.\u001b[39;49m\u001b[43mname\u001b[49m \u001b[38;5;241m=\u001b[39m \u001b[38;5;124m\"\u001b[39m\u001b[38;5;124mElla\u001b[39m\u001b[38;5;124m\"\u001b[39m\n",
      "\u001b[1;31mAttributeError\u001b[0m: can't set attribute"
     ]
    }
   ],
   "source": [
    "class Student:\n",
    "    \"\"\"Student class for representing students with name, age and activity\"\"\" # docstring\n",
    "     # class attribute\n",
    "    number_studenrs = 0\n",
    "   \n",
    "\n",
    "    # note type hinting\n",
    "    def __init__(self, name: str, age: int, active: bool) -> None:\n",
    "        self._name = name\n",
    "        self.age = age\n",
    "        self.active = active\n",
    "        Student.number_studenrs += 1\n",
    "\n",
    "    # read-only property - @ symbol makes it into a decorator\n",
    "    @property\n",
    "    def name(self) -> str: \n",
    "        \"\"\"Read-only property, we can't write to name\"\"\"\n",
    "        return self._name\n",
    "    \n",
    "    # getter\n",
    "    @property\n",
    "    def age(self) -> int:\n",
    "        print(\"age getter is running .... \")\n",
    "        return self._age\n",
    "    \n",
    "    # setter\n",
    "    @age.setter\n",
    "    def age(self, value: int):\n",
    "        \"\"\"Setter for age with error handling\"\"\"\n",
    "\n",
    "        print(\"age setter is running\")\n",
    "\n",
    "        # validation code\n",
    "        if not isinstance(value, int):\n",
    "            raise TypeError(f\"Age must be an int, not {type(value)}\")\n",
    "        \n",
    "        if not (0 <= value <= 125):\n",
    "            raise ValueError(\"Age must be between 0 and 125\")\n",
    "        \n",
    "        self._age = value\n",
    "\n",
    "\n",
    "    student1 = Student(\"David\", 30, True)\n",
    "    student1.name = \"Ella\""
   ]
  },
  {
   "cell_type": "code",
   "execution_count": null,
   "metadata": {},
   "outputs": [],
   "source": []
  },
  {
   "cell_type": "code",
   "execution_count": 33,
   "metadata": {},
   "outputs": [
    {
     "data": {
      "text/plain": [
       "<__main__.Student at 0x24cf12a1c70>"
      ]
     },
     "execution_count": 33,
     "metadata": {},
     "output_type": "execute_result"
    }
   ],
   "source": [
    "Student(\"Meda\", -5, False)"
   ]
  },
  {
   "cell_type": "code",
   "execution_count": null,
   "metadata": {},
   "outputs": [],
   "source": []
  }
 ],
 "metadata": {
  "kernelspec": {
   "display_name": "Python 3.9.13 ('Python-vineela-nedunuri-iPG0HSA5')",
   "language": "python",
   "name": "python3"
  },
  "language_info": {
   "codemirror_mode": {
    "name": "ipython",
    "version": 3
   },
   "file_extension": ".py",
   "mimetype": "text/x-python",
   "name": "python",
   "nbconvert_exporter": "python",
   "pygments_lexer": "ipython3",
   "version": "3.9.13"
  },
  "orig_nbformat": 4,
  "vscode": {
   "interpreter": {
    "hash": "1db1b2e8567942dee12c64de01d929677cea7f86428756000840da4d34ce3db5"
   }
  }
 },
 "nbformat": 4,
 "nbformat_minor": 2
}
