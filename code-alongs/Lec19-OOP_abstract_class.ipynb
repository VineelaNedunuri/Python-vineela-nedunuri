{
 "cells": [
  {
   "cell_type": "markdown",
   "metadata": {},
   "source": [
    "## Abstract classes\n",
    "\n",
    "3 developers, the task is to implement a photosynthesis methos for 3 different plants"
   ]
  },
  {
   "cell_type": "code",
   "execution_count": 2,
   "metadata": {},
   "outputs": [
    {
     "name": "stdout",
     "output_type": "stream",
     "text": [
      "Venus eating bugs\n",
      "venusFlyTrap does photosynthesis\n"
     ]
    }
   ],
   "source": [
    "# developer 1\n",
    "class venusFlyTrap:\n",
    "    def venus_photosynthesis(self):\n",
    "        print(\"Venus eating bugs\")\n",
    "        # checks the instance class and its name\n",
    "        print(f\"{self.__class__.__name__} does photosynthesis\")\n",
    "\n",
    "# developr 2\n",
    "class Monstera:\n",
    "    def monstera_photosynthesis(self):\n",
    "        print(\"Monstera looking cool...\")\n",
    "        print(f\"{self.__class__.__name__} does photosynthesis\")\n",
    "\n",
    "# developr 3\n",
    "class MoneyPlant:\n",
    "    def photosynthesis(self):\n",
    "        print(\"Money hopefully comes in...\")\n",
    "        print(f\"{self.__class__.__name__} does photosynthesis\")\n",
    "\n",
    "\n",
    "\n",
    "venus  = venusFlyTrap()\n",
    "venus.venus_photosynthesis()"
   ]
  },
  {
   "cell_type": "code",
   "execution_count": 3,
   "metadata": {},
   "outputs": [
    {
     "ename": "AttributeError",
     "evalue": "'venusFlyTrap' object has no attribute 'photosynthesis'",
     "output_type": "error",
     "traceback": [
      "\u001b[1;31m---------------------------------------------------------------------------\u001b[0m",
      "\u001b[1;31mAttributeError\u001b[0m                            Traceback (most recent call last)",
      "Cell \u001b[1;32mIn [3], line 4\u001b[0m\n\u001b[0;32m      2\u001b[0m plants \u001b[39m=\u001b[39m (venusFlyTrap(), Monstera(), MoneyPlant())\n\u001b[0;32m      3\u001b[0m \u001b[39mfor\u001b[39;00m plant \u001b[39min\u001b[39;00m plants:\n\u001b[1;32m----> 4\u001b[0m     plant\u001b[39m.\u001b[39;49mphotosynthesis()\n",
      "\u001b[1;31mAttributeError\u001b[0m: 'venusFlyTrap' object has no attribute 'photosynthesis'"
     ]
    }
   ],
   "source": [
    "# want to use polymorphism and loop through these plants\n",
    "plants = (venusFlyTrap(), Monstera(), MoneyPlant())\n",
    "for plant in plants:\n",
    "    plant.photosynthesis()"
   ]
  },
  {
   "cell_type": "markdown",
   "metadata": {},
   "source": [
    "## ABC - abstract base class\n",
    "\n",
    "-  can make a base class abstract by giving it at least 1 abstract method\n",
    "- cannot instantiate from an abstract class\n",
    "- subclasses of this abstract class, must implement the abstract methods in order to  be instantiable"
   ]
  },
  {
   "cell_type": "code",
   "execution_count": 4,
   "metadata": {},
   "outputs": [
    {
     "ename": "TypeError",
     "evalue": "'venusFlyTrap' object is not callable",
     "output_type": "error",
     "traceback": [
      "\u001b[1;31m---------------------------------------------------------------------------\u001b[0m",
      "\u001b[1;31mTypeError\u001b[0m                                 Traceback (most recent call last)",
      "Cell \u001b[1;32mIn [4], line 10\u001b[0m\n\u001b[0;32m      7\u001b[0m         \u001b[39mpass\u001b[39;00m\n\u001b[0;32m      9\u001b[0m \u001b[39m# can't instantiate from an abstract class, a class is abstractif it has an abstract method\u001b[39;00m\n\u001b[1;32m---> 10\u001b[0m planty \u001b[39m=\u001b[39m plant()\n",
      "\u001b[1;31mTypeError\u001b[0m: 'venusFlyTrap' object is not callable"
     ]
    }
   ],
   "source": [
    "from abc import abstractclassmethod, ABC, abstractmethod\n",
    "\n",
    "# the abstract class must inherit from ABC - abstract base class\n",
    "class Plant(ABC):\n",
    "    @abstractmethod\n",
    "    def photosynthesis(self):\n",
    "        pass\n",
    "\n",
    "# can't instantiate from an abstract class, a class is abstractif it has an abstract method\n",
    "planty = plant()"
   ]
  },
  {
   "cell_type": "code",
   "execution_count": 8,
   "metadata": {},
   "outputs": [
    {
     "name": "stdout",
     "output_type": "stream",
     "text": [
      "<__main__.MoneyPlant object at 0x0000017CBA589400>\n"
     ]
    },
    {
     "ename": "TypeError",
     "evalue": "Can't instantiate abstract class Monstera with abstract method photosynthesis",
     "output_type": "error",
     "traceback": [
      "\u001b[1;31m---------------------------------------------------------------------------\u001b[0m",
      "\u001b[1;31mTypeError\u001b[0m                                 Traceback (most recent call last)",
      "Cell \u001b[1;32mIn [8], line 31\u001b[0m\n\u001b[0;32m     28\u001b[0m monet \u001b[39m=\u001b[39m MoneyPlant()\n\u001b[0;32m     29\u001b[0m \u001b[39mprint\u001b[39m(monet)\n\u001b[1;32m---> 31\u001b[0m monsteru \u001b[39m=\u001b[39m Monstera()\n",
      "\u001b[1;31mTypeError\u001b[0m: Can't instantiate abstract class Monstera with abstract method photosynthesis"
     ]
    }
   ],
   "source": [
    "from abc import abstractclassmethod, ABC, abstractmethod\n",
    "\n",
    "# the abstract class must inherit from ABC - abstract base class\n",
    "class Plant(ABC):\n",
    "    @abstractmethod\n",
    "    def photosynthesis(self):\n",
    "        pass\n",
    "\n",
    "# developer 1\n",
    "class venusFlyTrap(Plant):\n",
    "    def venus_photosynthesis(self):\n",
    "        print(\"Venus eating bugs\")\n",
    "        # checks the instance class and its name\n",
    "        print(f\"{self.__class__.__name__} does photosynthesis\")\n",
    "\n",
    "# developr 2\n",
    "class Monstera(Plant):\n",
    "    def monstera_photosynthesis(self):\n",
    "        print(\"Monstera looking cool...\")\n",
    "        print(f\"{self.__class__.__name__} does photosynthesis\")\n",
    "\n",
    "# developr 3\n",
    "class MoneyPlant(Plant):\n",
    "    def photosynthesis(self):\n",
    "        print(\"Money hopefully comes in...\")\n",
    "        print(f\"{self.__class__.__name__} does photosynthesis\")\n",
    "\n",
    "monet = MoneyPlant()\n",
    "print(monet)\n",
    "\n",
    "# we inherit from Plant, so Monstera has a method called photosynthesis that is abstract, which makes Monstera abstract\n",
    "monsteru = Monstera()\n"
   ]
  },
  {
   "cell_type": "code",
   "execution_count": 9,
   "metadata": {},
   "outputs": [
    {
     "name": "stdout",
     "output_type": "stream",
     "text": [
      "Monstera looking cool...\n",
      "Monstera does photosynthesis\n",
      "Money hopefully comes in...\n",
      "MoneyPlant does photosynthesis\n",
      "Venus eating bugs\n",
      "venusFlyTrap does photosynthesis\n"
     ]
    }
   ],
   "source": [
    "from abc import abstractclassmethod, ABC, abstractmethod\n",
    "\n",
    "# the abstract class must inherit from ABC - abstract base class\n",
    "class Plant(ABC):\n",
    "    @abstractmethod\n",
    "    def photosynthesis(self):\n",
    "        pass\n",
    "\n",
    "# developer 1\n",
    "class venusFlyTrap(Plant):\n",
    "    def photosynthesis(self):\n",
    "        print(\"Venus eating bugs\")\n",
    "        # checks the instance class and its name\n",
    "        print(f\"{self.__class__.__name__} does photosynthesis\")\n",
    "\n",
    "# developr 2\n",
    "class Monstera(Plant):\n",
    "    def photosynthesis(self):\n",
    "        print(\"Monstera looking cool...\")\n",
    "        print(f\"{self.__class__.__name__} does photosynthesis\")\n",
    "\n",
    "# developr 3\n",
    "class MoneyPlant(Plant):\n",
    "    def photosynthesis(self):\n",
    "        print(\"Money hopefully comes in...\")\n",
    "        print(f\"{self.__class__.__name__} does photosynthesis\")\n",
    "\n",
    "monet = MoneyPlant()\n",
    "\n",
    "\n",
    "# we inherit from Plant, so Monstera has a method called photosynthesis that is abstract, which makes Monstera abstract\n",
    "monsteru = Monstera()\n",
    "\n",
    "venus = venusFlyTrap()\n",
    "for plant in (monsteru, monet, venus):\n",
    "    plant.photosynthesis()\n"
   ]
  }
 ],
 "metadata": {
  "kernelspec": {
   "display_name": "Python 3.9.13 ('Python-vineela-nedunuri-iPG0HSA5')",
   "language": "python",
   "name": "python3"
  },
  "language_info": {
   "codemirror_mode": {
    "name": "ipython",
    "version": 3
   },
   "file_extension": ".py",
   "mimetype": "text/x-python",
   "name": "python",
   "nbconvert_exporter": "python",
   "pygments_lexer": "ipython3",
   "version": "3.9.13"
  },
  "orig_nbformat": 4,
  "vscode": {
   "interpreter": {
    "hash": "1db1b2e8567942dee12c64de01d929677cea7f86428756000840da4d34ce3db5"
   }
  }
 },
 "nbformat": 4,
 "nbformat_minor": 2
}
