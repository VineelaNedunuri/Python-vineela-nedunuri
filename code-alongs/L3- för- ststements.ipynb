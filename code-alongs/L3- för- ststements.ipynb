{
 "cells": [
  {
   "cell_type": "markdown",
   "metadata": {},
   "source": [
    "# for loop"
   ]
  },
  {
   "cell_type": "code",
   "execution_count": 1,
   "metadata": {},
   "outputs": [
    {
     "name": "stdout",
     "output_type": "stream",
     "text": [
      "1 hej\n",
      "1 hej\n",
      "1 hej\n",
      "1 hej\n",
      "1 hej\n"
     ]
    }
   ],
   "source": [
    "for i in range(5):\n",
    "    print(1, \"hej\")\n",
    "# i andra språk\n",
    "# for (int i *0, i <5, i++)(\n",
    "#  statements\n",
    "# )"
   ]
  },
  {
   "cell_type": "code",
   "execution_count": null,
   "metadata": {},
   "outputs": [],
   "source": [
    "for i in range(10):\n",
    "    print(i, end * \"\\t\")"
   ]
  },
  {
   "cell_type": "code",
   "execution_count": 3,
   "metadata": {},
   "outputs": [
    {
     "name": "stdout",
     "output_type": "stream",
     "text": [
      " 0+1+2´...+9 = 45\n"
     ]
    }
   ],
   "source": [
    "my_sum = 0\n",
    "\n",
    "for i in range(10):\n",
    "    my_sum += i\n",
    "print(f\" 0+1+2´...+9 = {my_sum}\")\n"
   ]
  },
  {
   "cell_type": "markdown",
   "metadata": {},
   "source": [
    "# Loop through list"
   ]
  },
  {
   "cell_type": "code",
   "execution_count": 9,
   "metadata": {},
   "outputs": [
    {
     "name": "stdout",
     "output_type": "stream",
     "text": [
      "rabbit is cute\n",
      "guinea pig is cute\n",
      "cat is cute\n",
      "guppy is cute\n"
     ]
    }
   ],
   "source": [
    "cute_animals =[ \"rabbit\", \"guinea pig\", \"cat\", \"guppy\"] \n",
    "for animal in cute_animals:\n",
    "    print(f\"{animal} is cute\")"
   ]
  },
  {
   "cell_type": "markdown",
   "metadata": {},
   "source": [
    "# random module"
   ]
  },
  {
   "cell_type": "code",
   "execution_count": 8,
   "metadata": {},
   "outputs": [
    {
     "name": "stdout",
     "output_type": "stream",
     "text": [
      "number_sixes =16817\n",
      "proportion of sixes 0.16817\n"
     ]
    }
   ],
   "source": [
    "import random as rnd\n",
    "dice = rnd.randint(1,6)\n",
    "number_sixes = 0\n",
    "number_rolls = 100000\n",
    "for i in range(number_rolls):\n",
    "    dice = rnd.randint(1,6)\n",
    "    if dice == 6:\n",
    "        number_sixes += 1\n",
    "print(f\"{number_sixes =}\")\n",
    "print(f\"proportion of sixes {number_sixes/number_rolls}\")\n",
    "#why does it seem to converge 0.166..."
   ]
  },
  {
   "cell_type": "markdown",
   "metadata": {},
   "source": [
    "# Pasta\n",
    "\n",
    "nationella prov ma3c ht.14 - uppgift 18"
   ]
  },
  {
   "cell_type": "code",
   "execution_count": 11,
   "metadata": {},
   "outputs": [
    {
     "name": "stdout",
     "output_type": "stream",
     "text": [
      "År 2016 är pastakonsumptionen 15kg/person per år\n"
     ]
    }
   ],
   "source": [
    " # a årtal som den årliga pastkonsumtionen blir 15kg per person\n",
    " import math\n",
    "\n",
    "\n",
    "for year in range(10000) :\n",
    "    pasta_konsumtion = 0.791 * math.exp(.0526*year)\n",
    "    if pasta_konsumtion >= 15:\n",
    "        print(f\"År {year+1960} är pastakonsumptionen 15kg/person per år\")\n",
    "        break \n"
   ]
  },
  {
   "cell_type": "code",
   "execution_count": 12,
   "metadata": {},
   "outputs": [
    {
     "ename": "SyntaxError",
     "evalue": "invalid syntax (2020944088.py, line 3)",
     "output_type": "error",
     "traceback": [
      "\u001b[1;36m  Input \u001b[1;32mIn [12]\u001b[1;36m\u001b[0m\n\u001b[1;33m    import matplotlib.pyplot sa plt\u001b[0m\n\u001b[1;37m                             ^\u001b[0m\n\u001b[1;31mSyntaxError\u001b[0m\u001b[1;31m:\u001b[0m invalid syntax\n"
     ]
    }
   ],
   "source": [
    "# b)\n",
    "\n",
    "import matplotlib.pyplot sa plt\n",
    "pasta_per_year = []\n",
    "\n",
    "for year in range (140):\n",
    "    pasta_konsumtion = 0.791 * math.exp(.0526*year)\n",
    "    # append -adds an element to the list\n",
    "    pasta_per_year.append(pasta_konsumtion)\n",
    "\n",
    "plt.plot(range(1960, 2100), pasta_per_year)\n",
    "plt.xlabel (\"År\")\n",
    "plt.ylabel(\"pasta konsumption i kg\")\n",
    "plt.title(\"pasta konsumption/kg per person per år från 1960\")\n",
    "\n",
    "plt.show()\n",
    "print(\"Supermycket PASTA\")"
   ]
  },
  {
   "cell_type": "markdown",
   "metadata": {},
   "source": [
    "## Nested loops\n",
    "\n",
    "a loop in * loop\n",
    ".......\n",
    "\n",
    "(1,1)(1,2)(1,3)\n",
    "\n",
    "(2,1)(2,2)(2,3)\n",
    "\n",
    "(3,1)(3,2)(3,3)\n"
   ]
  },
  {
   "cell_type": "code",
   "execution_count": 15,
   "metadata": {},
   "outputs": [
    {
     "name": "stdout",
     "output_type": "stream",
     "text": [
      "(1, 1) (1, 2) (1, 3) \n",
      "(2, 1) (2, 2) (2, 3) \n",
      "(3, 1) (3, 2) (3, 3) \n"
     ]
    }
   ],
   "source": [
    "for row in range(1,4):\n",
    "    for col in range(1,4):\n",
    "        print(f\"({row}, {col})\", end=\" \")\n",
    "    print() # new line"
   ]
  }
 ],
 "metadata": {
  "kernelspec": {
   "display_name": "Python 3.9.13 ('Python-vineela-nedunuri-iPG0HSA5')",
   "language": "python",
   "name": "python3"
  },
  "language_info": {
   "codemirror_mode": {
    "name": "ipython",
    "version": 3
   },
   "file_extension": ".py",
   "mimetype": "text/x-python",
   "name": "python",
   "nbconvert_exporter": "python",
   "pygments_lexer": "ipython3",
   "version": "3.9.13"
  },
  "orig_nbformat": 4,
  "vscode": {
   "interpreter": {
    "hash": "1db1b2e8567942dee12c64de01d929677cea7f86428756000840da4d34ce3db5"
   }
  }
 },
 "nbformat": 4,
 "nbformat_minor": 2
}
