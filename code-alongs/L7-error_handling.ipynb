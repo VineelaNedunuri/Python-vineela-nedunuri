{
 "cells": [
  {
   "cell_type": "markdown",
   "metadata": {},
   "source": [
    "# Errors"
   ]
  },
  {
   "cell_type": "markdown",
   "metadata": {},
   "source": [
    "- syntax error - pythonparser donot understand the code\n",
    "- logical error - error that occurs when program runs by giving wrong results\n",
    "- Exception error -error detected during execution"
   ]
  },
  {
   "cell_type": "code",
   "execution_count": 1,
   "metadata": {},
   "outputs": [
    {
     "ename": "NameError",
     "evalue": "name 'prin' is not defined",
     "output_type": "error",
     "traceback": [
      "\u001b[1;31m---------------------------------------------------------------------------\u001b[0m",
      "\u001b[1;31mNameError\u001b[0m                                 Traceback (most recent call last)",
      "\u001b[1;32mc:\\Users\\vinee\\Documents\\Github\\Python-vineela-nedunuri\\code-alongs\\L7-error_handling.ipynb Cell 2\u001b[0m in \u001b[0;36m<cell line: 1>\u001b[1;34m()\u001b[0m\n\u001b[1;32m----> <a href='vscode-notebook-cell:/c%3A/Users/vinee/Documents/Github/Python-vineela-nedunuri/code-alongs/L7-error_handling.ipynb#W0sZmlsZQ%3D%3D?line=0'>1</a>\u001b[0m prin(\u001b[39m\"\u001b[39m\u001b[39mhej hej\u001b[39m\u001b[39m\"\u001b[39m)\n",
      "\u001b[1;31mNameError\u001b[0m: name 'prin' is not defined"
     ]
    }
   ],
   "source": [
    "prin(\"hej hej\")\n"
   ]
  },
  {
   "cell_type": "code",
   "execution_count": 2,
   "metadata": {},
   "outputs": [
    {
     "name": "stdout",
     "output_type": "stream",
     "text": [
      "hej den här koden fungerar\n"
     ]
    }
   ],
   "source": [
    "print(\"hej den här koden fungerar\")"
   ]
  },
  {
   "cell_type": "code",
   "execution_count": 3,
   "metadata": {},
   "outputs": [
    {
     "ename": "SyntaxError",
     "evalue": "invalid syntax (999257065.py, line 2)",
     "output_type": "error",
     "traceback": [
      "\u001b[1;36m  Input \u001b[1;32mIn [3]\u001b[1;36m\u001b[0m\n\u001b[1;33m    print(då)\u001b[0m\n\u001b[1;37m    ^\u001b[0m\n\u001b[1;31mSyntaxError\u001b[0m\u001b[1;31m:\u001b[0m invalid syntax\n"
     ]
    }
   ],
   "source": [
    "print(\"hej\"\n",
    "print(då)"
   ]
  },
  {
   "cell_type": "markdown",
   "metadata": {},
   "source": [
    "## Traceback"
   ]
  },
  {
   "cell_type": "code",
   "execution_count": 6,
   "metadata": {},
   "outputs": [
    {
     "name": "stdout",
     "output_type": "stream",
     "text": [
      "start function 1\n",
      "start function 2\n",
      "start function 3\n"
     ]
    },
    {
     "ename": "ZeroDivisionError",
     "evalue": "division by zero",
     "output_type": "error",
     "traceback": [
      "\u001b[1;31m---------------------------------------------------------------------------\u001b[0m",
      "\u001b[1;31mZeroDivisionError\u001b[0m                         Traceback (most recent call last)",
      "\u001b[1;32mc:\\Users\\vinee\\Documents\\Github\\Python-vineela-nedunuri\\code-alongs\\L7-error_handling.ipynb Cell 5\u001b[0m in \u001b[0;36m<cell line: 11>\u001b[1;34m()\u001b[0m\n\u001b[0;32m      <a href='vscode-notebook-cell:/c%3A/Users/vinee/Documents/Github/Python-vineela-nedunuri/code-alongs/L7-error_handling.ipynb#W4sZmlsZQ%3D%3D?line=8'>9</a>\u001b[0m     \u001b[39mprint\u001b[39m(\u001b[39m\"\u001b[39m\u001b[39mstart function 3\u001b[39m\u001b[39m\"\u001b[39m)\n\u001b[0;32m     <a href='vscode-notebook-cell:/c%3A/Users/vinee/Documents/Github/Python-vineela-nedunuri/code-alongs/L7-error_handling.ipynb#W4sZmlsZQ%3D%3D?line=9'>10</a>\u001b[0m     \u001b[39m3\u001b[39m\u001b[39m/\u001b[39m\u001b[39m0\u001b[39m\n\u001b[1;32m---> <a href='vscode-notebook-cell:/c%3A/Users/vinee/Documents/Github/Python-vineela-nedunuri/code-alongs/L7-error_handling.ipynb#W4sZmlsZQ%3D%3D?line=10'>11</a>\u001b[0m func1()\n",
      "\u001b[1;32mc:\\Users\\vinee\\Documents\\Github\\Python-vineela-nedunuri\\code-alongs\\L7-error_handling.ipynb Cell 5\u001b[0m in \u001b[0;36mfunc1\u001b[1;34m()\u001b[0m\n\u001b[0;32m      <a href='vscode-notebook-cell:/c%3A/Users/vinee/Documents/Github/Python-vineela-nedunuri/code-alongs/L7-error_handling.ipynb#W4sZmlsZQ%3D%3D?line=0'>1</a>\u001b[0m \u001b[39mdef\u001b[39;00m \u001b[39mfunc1\u001b[39m():\n\u001b[0;32m      <a href='vscode-notebook-cell:/c%3A/Users/vinee/Documents/Github/Python-vineela-nedunuri/code-alongs/L7-error_handling.ipynb#W4sZmlsZQ%3D%3D?line=1'>2</a>\u001b[0m     \u001b[39mprint\u001b[39m(\u001b[39m\"\u001b[39m\u001b[39mstart function 1\u001b[39m\u001b[39m\"\u001b[39m)\n\u001b[1;32m----> <a href='vscode-notebook-cell:/c%3A/Users/vinee/Documents/Github/Python-vineela-nedunuri/code-alongs/L7-error_handling.ipynb#W4sZmlsZQ%3D%3D?line=2'>3</a>\u001b[0m     func2()\n",
      "\u001b[1;32mc:\\Users\\vinee\\Documents\\Github\\Python-vineela-nedunuri\\code-alongs\\L7-error_handling.ipynb Cell 5\u001b[0m in \u001b[0;36mfunc2\u001b[1;34m()\u001b[0m\n\u001b[0;32m      <a href='vscode-notebook-cell:/c%3A/Users/vinee/Documents/Github/Python-vineela-nedunuri/code-alongs/L7-error_handling.ipynb#W4sZmlsZQ%3D%3D?line=3'>4</a>\u001b[0m \u001b[39mdef\u001b[39;00m \u001b[39mfunc2\u001b[39m():\n\u001b[0;32m      <a href='vscode-notebook-cell:/c%3A/Users/vinee/Documents/Github/Python-vineela-nedunuri/code-alongs/L7-error_handling.ipynb#W4sZmlsZQ%3D%3D?line=4'>5</a>\u001b[0m     \u001b[39mprint\u001b[39m(\u001b[39m\"\u001b[39m\u001b[39mstart function 2\u001b[39m\u001b[39m\"\u001b[39m)\n\u001b[1;32m----> <a href='vscode-notebook-cell:/c%3A/Users/vinee/Documents/Github/Python-vineela-nedunuri/code-alongs/L7-error_handling.ipynb#W4sZmlsZQ%3D%3D?line=5'>6</a>\u001b[0m     func3()\n",
      "\u001b[1;32mc:\\Users\\vinee\\Documents\\Github\\Python-vineela-nedunuri\\code-alongs\\L7-error_handling.ipynb Cell 5\u001b[0m in \u001b[0;36mfunc3\u001b[1;34m()\u001b[0m\n\u001b[0;32m      <a href='vscode-notebook-cell:/c%3A/Users/vinee/Documents/Github/Python-vineela-nedunuri/code-alongs/L7-error_handling.ipynb#W4sZmlsZQ%3D%3D?line=7'>8</a>\u001b[0m \u001b[39mdef\u001b[39;00m \u001b[39mfunc3\u001b[39m():\n\u001b[0;32m      <a href='vscode-notebook-cell:/c%3A/Users/vinee/Documents/Github/Python-vineela-nedunuri/code-alongs/L7-error_handling.ipynb#W4sZmlsZQ%3D%3D?line=8'>9</a>\u001b[0m     \u001b[39mprint\u001b[39m(\u001b[39m\"\u001b[39m\u001b[39mstart function 3\u001b[39m\u001b[39m\"\u001b[39m)\n\u001b[1;32m---> <a href='vscode-notebook-cell:/c%3A/Users/vinee/Documents/Github/Python-vineela-nedunuri/code-alongs/L7-error_handling.ipynb#W4sZmlsZQ%3D%3D?line=9'>10</a>\u001b[0m     \u001b[39m3\u001b[39;49m\u001b[39m/\u001b[39;49m\u001b[39m0\u001b[39;49m\n",
      "\u001b[1;31mZeroDivisionError\u001b[0m: division by zero"
     ]
    }
   ],
   "source": [
    "def func1():\n",
    "    print(\"start function 1\")\n",
    "    func2()\n",
    "def func2():\n",
    "    print(\"start function 2\")\n",
    "    func3()\n",
    "\n",
    "def func3():\n",
    "    print(\"start function 3\")\n",
    "    3/0 # exception error\n",
    "func1()\n",
    "\n"
   ]
  },
  {
   "cell_type": "markdown",
   "metadata": {},
   "source": [
    "# logical error"
   ]
  },
  {
   "cell_type": "code",
   "execution_count": 7,
   "metadata": {},
   "outputs": [
    {
     "name": "stdout",
     "output_type": "stream",
     "text": [
      "12.566370614359172\n"
     ]
    }
   ],
   "source": [
    "import math\n",
    "\n",
    "circumference = lambda radius: math.pi*radius**2\n",
    "\n",
    "print(circumference(2))\n",
    "\n",
    "# program does what it has been told\n",
    "# we compute the area instead of the circumference\n",
    "# logical error -> hard to find"
   ]
  },
  {
   "cell_type": "markdown",
   "metadata": {},
   "source": [
    "## Try except\n",
    "\n",
    "- try block\n",
    "- except block\n",
    "- raise"
   ]
  },
  {
   "cell_type": "code",
   "execution_count": 19,
   "metadata": {},
   "outputs": [
    {
     "name": "stdout",
     "output_type": "stream",
     "text": [
      " Du år -43.0 år gammal\n"
     ]
    }
   ],
   "source": [
    "\n",
    "age = input(\" ange din ålder: \")\n",
    "age = float(age)\n",
    "\n",
    "# logical error with negative age\n",
    "print(f\" Du år {age} år gammal\")"
   ]
  },
  {
   "cell_type": "code",
   "execution_count": 13,
   "metadata": {},
   "outputs": [
    {
     "name": "stdout",
     "output_type": "stream",
     "text": [
      " Du är 42.0 år gammal\n",
      "pragrammet fortsätter här\n"
     ]
    }
   ],
   "source": [
    "\n",
    "print(\"pragrammet fortsätter här\")age = input(\" ange din ålder: \")\n",
    "try: # tried to covert \"fyrtiotvå\", program throws a valueError\n",
    "    age = float(age)\n",
    "    print(f\" Du är {age} år gammal\")\n",
    "except ValueError as err: # it get caught in the except block\n",
    "    print(err)"
   ]
  },
  {
   "cell_type": "code",
   "execution_count": 16,
   "metadata": {},
   "outputs": [
    {
     "name": "stdout",
     "output_type": "stream",
     "text": [
      "could not convert string to float: 'fyrtiotvå'\n",
      " Du är -2.0 år gammal\n"
     ]
    }
   ],
   "source": [
    "while True:\n",
    "    age = input(\" ange din ålder: \")\n",
    "\n",
    "    try:\n",
    "        age = float(age)\n",
    "        break\n",
    "    \n",
    "    except ValueError as err: \n",
    "        print(err)\n",
    "print(f\" Du är {age} år gammal\")"
   ]
  },
  {
   "cell_type": "code",
   "execution_count": 18,
   "metadata": {},
   "outputs": [
    {
     "name": "stdout",
     "output_type": "stream",
     "text": [
      "Åldern som du anger måste vara mellan 0 and 125\n",
      "could not convert string to float: 'fyrtiotvå'\n",
      " Du är 42.0 år gammal\n"
     ]
    }
   ],
   "source": [
    "while True:\n",
    "    age = input(\" ange din ålder: \")\n",
    "\n",
    "    try:\n",
    "        age = float(age)\n",
    "        if not 0 <= age <= 125:\n",
    "            raise ValueError(f\"Åldern som du anger måste vara mellan 0 and 125\")\n",
    "        break\n",
    "    \n",
    "    except ValueError as err: \n",
    "        print(err)\n",
    "print(f\" Du är {age} år gammal\")"
   ]
  }
 ],
 "metadata": {
  "kernelspec": {
   "display_name": "Python 3.9.13 ('Python-vineela-nedunuri-iPG0HSA5')",
   "language": "python",
   "name": "python3"
  },
  "language_info": {
   "codemirror_mode": {
    "name": "ipython",
    "version": 3
   },
   "file_extension": ".py",
   "mimetype": "text/x-python",
   "name": "python",
   "nbconvert_exporter": "python",
   "pygments_lexer": "ipython3",
   "version": "3.9.13"
  },
  "orig_nbformat": 4,
  "vscode": {
   "interpreter": {
    "hash": "1db1b2e8567942dee12c64de01d929677cea7f86428756000840da4d34ce3db5"
   }
  }
 },
 "nbformat": 4,
 "nbformat_minor": 2
}
