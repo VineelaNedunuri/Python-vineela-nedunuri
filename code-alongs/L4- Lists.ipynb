{
 "cells": [
  {
   "cell_type": "markdown",
   "metadata": {},
   "source": [
    "# Lists"
   ]
  },
  {
   "cell_type": "markdown",
   "metadata": {},
   "source": [
    "## Access elemnts"
   ]
  },
  {
   "cell_type": "code",
   "execution_count": 3,
   "metadata": {},
   "outputs": [
    {
     "name": "stdout",
     "output_type": "stream",
     "text": [
      "['pizza', 'lassagne', 'spagethi', 'pancakes', ' banana', 'grapes']\n",
      "nice_foods[0]='pizza'\n",
      "nice_foods[-1]='grapes'\n",
      "nice_foods[5]='grapes'\n",
      "nice_foods[-3]='pancakes'\n"
     ]
    }
   ],
   "source": [
    "# create a new list with some elements\n",
    "\n",
    "\n",
    "nice_foods = [\"pizza\", \"lassagne\", \"spagethi\", \"pancakes\",\" banana\", \"grapes\"]\n",
    "\n",
    "print(nice_foods)\n",
    "\n",
    "# get first element\n",
    "print(f\"{nice_foods[0]=}\")\n",
    "# gets last Element\n",
    "print(f\"{nice_foods[-1]=}\")\n",
    "print(f\"{nice_foods[5]=}\")\n",
    "\n",
    "# element på index 3\n",
    "print(f\"{nice_foods[-3]=}\")"
   ]
  },
  {
   "cell_type": "markdown",
   "metadata": {},
   "source": [
    "## Slicing"
   ]
  },
  {
   "cell_type": "code",
   "execution_count": 5,
   "metadata": {},
   "outputs": [
    {
     "name": "stdout",
     "output_type": "stream",
     "text": [
      "['pizza', 'lassagne', 'spagethi', 'pancakes', ' banana', 'grapes']\n",
      "nice_foods[1:4]=['lassagne', 'spagethi', 'pancakes']\n"
     ]
    }
   ],
   "source": [
    "print(nice_foods)\n",
    "print(f\"{nice_foods[1:4]=}\")\n",
    "\n"
   ]
  },
  {
   "cell_type": "code",
   "execution_count": 8,
   "metadata": {},
   "outputs": [
    {
     "name": "stdout",
     "output_type": "stream",
     "text": [
      "['pizza', 'lassagne', 'spagethi', 'pancakes', ' banana', 'grapes']\n",
      "nice_foods[1:4]=['lassagne', 'spagethi', 'pancakes']\n",
      "nice_foods[:-1]=['pizza', 'lassagne', 'spagethi', 'pancakes', ' banana']\n",
      "nice_foods[:4]=['pizza', 'lassagne', 'spagethi', 'pancakes']\n",
      "nice_foods[::-1]=['grapes', ' banana', 'pancakes', 'spagethi', 'lassagne', 'pizza']\n"
     ]
    }
   ],
   "source": [
    "print(nice_foods)\n",
    "print(f\"{nice_foods[1:4]=}\")\n",
    "\n",
    "print(f\"{nice_foods[:-1]=}\") # 0 to -2\n",
    "\n",
    "print(f\"{nice_foods[:4]=}\") # 0,1,2,3\n",
    "\n",
    "print(f\"{nice_foods[::-1]=}\") # reverse the list\n"
   ]
  },
  {
   "cell_type": "code",
   "execution_count": 9,
   "metadata": {},
   "outputs": [
    {
     "name": "stdout",
     "output_type": "stream",
     "text": [
      "[' banana', 'grapes', 'lassagne', 'pancakes', 'pizza', 'spagethi']\n"
     ]
    }
   ],
   "source": [
    " # sorting by first letter\n",
    "nice_foods.sort()\n",
    "\n",
    "print(nice_foods)"
   ]
  },
  {
   "cell_type": "code",
   "execution_count": 26,
   "metadata": {},
   "outputs": [
    {
     "name": "stdout",
     "output_type": "stream",
     "text": [
      "[-5, 1, 2, 5]\n"
     ]
    }
   ],
   "source": [
    "\n",
    "\n",
    "numbers = [2,1,5,-5]\n",
    "numbers.sort()\n",
    "\n",
    "# sorting ascending\n",
    "print(numbers)"
   ]
  },
  {
   "cell_type": "markdown",
   "metadata": {},
   "source": [
    "# for- loop with enumerate"
   ]
  },
  {
   "cell_type": "code",
   "execution_count": 6,
   "metadata": {},
   "outputs": [
    {
     "name": "stdout",
     "output_type": "stream",
     "text": [
      "['pizza', 'lassagne', 'spagethi', 'pancakes', ' banana', 'grapes']\n",
      "0. pizza\n",
      "1. lassagne\n",
      "2. spagethi\n",
      "3. pancakes\n",
      "4.  banana\n",
      "5. grapes\n"
     ]
    }
   ],
   "source": [
    "\n",
    "nice_foods = [\"pizza\", \"lassagne\", \"spagethi\", \"pancakes\",\" banana\", \"grapes\"]\n",
    "print(nice_foods)\n",
    "\n",
    "# enumerate => (index, element) in list\n",
    "for i, food in enumerate(nice_foods):\n",
    "    print(f\"{i}. {food}\")\n",
    "    -\"\"\"\n",
    "for i in range(len(nice_foods)):\n",
    "    print(f\"{i}.{nice_foods[i]}\")\n",
    "\"\"\";\n",
    "\n"
   ]
  },
  {
   "cell_type": "code",
   "execution_count": 7,
   "metadata": {},
   "outputs": [
    {
     "name": "stdout",
     "output_type": "stream",
     "text": [
      "0.pizza\n",
      "1.lassagne\n",
      "2.spagethi\n",
      "3.pancakes\n",
      "4. banana\n",
      "5.grapes\n"
     ]
    }
   ],
   "source": [
    "for i in range(len(nice_foods)):\n",
    "    print(f\"{i}.{nice_foods[i]}\")\n",
    "\n",
    "\n"
   ]
  },
  {
   "cell_type": "code",
   "execution_count": 15,
   "metadata": {},
   "outputs": [
    {
     "data": {
      "text/plain": [
       "[0, 1, 8, 27, 64, 125, 216, 343, 512, 729]"
      ]
     },
     "execution_count": 15,
     "metadata": {},
     "output_type": "execute_result"
    }
   ],
   "source": [
    "# cubes\n",
    "cubes = []\n",
    "for i  in range(10):\n",
    "    cubes.append(i**3) # i^3\n",
    "\n",
    "cubes"
   ]
  },
  {
   "cell_type": "code",
   "execution_count": 16,
   "metadata": {},
   "outputs": [
    {
     "data": {
      "text/plain": [
       "[0, 1, 8, 27, 64, 125, 216, 343, 512, 729]"
      ]
     },
     "execution_count": 16,
     "metadata": {},
     "output_type": "execute_result"
    }
   ],
   "source": [
    "# list comprehension\n",
    "cubes = [i**3 for i in range(10)]\n",
    "cubes"
   ]
  },
  {
   "cell_type": "code",
   "execution_count": 17,
   "metadata": {},
   "outputs": [
    {
     "data": {
      "text/plain": [
       "[1, 27, 125, 343, 729]"
      ]
     },
     "execution_count": 17,
     "metadata": {},
     "output_type": "execute_result"
    }
   ],
   "source": [
    "# cubes every odd number\n",
    "cubes_odd = [i**3 for i in range(10) if i%2!=0]\n",
    "cubes_odd"
   ]
  },
  {
   "cell_type": "code",
   "execution_count": 18,
   "metadata": {},
   "outputs": [
    {
     "data": {
      "text/plain": [
       "[4, 3, 4, 1, 2, 6, 5, 2, 4, 2]"
      ]
     },
     "execution_count": 18,
     "metadata": {},
     "output_type": "execute_result"
    }
   ],
   "source": [
    "import random as rnd\n",
    "#dice list\n",
    "dices = [rnd.randint(1,6) for _ in range(10)] # convention to use _ when not using the loop variable\n",
    "dices"
   ]
  },
  {
   "cell_type": "markdown",
   "metadata": {},
   "source": [
    "# lists in list"
   ]
  },
  {
   "cell_type": "code",
   "execution_count": 25,
   "metadata": {},
   "outputs": [
    {
     "name": "stdout",
     "output_type": "stream",
     "text": [
      "grades[1]=['B', 20]\n",
      "grades[1][0]='B'\n",
      "grades[1][1]=20\n"
     ]
    }
   ],
   "source": [
    "grades = [[\"A\", 25], [\"B\", 20], [\"F\", 5]]\n",
    "\n",
    "print(f\"{grades[1]=}\")\n",
    "print(f\"{grades[1][0]=}\")\n",
    "print(f\"{grades[1][1]=}\")\n"
   ]
  },
  {
   "cell_type": "markdown",
   "metadata": {},
   "source": []
  }
 ],
 "metadata": {
  "kernelspec": {
   "display_name": "Python 3.9.13 64-bit",
   "language": "python",
   "name": "python3"
  },
  "language_info": {
   "codemirror_mode": {
    "name": "ipython",
    "version": 3
   },
   "file_extension": ".py",
   "mimetype": "text/x-python",
   "name": "python",
   "nbconvert_exporter": "python",
   "pygments_lexer": "ipython3",
   "version": "3.9.13"
  },
  "orig_nbformat": 4,
  "vscode": {
   "interpreter": {
    "hash": "aa93088360420e47a92e6fc9121e9159dbf1900a5f483a704136b076cb810347"
   }
  }
 },
 "nbformat": 4,
 "nbformat_minor": 2
}
