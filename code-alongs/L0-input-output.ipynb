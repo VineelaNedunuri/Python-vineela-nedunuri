{
 "cells": [
  {
   "cell_type": "code",
   "execution_count": 11,
   "metadata": {},
   "outputs": [
    {
     "name": "stdout",
     "output_type": "stream",
     "text": [
      "hej\n"
     ]
    }
   ],
   "source": [
    "# Code along - input-output\n",
    "\n",
    "print(\"hej\")"
   ]
  },
  {
   "cell_type": "markdown",
   "metadata": {},
   "source": [
    "# Code along - input-output\n"
   ]
  },
  {
   "cell_type": "code",
   "execution_count": 12,
   "metadata": {},
   "outputs": [
    {
     "name": "stdout",
     "output_type": "stream",
     "text": [
      "hej Vineela, du är 31 gammal\n",
      "20\n"
     ]
    }
   ],
   "source": [
    "# variable - data type string\n",
    "name= \"Vineela\"\n",
    "\n",
    "# variable- data type float\n",
    "age= 31\n",
    "\n",
    "# this is an f -strng (formated string)\n",
    "print(f\"hej {name}, du är {age} gammal\")\n",
    "\n",
    "# reassigns\n",
    "# note: bad practice\n",
    "name= 20\n",
    "print(name)"
   ]
  },
  {
   "cell_type": "code",
   "execution_count": 13,
   "metadata": {},
   "outputs": [
    {
     "name": "stdout",
     "output_type": "stream",
     "text": [
      "1 2 3 4\n",
      "1*2*3*4\n",
      "1#2#3#4&"
     ]
    }
   ],
   "source": [
    "print(1, 2, 3, 4)\n",
    "print(1, 2, 3,4, sep='*')\n",
    "print(1, 2, 3, 4, sep='#', end='&')\n"
   ]
  },
  {
   "cell_type": "markdown",
   "metadata": {},
   "source": [
    "# calculations\n"
   ]
  },
  {
   "cell_type": "markdown",
   "metadata": {},
   "source": [
    "# Add two numbers"
   ]
  },
  {
   "cell_type": "code",
   "execution_count": 17,
   "metadata": {},
   "outputs": [
    {
     "name": "stdout",
     "output_type": "stream",
     "text": [
      "The sum of 13.6 and 5.7 is 19.3\n"
     ]
    }
   ],
   "source": [
    "# This program adds two number\n",
    "\n",
    "num1 = 13.6\n",
    "num2 = 5.7\n",
    "\n",
    "# add two numbers\n",
    "sum = num1 + num2\n",
    "\n",
    "# display the sum\n",
    "print('The sum of {0} and {1} is {2}'.format(num1, num2, sum))"
   ]
  },
  {
   "cell_type": "code",
   "execution_count": 18,
   "metadata": {},
   "outputs": [
    {
     "name": "stdout",
     "output_type": "stream",
     "text": [
      "The sum of 26.5 and 27 is 53.5\n"
     ]
    }
   ],
   "source": [
    "# Add number with user input\n",
    "\n",
    "# Store input numbers\n",
    "num1 = input('Enter the first number: ')\n",
    "num2 = input('Enter the second number: ')\n",
    " \n",
    "# add two numbers\n",
    "sum = float(num1) + float(num2)\n",
    "\n",
    "# display the sum\n",
    "print('The sum of {0} and {1} is {2}'.format(num1, num2, sum))"
   ]
  },
  {
   "cell_type": "code",
   "execution_count": 14,
   "metadata": {},
   "outputs": [
    {
     "name": "stdout",
     "output_type": "stream",
     "text": [
      "608.84\n"
     ]
    }
   ],
   "source": [
    "gravity = 9.82\n",
    "mass = 62\n",
    "\n",
    "force = mass*gravity\n",
    "print(force)"
   ]
  },
  {
   "cell_type": "code",
   "execution_count": 21,
   "metadata": {},
   "outputs": [
    {
     "name": "stdout",
     "output_type": "stream",
     "text": [
      "force=274.96000000000004N\n",
      "274.96000000000004 { }\n",
      "{}\n"
     ]
    }
   ],
   "source": [
    "mass = float(input(\"Enter your mass(kg): \")) # string\n",
    "# cannot multiply string with a float\n",
    "force = mass*gravity\n",
    "\n",
    "# :.1f -> rounds to 1 decimal\n",
    "\n",
    "print(f\"{force=}N\")\n",
    "\n",
    "# <=> print(f\"force={force:.1f}N\")\n",
    "\n",
    "# in order to print {} curly brackets\n",
    "print(f\"{force} \\u007b \\u007d\")\n",
    "print(f\"{{}}\")\n"
   ]
  },
  {
   "cell_type": "code",
   "execution_count": null,
   "metadata": {},
   "outputs": [],
   "source": []
  }
 ],
 "metadata": {
  "kernelspec": {
   "display_name": "Python 3.9.13 64-bit",
   "language": "python",
   "name": "python3"
  },
  "language_info": {
   "codemirror_mode": {
    "name": "ipython",
    "version": 3
   },
   "file_extension": ".py",
   "mimetype": "text/x-python",
   "name": "python",
   "nbconvert_exporter": "python",
   "pygments_lexer": "ipython3",
   "version": "3.9.13"
  },
  "orig_nbformat": 4,
  "vscode": {
   "interpreter": {
    "hash": "aa93088360420e47a92e6fc9121e9159dbf1900a5f483a704136b076cb810347"
   }
  }
 },
 "nbformat": 4,
 "nbformat_minor": 2
}
